{
 "cells": [
  {
   "cell_type": "code",
   "execution_count": 1,
   "metadata": {},
   "outputs": [
    {
     "name": "stdout",
     "output_type": "stream",
     "text": [
      "Running on device: CUDA\n"
     ]
    }
   ],
   "source": [
    "import os\n",
    "import requests\n",
    "import random\n",
    "import math\n",
    "import numpy as np\n",
    "import matplotlib.pyplot as plt\n",
    "from sklearn import linear_model, model_selection\n",
    "from tqdm import tqdm\n",
    "from scipy.special import kl_div\n",
    "import gc\n",
    "from sklearn.metrics.pairwise import cosine_similarity, euclidean_distances\n",
    "import pandas as pd\n",
    "from copy import deepcopy\n",
    "\n",
    "import torch\n",
    "from torch.nn import functional\n",
    "from torch import nn\n",
    "from torch.nn.utils import prune\n",
    "from torch import optim\n",
    "from torch.utils.data import DataLoader, Dataset, TensorDataset, Subset\n",
    "from torch.optim.lr_scheduler import _LRScheduler\n",
    "\n",
    "import torchvision\n",
    "from torchvision import transforms\n",
    "from torchvision.utils import make_grid\n",
    "from torchvision.models import resnet18\n",
    "from torchvision.models.feature_extraction import create_feature_extractor\n",
    "\n",
    "DEVICE = \"cuda\" if torch.cuda.is_available() else \"cpu\"\n",
    "print(\"Running on device:\", DEVICE.upper())\n",
    "\n",
    "# manual random seed is used for dataset partitioning\n",
    "# to ensure reproducible results across runs\n",
    "SEED = 42\n",
    "RNG = torch.Generator().manual_seed(SEED)\n",
    "random.seed(SEED)\n",
    "torch.manual_seed(SEED)\n",
    "\n",
    "import sys\n",
    "sys.path.append('../')\n",
    "from utils import *\n",
    "\n",
    "# sys.path.append('../SSD/')\n",
    "# import importlib\n",
    "# importlib.reload(ssd)\n",
    "# import ssd as ssd"
   ]
  },
  {
   "cell_type": "code",
   "execution_count": 2,
   "metadata": {},
   "outputs": [],
   "source": [
    "import ssl\n",
    "\n",
    "# Create an unverified SSL context\n",
    "ssl._create_default_https_context = ssl._create_unverified_context"
   ]
  },
  {
   "cell_type": "code",
   "execution_count": 3,
   "metadata": {},
   "outputs": [],
   "source": [
    "batch_size = 256\n",
    "\n",
    "# download and pre-process CIFAR10\n",
    "normalize = transforms.Compose(\n",
    "    [\n",
    "        transforms.ToTensor(),\n",
    "        transforms.Normalize((0.4914, 0.4822, 0.4465), (0.2023, 0.1994, 0.2010)),\n",
    "    ]\n",
    ")\n",
    "\n",
    "train_set = torchvision.datasets.CIFAR10(\n",
    "    root=\"../example notebooks/data\", train=True, download=False, transform=normalize\n",
    ")\n",
    "train_loader = DataLoader(train_set, batch_size=batch_size, shuffle=True, num_workers=1)\n",
    "\n",
    "# we split held out data into test and validation set\n",
    "held_out = torchvision.datasets.CIFAR10(\n",
    "    root=\"../example notebooks/data\", train=False, download=False, transform=normalize\n",
    ")\n",
    "test_set, val_set = torch.utils.data.random_split(held_out, [0.5, 0.5], generator=RNG)\n",
    "test_loader = DataLoader(test_set, batch_size=batch_size, shuffle=False, num_workers=1)\n",
    "val_loader = DataLoader(val_set, batch_size=batch_size, shuffle=False, num_workers=1)\n",
    "\n",
    "# download the forget and retain index split\n",
    "local_path = \"../example notebooks/forget_idx.npy\"\n",
    "# if not os.path.exists(local_path):\n",
    "#     response = requests.get(\n",
    "#         \"https://storage.googleapis.com/unlearning-challenge/\" + local_path\n",
    "#     )\n",
    "#     open(local_path, \"wb\").write(response.content)\n",
    "forget_idx = np.load(local_path)\n",
    "forget_idx = random.sample(list(forget_idx),600)\n",
    "\n",
    "# construct indices of retain from those of the forget set\n",
    "forget_mask = np.zeros(len(train_set.targets), dtype=bool)\n",
    "forget_mask[forget_idx] = True\n",
    "retain_idx = np.arange(forget_mask.size)[~forget_mask]\n",
    "retain_idx = random.sample(list(retain_idx),29400)\n",
    "\n",
    "# split train set into a forget and a retain set\n",
    "forget_set = torch.utils.data.Subset(train_set, forget_idx)\n",
    "retain_set = torch.utils.data.Subset(train_set, retain_idx)\n",
    "\n",
    "forget_loader = torch.utils.data.DataLoader(\n",
    "    forget_set, batch_size=batch_size, shuffle=True, drop_last=False\n",
    ")\n",
    "retain_loader = torch.utils.data.DataLoader(\n",
    "    retain_set, batch_size=batch_size, shuffle=True, generator=RNG #, drop_last=True\n",
    ")"
   ]
  },
  {
   "cell_type": "code",
   "execution_count": 4,
   "metadata": {},
   "outputs": [],
   "source": [
    "def remove_retain_similar_to_forget(feats_retain_df, feats_forget_df, batch_size=64, similarity_metric='cosine', similarity_pct=0.1):\n",
    "    features_retain = feats_retain_df.iloc[:,1:].values\n",
    "    features_forget = feats_forget_df.iloc[:,1:].values\n",
    "\n",
    "    # Compute max similarity\n",
    "    max_similarity = np.empty(features_retain.shape[0])\n",
    "    for i in range(0, features_retain.shape[0], 512):\n",
    "        batch_features_retain = features_retain[i:i+512]\n",
    "        if similarity_metric=='euclidean':\n",
    "            similarity_matrix = euclidean_distances(batch_features_retain, features_forget)\n",
    "            max_similarity[i:i+512] = np.min(similarity_matrix, axis=1)\n",
    "            top_X_pct_idx = np.argsort(max_similarity)[:int(similarity_pct * len(max_similarity))]\n",
    "        elif similarity_metric=='cosine':\n",
    "            similarity_matrix = cosine_similarity(batch_features_retain, features_forget)\n",
    "            max_similarity[i:i+512] = np.max(similarity_matrix, axis=1)\n",
    "            top_X_pct_idx = np.argsort(max_similarity)[-int(similarity_pct * len(max_similarity)):]\n",
    "\n",
    "    # Get X% of data points\n",
    "    similar_df = feats_retain_df.iloc[top_X_pct_idx]\n",
    "    similar_ids_set = set(top_X_pct_idx)\n",
    "    \n",
    "    include_indices = [i for i,data_id in enumerate(feats_retain_df['unique_id']) if data_id not in similar_ids_set]\n",
    "    filtered_dataset = Subset(retain_loader.dataset, include_indices)\n",
    "    \n",
    "    return DataLoader(filtered_dataset, batch_size=batch_size, shuffle=True)"
   ]
  },
  {
   "cell_type": "code",
   "execution_count": 5,
   "metadata": {},
   "outputs": [],
   "source": [
    "def reduce_dataset(\n",
    "    net, \n",
    "    retain_loader, \n",
    "    forget_loader,\n",
    "    similarity_pct\n",
    "):\n",
    "    \n",
    "    '''\n",
    "    Feature extraction\n",
    "    '''\n",
    "    \n",
    "    feat_extractor = create_feature_extractor(net, {'avgpool': 'feat1'})\n",
    "    \n",
    "    '''\n",
    "    Get class weights\n",
    "    '''\n",
    "    \n",
    "    # Retain logits\n",
    "    list_of_targets = []\n",
    "    start_idx = 0\n",
    "    data = np.empty((len(retain_loader.dataset), 513), dtype=object)\n",
    "    idx = 0\n",
    "    \n",
    "    with torch.no_grad():\n",
    "        for sample in retain_loader:\n",
    "            # Get logits\n",
    "            targets = sample[1]\n",
    "            list_of_targets.append(np.array(targets))\n",
    "            \n",
    "            # Feature extraction\n",
    "            inputs = sample[0]\n",
    "            person_id = sample[1]\n",
    "            image_id = sample[1]\n",
    "            outputs = feat_extractor(inputs.to(DEVICE))['feat1']\n",
    "            feats = torch.flatten(outputs, start_dim=1)\n",
    "        \n",
    "            for i in range(len(targets)):\n",
    "                data[idx] = [str(person_id[i])+'-'+str(image_id[i])] + feats[i].cpu().numpy().tolist()\n",
    "                idx +=1\n",
    "            \n",
    "    retain_class_weights = torch.tensor(1/np.bincount(np.concatenate(list_of_targets).ravel())).to(DEVICE, dtype=torch.float32)\n",
    "       \n",
    "    columns = ['unique_id'] + [f'feat_{i}' for i in range(512)]\n",
    "    feats_retain_df = pd.DataFrame(data, columns=columns)\n",
    "    \n",
    "    # Forget logits\n",
    "    list_of_targets = []\n",
    "    start_idx = 0\n",
    "    data = np.empty((len(forget_loader.dataset), 513), dtype=object)\n",
    "    idx = 0\n",
    "    \n",
    "    with torch.no_grad():\n",
    "        for sample in forget_loader:\n",
    "            # Get logits\n",
    "            targets = sample[1]\n",
    "            list_of_targets.append(np.array(targets))\n",
    "            \n",
    "            # Feature extraction\n",
    "            inputs = sample[0]\n",
    "            person_id = sample[1]\n",
    "            image_id = sample[1]\n",
    "            outputs = feat_extractor(inputs.to(DEVICE))['feat1']\n",
    "            feats = torch.flatten(outputs, start_dim=1)\n",
    "        \n",
    "            for i in range(len(targets)):\n",
    "                data[idx] = [str(person_id[i])+'-'+str(image_id[i])] + feats[i].cpu().numpy().tolist()\n",
    "                idx +=1\n",
    "            \n",
    "    forget_class_weights = torch.tensor(1/np.bincount(np.concatenate(list_of_targets).ravel())).to(DEVICE, dtype=torch.float32)\n",
    "       \n",
    "    columns = ['unique_id'] + [f'feat_{i}' for i in range(512)]\n",
    "    feats_forget_df = pd.DataFrame(data, columns=columns)\n",
    "    \n",
    "    '''\n",
    "    Reduce retain dataset\n",
    "    '''\n",
    "    \n",
    "    retain_loader = remove_retain_similar_to_forget(feats_retain_df, feats_forget_df, batch_size=retain_loader.batch_size, similarity_metric='euclidean', similarity_pct=similarity_pct)\n",
    "    \n",
    "    return retain_class_weights, forget_class_weights, retain_loader"
   ]
  },
  {
   "cell_type": "code",
   "execution_count": 6,
   "metadata": {},
   "outputs": [],
   "source": [
    "local_path = \"../example notebooks/weights/weights_resnet18_cifar10.pth\"\n",
    "if not os.path.exists(local_path):\n",
    "    response = requests.get(\n",
    "        \"https://storage.googleapis.com/unlearning-challenge/weights_resnet18_cifar10.pth\"\n",
    "    )\n",
    "    open(local_path, \"wb\").write(response.content)\n",
    "\n",
    "weights_pretrained = torch.load(local_path, map_location=DEVICE) #43Mbs\n",
    "# weights_pretrained = torch.load(\"../checkpoints/0.pt\", map_location=DEVICE)\n",
    "\n",
    "# load model with pre-trained weights\n",
    "net = resnet18(weights=None, num_classes=10)\n",
    "net.load_state_dict(weights_pretrained)\n",
    "net.to(DEVICE)\n",
    "net.eval();\n",
    "\n",
    "RAR = accuracy(net, retain_loader)\n",
    "TAR = accuracy(net, test_loader)"
   ]
  },
  {
   "cell_type": "code",
   "execution_count": 7,
   "metadata": {},
   "outputs": [],
   "source": [
    "# Reduce retain set and calculate class weights\n",
    "# retain_class_weights, forget_class_weights, retain_loader = reduce_dataset(net, retain_loader, forget_loader, similarity_pct=0.20)"
   ]
  },
  {
   "cell_type": "code",
   "execution_count": 8,
   "metadata": {},
   "outputs": [],
   "source": [
    "def calculate_loss(model, inputs, targets):\n",
    "    model.eval()\n",
    "    with torch.no_grad():\n",
    "        outputs = model(inputs)\n",
    "        loss = torch.nn.CrossEntropyLoss(reduction=\"none\")(outputs, targets)\n",
    "    return loss.detach().cpu().numpy()"
   ]
  },
  {
   "cell_type": "code",
   "execution_count": 9,
   "metadata": {},
   "outputs": [],
   "source": [
    "def average_gradient_from_loader(model, optimizer, loader, num_batches):\n",
    "    last_linear_layer = model.fc\n",
    "    avg_grad = None\n",
    "    criterion = nn.CrossEntropyLoss()\n",
    "    \n",
    "    count = 0\n",
    "    for i, (data, target) in enumerate(loader):\n",
    "        if i >= num_batches:\n",
    "            break\n",
    "        data, target = data.to(DEVICE), target.to(DEVICE)\n",
    "        optimizer.zero_grad()\n",
    "        output = model(data)\n",
    "        loss = criterion(output, target)\n",
    "        loss.backward()\n",
    "        if avg_grad is None:\n",
    "            avg_grad = last_linear_layer.weight.grad.clone()\n",
    "        else:\n",
    "            avg_grad += last_linear_layer.weight.grad.clone()\n",
    "\n",
    "        count +=1\n",
    "\n",
    "        return avg_grad / count"
   ]
  },
  {
   "cell_type": "markdown",
   "metadata": {},
   "source": [
    "# Calculate losses from trained from scratch"
   ]
  },
  {
   "cell_type": "code",
   "execution_count": 10,
   "metadata": {},
   "outputs": [],
   "source": [
    "original_losses = [[] for _ in range(len(forget_loader.dataset))]\n",
    "\n",
    "for checkpoint in os.listdir('../unlearn metric/checkpoints/'):\n",
    "\n",
    "    weights_pretrained = torch.load(f\"../unlearn metric/checkpoints/{checkpoint}\", map_location=DEVICE)\n",
    "    try:\n",
    "        net.load_state_dict(weights_pretrained['net'])\n",
    "    except:\n",
    "        net.load_state_dict(weights_pretrained['model_state_dict'])\n",
    "    net.to(DEVICE)\n",
    "    net.eval();\n",
    "\n",
    "    run_losses = []\n",
    "\n",
    "    for inputs, targets in forget_loader:\n",
    "        inputs, targets = inputs.to(DEVICE), targets.to(DEVICE)\n",
    "        batch_losses = calculate_loss(net, inputs, targets)\n",
    "        run_losses.extend(batch_losses)\n",
    "\n",
    "    for idx, loss in enumerate(run_losses):\n",
    "        original_losses[idx].append(loss)"
   ]
  },
  {
   "cell_type": "markdown",
   "metadata": {},
   "source": [
    "# Unlearn"
   ]
  },
  {
   "cell_type": "code",
   "execution_count": 11,
   "metadata": {},
   "outputs": [],
   "source": [
    "# Function to inject noise into the model's weights\n",
    "def inject_noise(model, noise_level=0.01):\n",
    "    with torch.no_grad():\n",
    "        for name, param in model.named_parameters():\n",
    "            if 'weight' in name:\n",
    "                noise = torch.randn_like(param) * param.abs() * noise_level\n",
    "                param.add_(noise)\n",
    "            elif 'bias' in name:\n",
    "                noise = torch.randn_like(param) * param.abs() * noise_level\n",
    "                param.add_(noise)"
   ]
  },
  {
   "cell_type": "code",
   "execution_count": 12,
   "metadata": {},
   "outputs": [],
   "source": [
    "def inject_decay_noise(model, base_noise_level, decay_rate, global_step, min_noise_level=1e-6):\n",
    "    with torch.no_grad():\n",
    "        decayed_noise_level = max(base_noise_level * (decay_rate ** global_step), min_noise_level)\n",
    "        if decayed_noise_level <= min_noise_level:\n",
    "            return  # Skip noise injection if the level is below the threshold\n",
    "        for name, param in model.named_parameters():\n",
    "            if 'weight' in name:\n",
    "                noise = torch.randn_like(param) * decayed_noise_level * param.abs()\n",
    "                param.add_(noise)\n",
    "            elif 'bias' in name:\n",
    "                noise = torch.randn_like(param) * decayed_noise_level * param.abs()\n",
    "                param.add_(noise)"
   ]
  },
  {
   "cell_type": "code",
   "execution_count": 13,
   "metadata": {},
   "outputs": [],
   "source": [
    "class ReverseCosineAnnealingLR(_LRScheduler):\n",
    "    def __init__(self, optimizer, T_max, last_epoch=-1, eta_min=0):\n",
    "        self.T_max = T_max\n",
    "        self.eta_min = eta_min\n",
    "        super().__init__(optimizer, last_epoch)\n",
    "\n",
    "    def get_lr(self):\n",
    "        return [\n",
    "            self.eta_min\n",
    "            + (\n",
    "                0.5\n",
    "                * (base_lr - self.eta_min)\n",
    "                * (1 + math.cos(math.pi * (1 - (self.last_epoch) / self.T_max)))\n",
    "            )\n",
    "            for base_lr in self.base_lrs\n",
    "        ]"
   ]
  },
  {
   "cell_type": "code",
   "execution_count": 14,
   "metadata": {},
   "outputs": [],
   "source": [
    "def rewind(net, retain_loader, forget_loader, LR, epochs=1):\n",
    "\n",
    "    criterion = nn.CrossEntropyLoss(label_smoothing=0.05)\n",
    "    optimizer = optim.SGD(net.parameters(), lr=LR, momentum=0.9, weight_decay=5e-3)\n",
    "    scheduler = ReverseCosineAnnealingLR(optimizer, T_max=30*(len(retain_loader)+1))\n",
    "\n",
    "    net.train()\n",
    "\n",
    "    for _ in range(epochs):\n",
    "\n",
    "        retain_not_depleted = True\n",
    "        iter_retain = iter(retain_loader)\n",
    "    \n",
    "        inject_noise(net, noise_level=0.05)\n",
    "\n",
    "        # Retain rewind\n",
    "        while retain_not_depleted:\n",
    "            try:\n",
    "                sample = next(iter_retain)\n",
    "            except StopIteration:\n",
    "                retain_not_depleted = False\n",
    "                break\n",
    "\n",
    "            inputs, targets = sample\n",
    "            inputs, targets = inputs.to(DEVICE), targets.to(DEVICE)\n",
    "        \n",
    "            optimizer.zero_grad()\n",
    "            outputs = net(inputs)\n",
    "            loss = -1.0*criterion(outputs, targets)\n",
    "            loss.backward()\n",
    "\n",
    "            # nn.utils.clip_grad_value_(net.parameters(), 2)\n",
    "\n",
    "            optimizer.step()\n",
    "            scheduler.step()\n",
    "\n",
    "        # Forget rewind\n",
    "        for _ in range(4):\n",
    "\n",
    "            forget_not_depleted = True\n",
    "            iter_forget = iter(forget_loader)\n",
    "\n",
    "            while forget_not_depleted:\n",
    "                try:\n",
    "                    sample = next(iter_forget)\n",
    "                except StopIteration:\n",
    "                    forget_not_depleted = False\n",
    "                    break\n",
    "\n",
    "                inputs, targets = sample\n",
    "                inputs, targets = inputs.to(DEVICE), targets.to(DEVICE)\n",
    "\n",
    "                optimizer.zero_grad()\n",
    "                outputs = net(inputs)\n",
    "                loss = -1.0*criterion(outputs, targets)\n",
    "                loss.backward()\n",
    "\n",
    "                # nn.utils.clip_grad_value_(net.parameters(), 2)\n",
    "\n",
    "                optimizer.step()\n",
    "                scheduler.step()\n",
    "\n",
    "        # print(f'Forget acc: {accuracy(net, forget_loader)}')\n",
    "        # print(f'Test acc: {accuracy(net, test_loader)}')\n",
    "\n",
    "\n",
    "    return optimizer.param_groups[0]['lr']"
   ]
  },
  {
   "cell_type": "code",
   "execution_count": 15,
   "metadata": {},
   "outputs": [],
   "source": [
    "def retrain_slow(net, retain, initial_lr=0.1, noise_level=0.2, epochs=1, steps_per_epoch=len(retain_loader)):\n",
    "\n",
    "    current_batch = 0\n",
    "    warmup_batches = steps_per_epoch//2\n",
    "    global_step = 0\n",
    "\n",
    "    criterion = nn.CrossEntropyLoss(label_smoothing=0.0)\n",
    "    optimizer = optim.SGD(net.parameters(), lr=initial_lr, momentum=0.9, weight_decay=5e-3)\n",
    "    scheduler = torch.optim.lr_scheduler.CosineAnnealingLR(optimizer, T_max=epochs*len(retain_loader))\n",
    "\n",
    "    net.train()\n",
    "\n",
    "    if noise_level>0:\n",
    "        inject_noise(net, noise_level=noise_level)\n",
    "\n",
    "    for ep in range(epochs):\n",
    "\n",
    "        for inputs, targets in retain:\n",
    "\n",
    "            inputs, targets = inputs.to(DEVICE), targets.to(DEVICE)\n",
    "\n",
    "            current_batch += 1\n",
    "\n",
    "            # Warm-up for the first 'warmup_batches' batches\n",
    "            if current_batch <= warmup_batches:\n",
    "                adjust_learning_rate(optimizer, current_batch, warmup_batches, initial_lr)\n",
    "\n",
    "            optimizer.zero_grad()\n",
    "            outputs = net(inputs)\n",
    "            loss = criterion(outputs, targets)\n",
    "            loss.backward()\n",
    "\n",
    "            # nn.utils.clip_grad_value_(net.parameters(), 2)\n",
    "            \n",
    "            optimizer.step()\n",
    "            global_step += 1\n",
    "\n",
    "            # if global_step>=steps_per_epoch:\n",
    "            #     break\n",
    "\n",
    "            scheduler.step()"
   ]
  },
  {
   "cell_type": "code",
   "execution_count": 16,
   "metadata": {},
   "outputs": [],
   "source": [
    "class DistillKL(nn.Module):\n",
    "    def __init__(self, T):\n",
    "        super(DistillKL, self).__init__()\n",
    "        self.T = T\n",
    "\n",
    "    def forward(self, y_s, y_t):\n",
    "        p_s = functional.log_softmax(y_s/self.T, dim=1)\n",
    "        p_t = functional.softmax(y_t/self.T, dim=1)\n",
    "        loss = functional.kl_div(p_s, p_t, size_average=False) * (self.T**2) / y_s.shape[0]\n",
    "        return loss"
   ]
  },
  {
   "cell_type": "code",
   "execution_count": 17,
   "metadata": {},
   "outputs": [],
   "source": [
    "class SCRUBTraining:\n",
    "    def __init__(self, teacher, student, retain_dataloader, forget_dataloader, K=4.0, LR=0.01):\n",
    "        self.teacher = teacher\n",
    "        self.student = student\n",
    "        self.retain_dataloader = retain_dataloader\n",
    "        self.forget_dataloader = forget_dataloader\n",
    "        self.LR = LR\n",
    "        self.K = K\n",
    "\n",
    "        self.criterion_cls = nn.CrossEntropyLoss()\n",
    "        self.criterion_div = DistillKL(K)\n",
    "        self.criterion_kd = DistillKL(K)\n",
    "\n",
    "        self.optimizer = optim.SGD(student.parameters(), lr=LR, momentum=0.9, weight_decay=5e-3)\n",
    "\n",
    "    def train_epoch(self):\n",
    "        self.student.train()\n",
    "        self.teacher.eval()\n",
    "\n",
    "        # Function to compute accuracy.\n",
    "        def compute_accuracy(outputs, labels):\n",
    "            _, predicted = outputs.max(1)\n",
    "            total = labels.size(0)\n",
    "            correct = predicted.eq(labels).sum().item()\n",
    "            return 100 * correct / total\n",
    "\n",
    "        total_loss_retain, total_accuracy_retain = 0, 0\n",
    "        total_loss_forget, total_accuracy_forget = 0, 0\n",
    "\n",
    "        # Training with retain data.\n",
    "        for inputs_retain, labels_retain in self.retain_dataloader:\n",
    "            inputs_retain, labels_retain = inputs_retain.cuda(), labels_retain.cuda()\n",
    "\n",
    "            # Forward pass: Student\n",
    "            outputs_retain_student = self.student(inputs_retain)\n",
    "\n",
    "            # Forward pass: Teacher\n",
    "            with torch.no_grad():\n",
    "                outputs_retain_teacher = self.teacher(inputs_retain)\n",
    "\n",
    "            # Loss computation\n",
    "            loss_cls = self.criterion_cls(outputs_retain_student, labels_retain)\n",
    "            loss_div_retain = self.criterion_div(outputs_retain_student, outputs_retain_teacher)\n",
    "\n",
    "            loss = loss_cls + loss_div_retain\n",
    "\n",
    "            # Update total loss and accuracy for retain data.\n",
    "            # total_loss_retain += loss.item()\n",
    "            # total_accuracy_retain += compute_accuracy(outputs_retain_student, labels_retain)\n",
    "\n",
    "            # Backward pass\n",
    "            self.optimizer.zero_grad()\n",
    "            loss.backward()\n",
    "            # nn.utils.clip_grad_value_(self.student.parameters(), 2)\n",
    "            self.optimizer.step()\n",
    "\n",
    "        # Training with forget data.\n",
    "        for inputs_forget, labels_forget in self.forget_dataloader:\n",
    "            inputs_forget, labels_forget = inputs_forget.cuda(), labels_forget.cuda()\n",
    "\n",
    "            # Forward pass: Student\n",
    "            outputs_forget_student = self.student(inputs_forget)\n",
    "\n",
    "            # Forward pass: Teacher\n",
    "            with torch.no_grad():\n",
    "                outputs_forget_teacher = self.teacher(inputs_forget)\n",
    "\n",
    "            # We want to maximize the divergence for the forget data.\n",
    "            loss_div_forget = -self.criterion_div(outputs_forget_student, outputs_forget_teacher)\n",
    "\n",
    "            # Update total loss and accuracy for forget data.\n",
    "            # total_loss_forget += loss_div_forget.item()\n",
    "            # total_accuracy_forget += compute_accuracy(outputs_forget_student, labels_forget)\n",
    "\n",
    "            # Backward pass\n",
    "            self.optimizer.zero_grad()\n",
    "            loss_div_forget.backward()\n",
    "            # nn.utils.clip_grad_value_(self.student.parameters(), 2)\n",
    "            self.optimizer.step()\n",
    "\n",
    "        # Print average loss and accuracy for the entire epoch\n",
    "        # avg_loss_retain = total_loss_retain / len(self.retain_dataloader)\n",
    "        # avg_accuracy_retain = total_accuracy_retain / len(self.retain_dataloader)\n",
    "\n",
    "        # avg_loss_forget = total_loss_forget / len(self.forget_dataloader)\n",
    "        # avg_accuracy_forget = total_accuracy_forget / len(self.forget_dataloader)\n",
    "\n",
    "        # print(f'Epoch Retain: Avg Loss: {avg_loss_retain:.4f}, Avg Accuracy: {avg_accuracy_retain:.2f}%')\n",
    "        # print(f'Epoch Forget: Avg Loss: {avg_loss_forget:.4f}, Avg Accuracy: {avg_accuracy_forget:.2f}%')"
   ]
  },
  {
   "cell_type": "code",
   "execution_count": 18,
   "metadata": {},
   "outputs": [],
   "source": [
    "# # Load original model\n",
    "# weights_pretrained = torch.load(local_path, map_location=DEVICE)\n",
    "# original_model = resnet18(weights=None, num_classes=10)\n",
    "# original_model.load_state_dict(weights_pretrained)\n",
    "# original_model.to(DEVICE)\n",
    "# original_model.train()\n",
    "\n",
    "# scrub_model = deepcopy(original_model)\n",
    "# scrub_model.to(DEVICE)\n",
    "# scrub_model.train()\n",
    "# unstructure_prune(net, pruning_amount=0.5, global_pruning=True, random_init=False, only_fc=False)\n",
    "# # inject_noise(net, noise_level=0.1)\n",
    "# # scrub_model.fc.reset_parameters()\n"
   ]
  },
  {
   "cell_type": "code",
   "execution_count": 19,
   "metadata": {},
   "outputs": [],
   "source": [
    "# teacher = original_model\n",
    "# student = scrub_model\n",
    "\n",
    "# # Initialize and train\n",
    "# intermid_lr = rewind(student, retain_loader, forget_loader, 0.01, epochs=3)\n",
    "# inject_noise(student, noise_level=0.1)\n",
    "# student.fc.reset_parameters()\n",
    "# scrub_trainer = SCRUBTraining(teacher, student, retain_loader, forget_loader, 0.01)\n",
    "\n",
    "# num_epochs = 15\n",
    "# for epoch in range(num_epochs):\n",
    "#     scrub_trainer.train_epoch()\n",
    "#     print(f\"Epoch {epoch+1} completed.\")"
   ]
  },
  {
   "cell_type": "markdown",
   "metadata": {},
   "source": [
    "# Calculate losses from unlearn model"
   ]
  },
  {
   "cell_type": "code",
   "execution_count": 20,
   "metadata": {},
   "outputs": [],
   "source": [
    "# Clean\n",
    "gc.collect()\n",
    "torch.cuda.empty_cache()"
   ]
  },
  {
   "cell_type": "code",
   "execution_count": 21,
   "metadata": {},
   "outputs": [
    {
     "name": "stderr",
     "output_type": "stream",
     "text": [
      "  0%|          | 0/16 [00:00<?, ?it/s]c:\\Users\\luis.pinto1\\AppData\\Local\\Programs\\Python\\Python310\\lib\\site-packages\\torch\\nn\\_reduction.py:42: UserWarning: size_average and reduce args will be deprecated, please use reduction='sum' instead.\n",
      "  warnings.warn(warning.format(ret))\n",
      "100%|██████████| 16/16 [10:23<00:00, 38.99s/it]\n"
     ]
    }
   ],
   "source": [
    "X = len(os.listdir('../unlearn metric/checkpoints/'))  # number of times to run the unlearning algorithm\n",
    "unlearn_losses = [[] for _ in range(len(forget_loader.dataset))]  # List of lists to hold losses per sample index\n",
    "forget_accs = []\n",
    "test_accs = []\n",
    "retain_accs = []\n",
    "\n",
    "for i in tqdm(range(X)):\n",
    "    \n",
    "    # Load original model\n",
    "    weights_pretrained = torch.load(local_path, map_location=DEVICE)\n",
    "    teacher = resnet18(weights=None, num_classes=10)\n",
    "    teacher.load_state_dict(weights_pretrained)\n",
    "    teacher.to(DEVICE)\n",
    "    teacher.train()\n",
    "\n",
    "    student = deepcopy(teacher)\n",
    "    student.to(DEVICE)\n",
    "    student.train()\n",
    "\n",
    "    rewind_lr = 0.01\n",
    "    rewind_epochs = 3\n",
    "    pruning = 0.5\n",
    "    LR_ = 0.002\n",
    "    noise_level = 0\n",
    "    scrubs_epochs = 6\n",
    "    reset_fc = False\n",
    "    \n",
    "\n",
    "    # Initialize and train\n",
    "    if pruning>0:\n",
    "        unstructure_prune(student, pruning_amount=pruning, global_pruning=True, random_init=False, only_fc=False)\n",
    "    # _ = rewind(student, retain_loader, forget_loader, rewind_lr, epochs=rewind_epochs)\n",
    "    if noise_level>0:\n",
    "        inject_noise(student, noise_level=noise_level)\n",
    "    \n",
    "    if reset_fc:\n",
    "        student.fc.reset_parameters()\n",
    "\n",
    "    scrub_trainer = SCRUBTraining(teacher, student, retain_loader, forget_loader, LR=LR_)\n",
    "\n",
    "    for _ in range(scrubs_epochs):\n",
    "        scrub_trainer.train_epoch()\n",
    "\n",
    "    \n",
    "    student.eval()\n",
    "    run_losses = []\n",
    "\n",
    "    for inputs, targets in forget_loader:\n",
    "        inputs, targets = inputs.to(DEVICE), targets.to(DEVICE)\n",
    "        batch_losses = calculate_loss(student, inputs, targets)\n",
    "        run_losses.extend(batch_losses)\n",
    "\n",
    "    for idx, loss in enumerate(run_losses):\n",
    "        unlearn_losses[idx].append(loss)\n",
    "\n",
    "    # Calc metrics\n",
    "    retain_accs.append(accuracy(student, retain_loader))\n",
    "    forget_accs.append(accuracy(student, forget_loader))\n",
    "    test_accs.append(accuracy(student, test_loader))\n",
    "\n",
    "    # Clean\n",
    "    gc.collect()\n",
    "    torch.cuda.empty_cache()"
   ]
  },
  {
   "cell_type": "code",
   "execution_count": 22,
   "metadata": {},
   "outputs": [],
   "source": [
    "# print(f'Forget acc: {forget_accs[-1]}')\n",
    "# print(f'Test acc: {test_accs[-1]}')"
   ]
  },
  {
   "cell_type": "markdown",
   "metadata": {},
   "source": [
    "# Metrics"
   ]
  },
  {
   "cell_type": "markdown",
   "metadata": {},
   "source": [
    "### Accuracy"
   ]
  },
  {
   "cell_type": "code",
   "execution_count": 23,
   "metadata": {},
   "outputs": [
    {
     "data": {
      "image/png": "[encoded data removed]",
      "text/plain": [
       "<Figure size 640x480 with 1 Axes>"
      ]
     },
     "metadata": {},
     "output_type": "display_data"
    }
   ],
   "source": [
    "plt.hist(forget_accs, color='blue', label='Forget')\n",
    "plt.axvline(x=np.mean(forget_accs), color='blue')\n",
    "plt.hist(test_accs, color='red', label='Test')\n",
    "plt.axvline(x=np.mean(test_accs), color='red')\n",
    "plt.legend()\n",
    "plt.show()"
   ]
  },
  {
   "cell_type": "markdown",
   "metadata": {},
   "source": [
    "### KL"
   ]
  },
  {
   "cell_type": "code",
   "execution_count": 24,
   "metadata": {},
   "outputs": [
    {
     "data": {
      "image/png": "[encoded data removed]",
      "text/plain": [
       "<Figure size 640x480 with 1 Axes>"
      ]
     },
     "metadata": {},
     "output_type": "display_data"
    }
   ],
   "source": [
    "kl_losses = []\n",
    "epsilon = 1e-2\n",
    "\n",
    "for idx, original_loss in enumerate(original_losses):\n",
    "    # losses_from_scratch = np.log(np.array(original_loss)/2 + epsilon)\n",
    "    # losses_unlearn = np.log(np.array(unlearn_losses[idx]) + epsilon)\n",
    "\n",
    "    # losses_from_scratch = np.random.lognormal(mean=losses_from_scratch.mean(), sigma=losses_from_scratch.std(), size=1000)\n",
    "    # losses_unlearn = np.random.lognormal(mean=losses_unlearn.mean(), sigma=losses_unlearn.std(), size=1000)\n",
    "\n",
    "    losses_from_scratch = np.array(original_loss)\n",
    "    # losses_unlearn = np.array(unlearn_losses[idx])\n",
    "    losses_unlearn = random.sample(unlearn_losses[idx], len(losses_from_scratch))\n",
    "\n",
    "    # Ensure all losses are non-negative (they should naturally be if they are losses)\n",
    "    # assert np.all(losses_from_scratch >= 0) and np.all(losses_unlearn >= 0), \"Losses must be non-negative\"\n",
    "\n",
    "    # Normalize the losses to sum to one to represent probability distributions\n",
    "    prob_dist_scratch = losses_from_scratch / np.sum(losses_from_scratch)\n",
    "    prob_dist_unlearn = losses_unlearn / np.sum(losses_unlearn)\n",
    "\n",
    "    prob_dist_scratch += epsilon\n",
    "    prob_dist_unlearn += epsilon\n",
    "\n",
    "    # Normalize again after adding epsilon to ensure they sum to one\n",
    "    prob_dist_scratch /= np.sum(prob_dist_scratch)\n",
    "    prob_dist_unlearn /= np.sum(prob_dist_unlearn)\n",
    "\n",
    "    # Calculate the KL divergence from scratch to unlearn\n",
    "    kl_divergence = kl_div(prob_dist_scratch, prob_dist_unlearn)\n",
    "\n",
    "    # Sum over all elements to get the total divergence\n",
    "    total_kl_divergence = np.sum(kl_divergence)\n",
    "\n",
    "    kl_losses.append(total_kl_divergence)\n",
    "\n",
    "plt.hist(kl_losses, bins=100, log=True)\n",
    "plt.title(f'KL divergence, sum={np.sum(kl_losses):.2f}, median={np.median(kl_losses):.2f}')\n",
    "plt.show()"
   ]
  },
  {
   "cell_type": "code",
   "execution_count": 25,
   "metadata": {},
   "outputs": [],
   "source": [
    "# plt.hist(original_losses[218], bins=14, color='blue', label='Scratch')\n",
    "# plt.hist(unlearn_losses[218], bins=14, color='red', label='Unlearn')\n",
    "# # plt.xscale('log')\n",
    "# plt.legend()\n",
    "# plt.show()"
   ]
  },
  {
   "cell_type": "code",
   "execution_count": 26,
   "metadata": {},
   "outputs": [
    {
     "data": {
      "image/png": "[encoded data removed]",
      "text/plain": [
       "<Figure size 640x480 with 1 Axes>"
      ]
     },
     "metadata": {},
     "output_type": "display_data"
    }
   ],
   "source": [
    "# Normalize losses, calculate standard deviation, and EMD per sample\n",
    "emd_scores = []\n",
    "\n",
    "for idx, original_loss in enumerate(original_losses):\n",
    "   \n",
    "    # Calculate Earth Mover's Distance\n",
    "    emd_score = wasserstein_distance(original_loss, unlearn_losses[idx])\n",
    "    emd_scores.append(emd_score)\n",
    "\n",
    "plt.hist(emd_scores, bins=50, log=True)\n",
    "plt.title(f'EMD, sum={np.sum(emd_scores):.2f}, median={np.median(emd_scores):.2f}');"
   ]
  },
  {
   "cell_type": "code",
   "execution_count": 27,
   "metadata": {},
   "outputs": [],
   "source": [
    "# j = 0\n",
    "# plt.hist(losses_from_scratch, color='blue', label='Trained from scratch')\n",
    "# plt.axvline(x=np.mean(losses_from_scratch), color='blue')\n",
    "# plt.hist(losses_unlearn, color='red', label='Unlearn')\n",
    "# plt.axvline(x=np.mean(losses_unlearn), color='red')\n",
    "# plt.yscale('log')\n",
    "# plt.legend()\n",
    "# plt.show()"
   ]
  },
  {
   "cell_type": "markdown",
   "metadata": {},
   "source": [
    "## Simple MIA"
   ]
  },
  {
   "cell_type": "code",
   "execution_count": 28,
   "metadata": {},
   "outputs": [
    {
     "data": {
      "image/png": "[encoded data removed]",
      "text/plain": [
       "<Figure size 640x480 with 1 Axes>"
      ]
     },
     "metadata": {},
     "output_type": "display_data"
    }
   ],
   "source": [
    "acc_scores = []\n",
    "\n",
    "for idx, original_loss in enumerate(original_losses):\n",
    "    acc_scores.append(simple_mia(original_loss, unlearn_losses[idx], n_splits=10, random_state=0).mean())\n",
    "\n",
    "plt.hist(acc_scores, bins=50, log=True)\n",
    "plt.title(f'Simple MIA, mean={np.mean(acc_scores):.2f}, median={np.median(acc_scores):.2f}');"
   ]
  },
  {
   "cell_type": "markdown",
   "metadata": {},
   "source": [
    "## Paper forget score"
   ]
  },
  {
   "cell_type": "code",
   "execution_count": 29,
   "metadata": {},
   "outputs": [
    {
     "name": "stderr",
     "output_type": "stream",
     "text": [
      "Computing F...: 100%|██████████| 600/600 [00:04<00:00, 130.09it/s]\n"
     ]
    }
   ],
   "source": [
    "f = forgetting_quality(\n",
    "    unlearn_losses, \n",
    "    original_losses,\n",
    "    attacks=[best_threshold_attack, logistic_regression_attack],\n",
    "    delta=0.01)"
   ]
  },
  {
   "cell_type": "code",
   "execution_count": 30,
   "metadata": {},
   "outputs": [
    {
     "name": "stdout",
     "output_type": "stream",
     "text": [
      "Final score: 0.6666547588551769\n"
     ]
    }
   ],
   "source": [
    "RA_ratio = np.mean(retain_accs) / RAR\n",
    "TA_ratio = np.mean(test_accs) / TAR\n",
    "print(f'Final score: {f * RA_ratio * TA_ratio}')"
   ]
  }
 ],
 "metadata": {
  "kernelspec": {
   "display_name": "Python 3",
   "language": "python",
   "name": "python3"
  },
  "language_info": {
   "codemirror_mode": {
    "name": "ipython",
    "version": 3
   },
   "file_extension": ".py",
   "mimetype": "text/x-python",
   "name": "python",
   "nbconvert_exporter": "python",
   "pygments_lexer": "ipython3",
   "version": "3.10.5"
  }
 },
 "nbformat": 4,
 "nbformat_minor": 2
}
