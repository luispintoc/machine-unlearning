{
 "cells": [
  {
   "cell_type": "code",
   "execution_count": 68,
   "metadata": {},
   "outputs": [
    {
     "name": "stdout",
     "output_type": "stream",
     "text": [
      "Running on device: CUDA\n"
     ]
    }
   ],
   "source": [
    "import os\n",
    "import requests\n",
    "import random\n",
    "import math\n",
    "import numpy as np\n",
    "import matplotlib.pyplot as plt\n",
    "from sklearn import linear_model, model_selection\n",
    "from tqdm import tqdm\n",
    "import gc\n",
    "\n",
    "import torch\n",
    "import torch.nn.functional as F\n",
    "from torch import nn\n",
    "from torch.nn.utils import prune\n",
    "from torch import optim\n",
    "from torch.utils.data import DataLoader, TensorDataset\n",
    "from collections import defaultdict\n",
    "\n",
    "import torchvision\n",
    "from torchvision import transforms\n",
    "from torchvision.utils import make_grid\n",
    "from torchvision.models import resnet18\n",
    "import random\n",
    "\n",
    "DEVICE = \"cuda\" if torch.cuda.is_available() else \"cpu\"\n",
    "print(\"Running on device:\", DEVICE.upper())\n",
    "\n",
    "# manual random seed is used for dataset partitioning\n",
    "# to ensure reproducible results across runs\n",
    "SEED = 42\n",
    "RNG = torch.Generator().manual_seed(SEED)\n",
    "random.seed(SEED)\n",
    "torch.manual_seed(SEED)\n",
    "\n",
    "import sys\n",
    "sys.path.append('../../')\n",
    "from utils import *\n",
    "\n",
    "import pickle\n",
    "from sklearn.model_selection import train_test_split\n",
    "from torch.utils.data import DataLoader, Dataset\n",
    "import PIL\n",
    "from tqdm import tqdm\n",
    "from torch.optim.lr_scheduler import _LRScheduler"
   ]
  },
  {
   "cell_type": "code",
   "execution_count": 69,
   "metadata": {},
   "outputs": [],
   "source": [
    "import ssl\n",
    "\n",
    "# Create an unverified SSL context\n",
    "ssl._create_default_https_context = ssl._create_unverified_context"
   ]
  },
  {
   "cell_type": "code",
   "execution_count": 70,
   "metadata": {},
   "outputs": [],
   "source": [
    "with open('./imbalanced_dataset.pkl', 'rb') as file:\n",
    "    imbalanced_aug_dataset_id = pickle.load(file)\n",
    "\n",
    "train_idx = np.load('./train_idx.npy')\n",
    "retain_idx = np.load('./retain_idx.npy')\n",
    "forget_idx = np.load('./forget_idx.npy')\n",
    "val_idx = np.load('./val_idx.npy')\n",
    "test_idx = np.load('./test_idx.npy')\n",
    "\n",
    "train_set = torch.utils.data.Subset(imbalanced_aug_dataset_id, train_idx)\n",
    "forget_set = torch.utils.data.Subset(train_set, forget_idx)\n",
    "retain_set = torch.utils.data.Subset(train_set, retain_idx)\n",
    "val_set = torch.utils.data.Subset(imbalanced_aug_dataset_id, val_idx)\n",
    "test_set = torch.utils.data.Subset(imbalanced_aug_dataset_id, test_idx)"
   ]
  },
  {
   "cell_type": "code",
   "execution_count": 71,
   "metadata": {},
   "outputs": [],
   "source": [
    "# '''\n",
    "# Get retain forget indices\n",
    "# '''\n",
    "# extracted_data = []\n",
    "# for i in range(len(train_set)):\n",
    "#     dp = train_set[i]\n",
    "#     extracted_data.append(dp)\n",
    "# grouped_data = defaultdict(list)\n",
    "\n",
    "# for item in extracted_data:\n",
    "#     grouped_data[item[2]].append(item)\n",
    "# unique_item = list(grouped_data.keys())\n",
    "\n",
    "# random.shuffle(unique_item)\n",
    "\n",
    "# split_index = int(len(unique_item) * 0.98)\n",
    "# train_item_ids = set(unique_item[:split_index])\n",
    "# test_item_ids = set(unique_item[split_index:])\n",
    "# retain_indices = [i for i, item in enumerate(extracted_data) if item[2] in train_item_ids]\n",
    "# forget_indices = [i for i, item in enumerate(extracted_data) if item[2] in test_item_ids]\n",
    "# np.save('./retain_idx.npy', retain_indices)\n",
    "# np.save('./forget_idx.npy', forget_indices)\n",
    "# len(retain_indices), len(forget_indices), len(forget_indices)/len(retain_indices)"
   ]
  },
  {
   "cell_type": "code",
   "execution_count": 72,
   "metadata": {},
   "outputs": [],
   "source": [
    "class CustomDataset(Dataset):\n",
    "    def __init__(self, data_list, transform=None):\n",
    "        self.data_list = data_list\n",
    "        self.transform = transform\n",
    "\n",
    "    def __len__(self):\n",
    "        return len(self.data_list)\n",
    "\n",
    "    def __getitem__(self, idx):\n",
    "        x, y, z = self.data_list[idx]\n",
    "\n",
    "        # If x is a PIL.Image, convert it to a tensor\n",
    "        if isinstance(x, PIL.Image.Image):\n",
    "            x = transforms.ToTensor()(x)\n",
    "\n",
    "        # Apply additional transformations (like normalization)s\n",
    "        if self.transform:\n",
    "            x = self.transform(x)\n",
    "\n",
    "        return (x, y)  # Explicitly return as tuple\n",
    "\n",
    "# download and pre-process CIFAR10\n",
    "train_normalize = transforms.Compose(\n",
    "    [\n",
    "        transforms.Normalize((0.4914, 0.4822, 0.4465), (0.2023, 0.1994, 0.2010)),\n",
    "    ]\n",
    ")\n",
    "\n",
    "test_normalize = transforms.Compose(\n",
    "    [\n",
    "        transforms.Normalize((0.4914, 0.4822, 0.4465), (0.2023, 0.1994, 0.2010)),\n",
    "    ]\n",
    ")\n",
    "\n",
    "forget_dataset = CustomDataset(forget_set, transform=train_normalize)\n",
    "retain_dataset = CustomDataset(retain_set, transform=test_normalize)\n",
    "val_dataset = CustomDataset(val_set, transform=test_normalize)"
   ]
  },
  {
   "cell_type": "code",
   "execution_count": 73,
   "metadata": {},
   "outputs": [],
   "source": [
    "batch_size = 8\n",
    "\n",
    "retain_loader = DataLoader(retain_dataset, batch_size=batch_size, shuffle=True)#, generator=RNG)\n",
    "forget_loader = DataLoader(forget_dataset, batch_size=batch_size, shuffle=True)#, generator=RNG)\n",
    "val_loader = DataLoader(val_dataset, batch_size=batch_size, shuffle=True)#, generator=RNG)"
   ]
  },
  {
   "cell_type": "code",
   "execution_count": 76,
   "metadata": {},
   "outputs": [],
   "source": [
    "list_of_targets = []\n",
    "\n",
    "with torch.no_grad():\n",
    "    for sample in retain_loader:\n",
    "        # Get logits\n",
    "        targets = sample[1]\n",
    "        list_of_targets.append(np.array(targets))\n",
    "        \n",
    "retain_class_weights = torch.tensor(1/np.bincount(np.concatenate(list_of_targets).ravel())).to(DEVICE, dtype=torch.float32)"
   ]
  },
  {
   "cell_type": "code",
   "execution_count": 78,
   "metadata": {},
   "outputs": [
    {
     "name": "stderr",
     "output_type": "stream",
     "text": [
      "100%|██████████| 9/9 [5:29:14<00:00, 2194.94s/it]  \n"
     ]
    }
   ],
   "source": [
    "for k in tqdm(range(9)):\n",
    "\n",
    "    # load model with pre-trained weights\n",
    "    net = resnet18(weights=None, num_classes=10)\n",
    "    net.to(DEVICE);\n",
    "\n",
    "    epochs = 30\n",
    "    val_loss = np.inf\n",
    "\n",
    "\n",
    "    current_batch = 0\n",
    "    total_samples = len(retain_loader.dataset)\n",
    "    batch_size = retain_loader.batch_size\n",
    "    batches_per_epoch  = math.ceil(total_samples / batch_size)\n",
    "    total_batches = epochs * batches_per_epoch\n",
    "    initial_lr = 1e-4\n",
    "    warmup_batches = math.ceil(10*total_batches)\n",
    "\n",
    "\n",
    "    criterion = nn.CrossEntropyLoss(weight=retain_class_weights)\n",
    "    optimizer = optim.SGD(net.parameters(), lr=initial_lr, momentum=0.90, weight_decay=5e-2)\n",
    "    # scheduler = torch.optim.lr_scheduler.CosineAnnealingLR(optimizer, T_max=epochs)\n",
    "    scheduler = torch.optim.lr_scheduler.ReduceLROnPlateau(optimizer, mode='min', factor=0.5, patience=3)\n",
    "\n",
    "    train_losses = []\n",
    "    val_losses = []\n",
    "    train_accs = []\n",
    "    val_accs = []\n",
    "\n",
    "\n",
    "    for ep in range(epochs):\n",
    "\n",
    "        net.train()\n",
    "\n",
    "        for inputs, targets in retain_loader:\n",
    "            inputs, targets = inputs.to(DEVICE), targets.to(DEVICE)\n",
    "\n",
    "            current_batch += 1\n",
    "\n",
    "            # # Warm-up for the first 'warmup_batches' batches\n",
    "            # if current_batch <= warmup_batches:\n",
    "            #     adjust_learning_rate(optimizer, current_batch, warmup_batches, initial_lr)\n",
    "\n",
    "            optimizer.zero_grad()\n",
    "            outputs = net(inputs)\n",
    "            loss = criterion(outputs, targets)\n",
    "            loss.backward()\n",
    "\n",
    "            # nn.utils.clip_grad_value_(net.parameters(), 10)\n",
    "\n",
    "            optimizer.step()\n",
    "\n",
    "\n",
    "        net.eval()  # handle drop-out/batch norm layers\n",
    "\n",
    "        loss = 0\n",
    "        with torch.no_grad():\n",
    "            for x,y in retain_loader:\n",
    "                out = net(x.to(DEVICE))  # only forward pass - NO gradients!!\n",
    "                loss += criterion(out, y.to(DEVICE))\n",
    "        # total loss - divide by number of batches\n",
    "        train_loss = loss / len(retain_loader)\n",
    "        train_losses.append(train_loss)\n",
    "\n",
    "        loss = 0\n",
    "        with torch.no_grad():\n",
    "            for x,y in val_loader:\n",
    "                out = net(x.to(DEVICE))  # only forward pass - NO gradients!!\n",
    "                loss += criterion(out, y.to(DEVICE))\n",
    "        # total loss - divide by number of batches\n",
    "        val_loss = loss / len(val_loader)\n",
    "        val_losses.append(val_loss)\n",
    "\n",
    "        # print('--------'*5)\n",
    "        # print(f'Epoch: {ep}')\n",
    "        # print(f'Retain loss: {train_loss}')\n",
    "        # print(f'Val loss: {val_loss}')\n",
    "        \n",
    "        net.eval()\n",
    "        # train_acc = accuracy(net, retain_loader)\n",
    "        # train_accs.append(train_acc)\n",
    "        # val_acc = accuracy(net, val_loader)\n",
    "        # val_accs.append(val_acc)\n",
    "        # print(f\"Retain set accuracy: {100.0 * train_acc:0.1f}%\")\n",
    "        # # print(f\"Forget set accuracy: {100.0 * accuracy(net, forget_loader):0.1f}%\")\n",
    "        # print(f\"Val set accuracy: {100.0 * val_acc:0.1f}%\")\n",
    "        # # print(f\"Test set accuracy: {100.0 * accuracy(net, test_loader):0.1f}%\")\n",
    "\n",
    "        # if temp_loss < val_loss:\n",
    "        #     val_loss = temp_loss\n",
    "        \n",
    "        scheduler.step(val_loss)\n",
    "\n",
    "        gc.collect()\n",
    "        torch.cuda.empty_cache()\n",
    "\n",
    "    torch.save({\n",
    "    'net': net.state_dict(),\n",
    "    }, f'./checkpoints/checkpoint2{k}.pth')"
   ]
  },
  {
   "cell_type": "code",
   "execution_count": 79,
   "metadata": {},
   "outputs": [],
   "source": [
    "# torch.save({\n",
    "#     'net': net.state_dict(),\n",
    "# }, f'./checkpoints/checkpoint1.pth')"
   ]
  },
  {
   "cell_type": "code",
   "execution_count": 80,
   "metadata": {},
   "outputs": [],
   "source": [
    "def calculate_loss(model, inputs, targets):\n",
    "    model.eval()\n",
    "    with torch.no_grad():\n",
    "        outputs = model(inputs)\n",
    "        loss = torch.nn.CrossEntropyLoss(reduction=\"none\")(outputs, targets)\n",
    "    return loss.detach().cpu().numpy()"
   ]
  },
  {
   "cell_type": "code",
   "execution_count": 81,
   "metadata": {},
   "outputs": [],
   "source": [
    "original_losses = []\n",
    "\n",
    "for inputs, targets in retain_loader:\n",
    "    inputs, targets = inputs.to(DEVICE), targets.to(DEVICE)\n",
    "    batch_losses = calculate_loss(net, inputs, targets)\n",
    "    original_losses.extend(batch_losses)"
   ]
  },
  {
   "cell_type": "code",
   "execution_count": 82,
   "metadata": {},
   "outputs": [],
   "source": [
    "val_losses = []\n",
    "\n",
    "for inputs, targets in val_loader:\n",
    "    inputs, targets = inputs.to(DEVICE), targets.to(DEVICE)\n",
    "    batch_losses = calculate_loss(net, inputs, targets)\n",
    "    val_losses.extend(batch_losses)"
   ]
  },
  {
   "cell_type": "code",
   "execution_count": 83,
   "metadata": {},
   "outputs": [
    {
     "data": {
      "image/png": "[encoded data removed]",
      "text/plain": [
       "<Figure size 640x480 with 1 Axes>"
      ]
     },
     "metadata": {},
     "output_type": "display_data"
    }
   ],
   "source": [
    "fig = plt.Figure(figsize=(16, 6))\n",
    "\n",
    "\n",
    "plt.hist(val_losses, density=True, alpha=0.5, bins=50, label=\"Val set\")\n",
    "plt.hist(original_losses, density=True, alpha=0.5, bins=50, label=\"Train set\")\n",
    "\n",
    "plt.xlabel(\"Loss\")\n",
    "plt.yscale(\"log\")\n",
    "# plt.xlim((0, np.max(val_losses)))\n",
    "plt.legend()\n",
    "\n",
    "plt.show()"
   ]
  }
 ],
 "metadata": {
  "kernelspec": {
   "display_name": "Python 3",
   "language": "python",
   "name": "python3"
  },
  "language_info": {
   "codemirror_mode": {
    "name": "ipython",
    "version": 3
   },
   "file_extension": ".py",
   "mimetype": "text/x-python",
   "name": "python",
   "nbconvert_exporter": "python",
   "pygments_lexer": "ipython3",
   "version": "3.10.5"
  }
 },
 "nbformat": 4,
 "nbformat_minor": 2
}
