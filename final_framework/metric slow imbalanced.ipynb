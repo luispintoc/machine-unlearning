{
 "cells": [
  {
   "cell_type": "code",
   "execution_count": 1,
   "metadata": {},
   "outputs": [
    {
     "name": "stdout",
     "output_type": "stream",
     "text": [
      "Running on device: CUDA\n"
     ]
    }
   ],
   "source": [
    "import os\n",
    "import requests\n",
    "import random\n",
    "import math\n",
    "import numpy as np\n",
    "import matplotlib.pyplot as plt\n",
    "from sklearn import linear_model, model_selection\n",
    "from tqdm import tqdm\n",
    "from scipy.special import kl_div\n",
    "import gc\n",
    "from sklearn.metrics.pairwise import cosine_similarity, euclidean_distances\n",
    "import pandas as pd\n",
    "from copy import deepcopy\n",
    "\n",
    "import torch\n",
    "import torch.nn.functional as F\n",
    "from torch import nn\n",
    "from torch.nn.utils import prune\n",
    "from torch import optim\n",
    "from torch.utils.data import DataLoader, Dataset, TensorDataset, Subset\n",
    "from torch.optim.lr_scheduler import _LRScheduler\n",
    "\n",
    "import torchvision\n",
    "from torchvision import transforms\n",
    "from torchvision.utils import make_grid\n",
    "from torchvision.models import resnet18\n",
    "from torchvision.models.feature_extraction import create_feature_extractor\n",
    "\n",
    "DEVICE = \"cuda\" if torch.cuda.is_available() else \"cpu\"\n",
    "print(\"Running on device:\", DEVICE.upper())\n",
    "\n",
    "# manual random seed is used for dataset partitioning\n",
    "# to ensure reproducible results across runs\n",
    "SEED = 42\n",
    "RNG = torch.Generator().manual_seed(SEED)\n",
    "random.seed(SEED)\n",
    "torch.manual_seed(SEED)\n",
    "\n",
    "import sys\n",
    "sys.path.append('../')\n",
    "from utils import *\n",
    "\n",
    "import pickle\n",
    "import PIL\n",
    "from tqdm import tqdm"
   ]
  },
  {
   "cell_type": "code",
   "execution_count": 2,
   "metadata": {},
   "outputs": [],
   "source": [
    "import ssl\n",
    "\n",
    "# Create an unverified SSL context\n",
    "ssl._create_default_https_context = ssl._create_unverified_context"
   ]
  },
  {
   "cell_type": "code",
   "execution_count": 3,
   "metadata": {},
   "outputs": [],
   "source": [
    "with open('./imbalanced_cifar/imbalanced_dataset.pkl', 'rb') as file:\n",
    "    imbalanced_aug_dataset_id = pickle.load(file)\n",
    "\n",
    "train_idx = np.load('./imbalanced_cifar/train_idx.npy')\n",
    "retain_idx = np.load('./imbalanced_cifar/retain_idx.npy')\n",
    "forget_idx = np.load('./imbalanced_cifar/forget_idx.npy')\n",
    "val_idx = np.load('./imbalanced_cifar/val_idx.npy')\n",
    "test_idx = np.load('./imbalanced_cifar/test_idx.npy')\n",
    "\n",
    "train_set = torch.utils.data.Subset(imbalanced_aug_dataset_id, train_idx)\n",
    "forget_set = torch.utils.data.Subset(imbalanced_aug_dataset_id, forget_idx)\n",
    "retain_set = torch.utils.data.Subset(imbalanced_aug_dataset_id, retain_idx)\n",
    "val_set = torch.utils.data.Subset(imbalanced_aug_dataset_id, val_idx)\n",
    "test_set = torch.utils.data.Subset(imbalanced_aug_dataset_id, test_idx)"
   ]
  },
  {
   "cell_type": "code",
   "execution_count": 4,
   "metadata": {},
   "outputs": [],
   "source": [
    "class CustomDataset(Dataset):\n",
    "    def __init__(self, data_list, transform=None):\n",
    "        self.data_list = data_list\n",
    "        self.transform = transform\n",
    "\n",
    "    def __len__(self):\n",
    "        return len(self.data_list)\n",
    "\n",
    "    def __getitem__(self, idx):\n",
    "        x, y, z = self.data_list[idx]\n",
    "\n",
    "        # If x is a PIL.Image, convert it to a tensor\n",
    "        if isinstance(x, PIL.Image.Image):\n",
    "            x = transforms.ToTensor()(x)\n",
    "\n",
    "        # Apply additional transformations (like normalization)s\n",
    "        if self.transform:\n",
    "            x = self.transform(x)\n",
    "\n",
    "        return (x, y)  # Explicitly return as tuple\n",
    "\n",
    "# download and pre-process CIFAR10\n",
    "train_normalize = transforms.Compose(\n",
    "    [\n",
    "        transforms.Normalize((0.4914, 0.4822, 0.4465), (0.2023, 0.1994, 0.2010)),\n",
    "    ]\n",
    ")\n",
    "\n",
    "test_normalize = transforms.Compose(\n",
    "    [\n",
    "        transforms.Normalize((0.4914, 0.4822, 0.4465), (0.2023, 0.1994, 0.2010)),\n",
    "    ]\n",
    ")\n",
    "\n",
    "train_dataset = CustomDataset(train_set, transform=train_normalize)\n",
    "forget_dataset = CustomDataset(forget_set, transform=train_normalize)\n",
    "retain_dataset = CustomDataset(retain_set, transform=test_normalize)\n",
    "val_dataset = CustomDataset(val_set, transform=test_normalize)\n",
    "test_dataset = CustomDataset(test_set, transform=test_normalize)"
   ]
  },
  {
   "cell_type": "code",
   "execution_count": 5,
   "metadata": {},
   "outputs": [],
   "source": [
    "batch_size = 64\n",
    "\n",
    "train_loader = DataLoader(train_dataset, batch_size=batch_size, shuffle=True)#, generator=RNG)\n",
    "retain_loader = DataLoader(retain_dataset, batch_size=batch_size, shuffle=True)#, generator=RNG)\n",
    "forget_loader = DataLoader(forget_dataset, batch_size=batch_size, shuffle=True)#, generator=RNG)\n",
    "forget_loader_not_shuffle = DataLoader(forget_dataset, batch_size=batch_size, shuffle=False)#, generator=RNG)\n",
    "val_loader = DataLoader(val_dataset, batch_size=batch_size, shuffle=True)#, generator=RNG)\n",
    "test_loader = DataLoader(test_dataset, batch_size=batch_size, shuffle=True)#, generator=RNG)"
   ]
  },
  {
   "cell_type": "code",
   "execution_count": 6,
   "metadata": {},
   "outputs": [
    {
     "name": "stdout",
     "output_type": "stream",
     "text": [
      "0.9895175438596491\n",
      "0.8435526315789473\n"
     ]
    }
   ],
   "source": [
    "local_path = \"./imbalanced_cifar/internal_imbalanced_weights_resnet18_cifar10.pth\"\n",
    "\n",
    "weights_pretrained = torch.load(local_path, map_location=DEVICE) #43Mbs\n",
    "# weights_pretrained = torch.load(\"../checkpoints/0.pt\", map_location=DEVICE)\n",
    "\n",
    "# load model with pre-trained weights\n",
    "net = resnet18(weights=None, num_classes=10)\n",
    "try:\n",
    "    net.load_state_dict(weights_pretrained)\n",
    "except:\n",
    "    net.load_state_dict(weights_pretrained['net'])\n",
    "net.to(DEVICE)\n",
    "net.eval();\n",
    "\n",
    "RAR = accuracy(net, train_loader)\n",
    "print(RAR)\n",
    "TAR = accuracy(net, test_loader)\n",
    "print(TAR)"
   ]
  },
  {
   "cell_type": "code",
   "execution_count": 7,
   "metadata": {},
   "outputs": [],
   "source": [
    "train_class_weights = torch.tensor(np.load('./imbalanced_cifar/train_class_weights.npy')).to(DEVICE)\n",
    "criterion = nn.CrossEntropyLoss(weight=train_class_weights)"
   ]
  },
  {
   "cell_type": "code",
   "execution_count": 8,
   "metadata": {},
   "outputs": [],
   "source": [
    "def calculate_loss(model, inputs, targets):\n",
    "    model.eval()\n",
    "    with torch.no_grad():\n",
    "        outputs = model(inputs)\n",
    "        loss = torch.nn.CrossEntropyLoss(reduction=\"none\")(outputs, targets)\n",
    "    return loss.detach().cpu().numpy()"
   ]
  },
  {
   "cell_type": "markdown",
   "metadata": {},
   "source": [
    "# Calculate losses from trained from scratch"
   ]
  },
  {
   "cell_type": "code",
   "execution_count": 9,
   "metadata": {},
   "outputs": [],
   "source": [
    "original_losses = [[] for _ in range(len(forget_loader.dataset))]\n",
    "\n",
    "for checkpoint in os.listdir('./imbalanced_cifar/checkpoints/'):\n",
    "\n",
    "    weights_pretrained = torch.load(f\"./imbalanced_cifar/checkpoints/{checkpoint}\", map_location=DEVICE)\n",
    "    try:\n",
    "        net.load_state_dict(weights_pretrained['net'])\n",
    "    except:\n",
    "        net.load_state_dict(weights_pretrained['model_state_dict'])\n",
    "    net.to(DEVICE)\n",
    "    net.eval();\n",
    "\n",
    "    run_losses = []\n",
    "\n",
    "    for inputs, targets in forget_loader_not_shuffle:\n",
    "        inputs, targets = inputs.to(DEVICE), targets.to(DEVICE)\n",
    "        batch_losses = calculate_loss(net, inputs, targets)\n",
    "        run_losses.extend(batch_losses)\n",
    "\n",
    "    for idx, loss in enumerate(run_losses):\n",
    "        original_losses[idx].append(loss)"
   ]
  },
  {
   "cell_type": "markdown",
   "metadata": {},
   "source": [
    "# Unlearn"
   ]
  },
  {
   "cell_type": "code",
   "execution_count": 10,
   "metadata": {},
   "outputs": [],
   "source": [
    "# Function to inject noise into the model's weights\n",
    "def inject_noise(model, noise_level=0.01):\n",
    "    with torch.no_grad():\n",
    "        for name, param in model.named_parameters():\n",
    "            if 'weight' in name:\n",
    "                noise = torch.randn_like(param) * param.abs() * noise_level\n",
    "                param.add_(noise)\n",
    "            elif 'bias' in name:\n",
    "                noise = torch.randn_like(param) * param.abs() * noise_level\n",
    "                param.add_(noise)"
   ]
  },
  {
   "cell_type": "code",
   "execution_count": 11,
   "metadata": {},
   "outputs": [],
   "source": [
    "def inject_decay_noise(model, base_noise_level, decay_rate, global_step, min_noise_level=1e-6):\n",
    "    with torch.no_grad():\n",
    "        decayed_noise_level = max(base_noise_level * (decay_rate ** global_step), min_noise_level)\n",
    "        if decayed_noise_level <= min_noise_level:\n",
    "            return  # Skip noise injection if the level is below the threshold\n",
    "        for name, param in model.named_parameters():\n",
    "            if 'weight' in name:\n",
    "                noise = torch.randn_like(param) * decayed_noise_level * param.abs()\n",
    "                param.add_(noise)\n",
    "            elif 'bias' in name:\n",
    "                noise = torch.randn_like(param) * decayed_noise_level * param.abs()\n",
    "                param.add_(noise)"
   ]
  },
  {
   "cell_type": "code",
   "execution_count": 12,
   "metadata": {},
   "outputs": [],
   "source": [
    "class ReverseCosineAnnealingLR(_LRScheduler):\n",
    "    def __init__(self, optimizer, T_max, last_epoch=-1, eta_min=0):\n",
    "        self.T_max = T_max\n",
    "        self.eta_min = eta_min\n",
    "        super().__init__(optimizer, last_epoch)\n",
    "\n",
    "    def get_lr(self):\n",
    "        return [\n",
    "            self.eta_min\n",
    "            + (\n",
    "                0.5\n",
    "                * (base_lr - self.eta_min)\n",
    "                * (1 + math.cos(math.pi * (1 - (self.last_epoch) / self.T_max)))\n",
    "            )\n",
    "            for base_lr in self.base_lrs\n",
    "        ]"
   ]
  },
  {
   "cell_type": "code",
   "execution_count": 13,
   "metadata": {},
   "outputs": [],
   "source": [
    "def advanced_neggrad(net, retain_loader, forget_loader, LR, epochs=1):\n",
    "    \n",
    "    criterion = nn.CrossEntropyLoss(label_smoothing=0.0)\n",
    "    optimizer = optim.SGD(net.parameters(), lr=LR, momentum=0.9, weight_decay=5e-3)\n",
    "    scheduler = ReverseCosineAnnealingLR(optimizer, T_max=30*(len(retain_loader)+1))\n",
    "\n",
    "    net.train()\n",
    "\n",
    "    for _ in range(epochs):\n",
    "\n",
    "        for inputs_retain, targets_retain in retain_loader:\n",
    "\n",
    "            inputs_retain, targets_retain = inputs_retain.to(DEVICE), targets_retain.to(DEVICE)\n",
    "\n",
    "            iter_forget = iter(forget_loader)\n",
    "            sample = next(iter_forget)\n",
    "\n",
    "            inputs_forget, targets_forget = sample\n",
    "            inputs_forget, targets_forget = inputs_forget.to(DEVICE), targets_forget.to(DEVICE)\n",
    "\n",
    "            optimizer.zero_grad()\n",
    "            outputs_retain = net(inputs_retain)\n",
    "            loss_retain = criterion(outputs_retain, targets_retain)\n",
    "\n",
    "            outputs_forget = net(inputs_forget)\n",
    "            loss_ascent_forget = -1.0*criterion(outputs_forget, targets_forget)\n",
    "\n",
    "            joint_loss = loss_ascent_forget + loss_retain\n",
    "            joint_loss.backward()\n",
    "\n",
    "            # nn.utils.clip_grad_value_(net.parameters(), 2)\n",
    "\n",
    "            optimizer.step()\n",
    "            scheduler.step()\n",
    "\n",
    "        # print('...........')\n",
    "        # print(f'Forget acc: {accuracy(net, forget_loader)}')\n",
    "        # print(f'Test acc: {accuracy(net, test_loader)}')"
   ]
  },
  {
   "cell_type": "code",
   "execution_count": 14,
   "metadata": {},
   "outputs": [],
   "source": [
    "def forget(net, forget_loader, LR=0.1):\n",
    "\n",
    "    epochs = 1\n",
    "\n",
    "    criterion = nn.CrossEntropyLoss(label_smoothing=0.0)\n",
    "    optimizer = optim.SGD(net.parameters(), lr=LR, momentum=0.9, weight_decay=5e-3)\n",
    "    net.train()\n",
    "\n",
    "    for _ in range(epochs):\n",
    "        for inputs, targets in forget_loader:\n",
    "            inputs, targets = inputs.to(DEVICE), targets.to(DEVICE)\n",
    "\n",
    "            optimizer.zero_grad()\n",
    "            outputs = net(inputs)\n",
    "            loss = -1.0*criterion(outputs, targets)\n",
    "            loss.backward()\n",
    "\n",
    "            nn.utils.clip_grad_value_(net.parameters(), 2)\n",
    "\n",
    "            optimizer.step()"
   ]
  },
  {
   "cell_type": "code",
   "execution_count": 15,
   "metadata": {},
   "outputs": [],
   "source": [
    "def retrain(net, retain_loader, LR=0.1, steps_per_epoch=1):\n",
    "\n",
    "    epochs = 1\n",
    "    steps = 0\n",
    "\n",
    "    criterion = nn.CrossEntropyLoss(label_smoothing=0.0)\n",
    "    optimizer = optim.SGD(net.parameters(), lr=LR, momentum=0.9, weight_decay=5e-3)\n",
    "    net.train()\n",
    "\n",
    "    for _ in range(epochs):\n",
    "        for inputs, targets in retain_loader:\n",
    "            inputs, targets = inputs.to(DEVICE), targets.to(DEVICE)\n",
    "\n",
    "            optimizer.zero_grad()\n",
    "            outputs = net(inputs)\n",
    "            loss = criterion(outputs, targets)\n",
    "            loss.backward()\n",
    "\n",
    "            nn.utils.clip_grad_value_(net.parameters(), 2)\n",
    "            \n",
    "            optimizer.step()\n",
    "            \n",
    "            steps += 1\n",
    "            \n",
    "            if steps>=steps_per_epoch:\n",
    "                break"
   ]
  },
  {
   "cell_type": "code",
   "execution_count": 16,
   "metadata": {},
   "outputs": [],
   "source": [
    "# optimizer = optim.SGD(net.parameters(), lr=0.01, momentum=0.9, weight_decay=5e-3)\n",
    "# scheduler = ReverseCosineAnnealingLR(optimizer, T_max=30*(len(retain_loader)+1))\n",
    "\n",
    "# # Print optimizer's learning rate after applying scheduler for 10 epochs\n",
    "# for _ in range(10):\n",
    "#     print(optimizer.state_dict()['param_groups'][0]['lr'])\n",
    "#     scheduler.step()"
   ]
  },
  {
   "cell_type": "code",
   "execution_count": 17,
   "metadata": {},
   "outputs": [],
   "source": [
    "def rewind(net, retain_loader, forget_loader, LR, epochs=1):\n",
    "\n",
    "    criterion = nn.CrossEntropyLoss(label_smoothing=0.0)\n",
    "    optimizer = optim.SGD(net.parameters(), lr=LR, momentum=0.9, weight_decay=5e-3)\n",
    "    scheduler = ReverseCosineAnnealingLR(optimizer, T_max=30*(len(retain_loader)+1))\n",
    "\n",
    "    net.train()\n",
    "\n",
    "    for _ in range(epochs):\n",
    "\n",
    "        retain_not_depleted = True\n",
    "        iter_retain = iter(retain_loader)\n",
    "    \n",
    "        inject_noise(net, noise_level=0.05)\n",
    "\n",
    "        # Retain rewind\n",
    "        while retain_not_depleted:\n",
    "            try:\n",
    "                sample = next(iter_retain)\n",
    "            except StopIteration:\n",
    "                retain_not_depleted = False\n",
    "                break\n",
    "\n",
    "            inputs, targets = sample\n",
    "            inputs, targets = inputs.to(DEVICE), targets.to(DEVICE)\n",
    "        \n",
    "            optimizer.zero_grad()\n",
    "            outputs = net(inputs)\n",
    "            loss = -1.0*criterion(outputs, targets)\n",
    "            loss.backward()\n",
    "\n",
    "            # nn.utils.clip_grad_value_(net.parameters(), 2)\n",
    "\n",
    "            optimizer.step()\n",
    "            scheduler.step()\n",
    "\n",
    "        # Forget rewind\n",
    "        for _ in range(4):\n",
    "\n",
    "            forget_not_depleted = True\n",
    "            iter_forget = iter(forget_loader)\n",
    "\n",
    "            while forget_not_depleted:\n",
    "                try:\n",
    "                    sample = next(iter_forget)\n",
    "                except StopIteration:\n",
    "                    forget_not_depleted = False\n",
    "                    break\n",
    "\n",
    "                inputs, targets = sample\n",
    "                inputs, targets = inputs.to(DEVICE), targets.to(DEVICE)\n",
    "\n",
    "                optimizer.zero_grad()\n",
    "                outputs = net(inputs)\n",
    "                loss = -1.0*criterion(outputs, targets)\n",
    "                loss.backward()\n",
    "\n",
    "                # nn.utils.clip_grad_value_(net.parameters(), 2)\n",
    "\n",
    "                optimizer.step()\n",
    "                scheduler.step()\n",
    "\n",
    "        # print(f'Forget acc: {accuracy(net, forget_loader)}')\n",
    "        # print(f'Test acc: {accuracy(net, test_loader)}')\n",
    "\n",
    "\n",
    "    return optimizer.param_groups[0]['lr']"
   ]
  },
  {
   "cell_type": "code",
   "execution_count": 18,
   "metadata": {},
   "outputs": [],
   "source": [
    "def retrain_slow(net, retain_loader, initial_lr=0.1, noise_level=0, epochs=1):\n",
    "\n",
    "    current_batch = 0\n",
    "    warmup_batches = len(retain_loader)\n",
    "    global_step = 0\n",
    "\n",
    "    criterion = nn.CrossEntropyLoss(label_smoothing=0.0)\n",
    "    optimizer = optim.SGD(net.parameters(), lr=initial_lr, momentum=0.9, weight_decay=5e-3)\n",
    "    scheduler = torch.optim.lr_scheduler.CosineAnnealingLR(optimizer, T_max=epochs+1)\n",
    "\n",
    "    net.train()\n",
    "\n",
    "    if noise_level>0:\n",
    "        inject_noise(net, noise_level=noise_level)\n",
    "\n",
    "    for ep in range(epochs):\n",
    "\n",
    "        for sample in retain_loader:\n",
    "            inputs, targets = sample\n",
    "            inputs, targets = inputs.to(DEVICE), targets.to(DEVICE)\n",
    "\n",
    "            current_batch += 1\n",
    "\n",
    "            # Warm-up for the first 'warmup_batches' batches\n",
    "            if current_batch <= warmup_batches:\n",
    "                adjust_learning_rate(optimizer, current_batch, warmup_batches, initial_lr)\n",
    "\n",
    "            optimizer.zero_grad()\n",
    "            outputs = net(inputs)\n",
    "            loss = criterion(outputs, targets)\n",
    "            loss.backward()\n",
    "\n",
    "            nn.utils.clip_grad_value_(net.parameters(), 2)\n",
    "            \n",
    "            optimizer.step()\n",
    "            global_step += 1\n",
    "\n",
    "\n",
    "        scheduler.step()"
   ]
  },
  {
   "cell_type": "code",
   "execution_count": 19,
   "metadata": {},
   "outputs": [],
   "source": [
    "def unlearning(\n",
    "    net, \n",
    "    retain_loader, \n",
    "    forget_loader, \n",
    "    val_loader):\n",
    "\n",
    "    total_samples = len(retain_loader.dataset)\n",
    "    batch_size = retain_loader.batch_size\n",
    "\n",
    "    epochs = 1\n",
    "    batches_per_epoch  = math.ceil(total_samples / batch_size)\n",
    "    total_batches = epochs * batches_per_epoch\n",
    "    initial_lr = 0.001\n",
    "    warmup_batches = math.ceil(0.4*total_batches)\n",
    "\n",
    "    current_batch = 0\n",
    "    \n",
    "    criterion = nn.CrossEntropyLoss()\n",
    "    optimizer = optim.SGD(net.parameters(), lr=0.001,\n",
    "                      momentum=0.90, weight_decay=5e-4)\n",
    "    scheduler = torch.optim.lr_scheduler.CosineAnnealingLR(\n",
    "        optimizer, T_max=epochs)\n",
    "    net.train()\n",
    "\n",
    "    for ep in range(epochs):\n",
    "\n",
    "        for sample in retain_loader:\n",
    "            inputs, targets = sample\n",
    "            inputs, targets = inputs.to(DEVICE), targets.to(DEVICE)\n",
    "        \n",
    "            current_batch += 1\n",
    "\n",
    "            # Warm-up for the first 'warmup_batches' batches\n",
    "            if current_batch <= warmup_batches:\n",
    "                adjust_learning_rate(optimizer, current_batch, warmup_batches, initial_lr)\n",
    "        \n",
    "            optimizer.zero_grad()\n",
    "            outputs = net(inputs)\n",
    "            loss = criterion(outputs, targets)\n",
    "            loss.backward()\n",
    "            optimizer.step()\n",
    "        scheduler.step()\n",
    "        \n",
    "    net.eval()"
   ]
  },
  {
   "cell_type": "code",
   "execution_count": 20,
   "metadata": {},
   "outputs": [],
   "source": [
    "def unlearning(\n",
    "    net, \n",
    "    retain_loader, \n",
    "    forget_loader, \n",
    "    LR=0.0005, \n",
    "    overall_warmup_pct=0.8, \n",
    "    optimizer_warmup_pct=0.1, \n",
    "    forget_repair_epochs=1, \n",
    "    repair_steps=4):\n",
    "    \n",
    "\n",
    "    criterion = nn.CrossEntropyLoss(label_smoothing=0.0)\n",
    "    optimizer = optim.SGD(net.parameters(), lr=LR, momentum=0.9, weight_decay=5e-4)\n",
    "    net.train()\n",
    "\n",
    "    current_batch = 0\n",
    "    warmup_batches = math.ceil(len(retain_loader)*overall_warmup_pct)\n",
    "\n",
    "\n",
    "    # OPTIMIZER WARMUP FOR FIRST X% BATCHES\n",
    "    warmup_steps = np.ceil(len(retain_loader)*optimizer_warmup_pct)\n",
    "\n",
    "    for sample in retain_loader:\n",
    "\n",
    "        current_batch += 1\n",
    "\n",
    "        # Get inputs and targets\n",
    "        inputs, targets = sample\n",
    "        inputs, targets = inputs.to(DEVICE), targets.to(DEVICE)\n",
    "        print(optimizer.state_dict()['param_groups'][0]['lr'])\n",
    "        \n",
    "        # Warm-up for the first 'warmup_batches' batches\n",
    "        if current_batch <= warmup_batches:\n",
    "            adjust_learning_rate(optimizer, current_batch, warmup_batches, LR)\n",
    "            \n",
    "        optimizer.zero_grad()\n",
    "        outputs = net(inputs)\n",
    "        loss = criterion(outputs, targets)\n",
    "        loss.backward()\n",
    "        optimizer.step()\n",
    "\n",
    "        if current_batch>warmup_steps:\n",
    "            break\n",
    "\n",
    "\n",
    "    # FORGET AND REPAIR\n",
    "\n",
    "    iter_retain = iter(retain_loader)\n",
    "\n",
    "    for ep in range(forget_repair_epochs):\n",
    "\n",
    "        iter_forget = iter(forget_loader)\n",
    "    \n",
    "        while True:\n",
    "            try:\n",
    "                sample = next(iter_forget)\n",
    "                current_batch += 1\n",
    "            except:\n",
    "                break\n",
    "        \n",
    "            # Forget step\n",
    "            inputs, targets = sample\n",
    "            inputs, targets = inputs.to(DEVICE), targets.to(DEVICE)\n",
    "            print(optimizer.state_dict()['param_groups'][0]['lr'])\n",
    "\n",
    "            if current_batch <= warmup_batches:\n",
    "                adjust_learning_rate(optimizer, current_batch, warmup_batches, LR)\n",
    "\n",
    "            optimizer.zero_grad()\n",
    "            outputs = net(inputs)\n",
    "            loss = -1.0*criterion(outputs, targets)\n",
    "            loss.backward()\n",
    "            optimizer.step()\n",
    "            \n",
    "\n",
    "            # Retrain step (X times)\n",
    "            for _ in range(repair_steps):\n",
    "                try:\n",
    "                    sample = next(iter_retain)\n",
    "                    current_batch += 1\n",
    "                except:\n",
    "                    iter_retain = iter(retain_loader)\n",
    "                    sample = next(iter_retain)\n",
    "                    current_batch += 1\n",
    "\n",
    "                inputs, targets = sample\n",
    "                inputs, targets = inputs.to(DEVICE), targets.to(DEVICE)\n",
    "                print(optimizer.state_dict()['param_groups'][0]['lr'])\n",
    "\n",
    "                if current_batch <= warmup_batches:\n",
    "                    adjust_learning_rate(optimizer, current_batch, warmup_batches, LR)\n",
    "\n",
    "                optimizer.zero_grad()\n",
    "                outputs = net(inputs)\n",
    "                loss = +1.0*criterion(outputs, targets)\n",
    "                loss.backward()\n",
    "                optimizer.step()\n",
    "\n",
    "    # RETRAIN\n",
    "    for sample in retain_loader:\n",
    "\n",
    "        current_batch += 1\n",
    "\n",
    "        # Get inputs and targets\n",
    "        inputs, targets = sample\n",
    "        inputs, targets = inputs.to(DEVICE), targets.to(DEVICE)\n",
    "        print(optimizer.state_dict()['param_groups'][0]['lr'])\n",
    "        \n",
    "        # Warm-up for the first 'warmup_batches' batches\n",
    "        if current_batch <= warmup_batches:\n",
    "            adjust_learning_rate(optimizer, current_batch, warmup_batches, LR)\n",
    "            \n",
    "        optimizer.zero_grad()\n",
    "        outputs = net(inputs)\n",
    "        loss = criterion(outputs, targets)\n",
    "        loss.backward()\n",
    "        optimizer.step()\n",
    "\n",
    "        # Ensure that there is only 1 epoch overall\n",
    "        if current_batch>len(retain_loader):\n",
    "            break\n",
    "            \n",
    "            \n",
    "    # # NOISE\n",
    "    # inject_noise(net, noise_level=0.05)\n",
    "    \n",
    "    # scheduler = torch.optim.lr_scheduler.CosineAnnealingLR(optimizer, T_max=len(retain_loader))\n",
    "    \n",
    "    # # RETRAIN AGAIN\n",
    "    # for sample in retain_loader:\n",
    "\n",
    "    #     # Get inputs and targets\n",
    "    #     inputs = sample[\"image\"]\n",
    "    #     targets = sample[\"age_group\"]\n",
    "    #     inputs, targets = inputs.to(DEVICE), targets.to(DEVICE)\n",
    "            \n",
    "    #     optimizer.zero_grad()\n",
    "    #     outputs = net(inputs)\n",
    "    #     loss = criterion(outputs, targets)\n",
    "    #     loss.backward()\n",
    "    #     optimizer.step()\n",
    "    #     scheduler.step()"
   ]
  },
  {
   "cell_type": "markdown",
   "metadata": {},
   "source": [
    "# Calculate losses from unlearn model"
   ]
  },
  {
   "cell_type": "code",
   "execution_count": 21,
   "metadata": {},
   "outputs": [],
   "source": [
    "# Clean\n",
    "gc.collect()\n",
    "torch.cuda.empty_cache()"
   ]
  },
  {
   "cell_type": "code",
   "execution_count": 22,
   "metadata": {},
   "outputs": [
    {
     "name": "stdout",
     "output_type": "stream",
     "text": [
      "...........\n",
      "Retain acc: 0.9573829262827694\n",
      "Test acc: 0.8464473684210526\n"
     ]
    }
   ],
   "source": [
    "print('...........')\n",
    "print(f'Retain acc: {accuracy(net, retain_loader)}')\n",
    "print(f'Test acc: {accuracy(net, test_loader)}')"
   ]
  },
  {
   "cell_type": "code",
   "execution_count": 45,
   "metadata": {},
   "outputs": [
    {
     "name": "stderr",
     "output_type": "stream",
     "text": [
      "100%|██████████| 27/27 [04:34<00:00, 10.15s/it]\n"
     ]
    }
   ],
   "source": [
    "X = len(os.listdir('./imbalanced_cifar/checkpoints/'))  # number of times to run the unlearning algorithm\n",
    "unlearn_losses = [[] for _ in range(len(forget_loader.dataset))]  # List of lists to hold losses per sample index\n",
    "forget_accs = []\n",
    "test_accs = []\n",
    "retain_accs = []\n",
    "\n",
    "for i in tqdm(range(X)):\n",
    "    \n",
    "    # Load original model\n",
    "    weights_pretrained = torch.load(local_path, map_location=DEVICE)\n",
    "    net = resnet18(weights=None, num_classes=10)\n",
    "    try:\n",
    "        net.load_state_dict(weights_pretrained)\n",
    "    except:\n",
    "        net.load_state_dict(weights_pretrained['net'])\n",
    "    net.to(DEVICE)\n",
    "    net.train()\n",
    "\n",
    "    # Hyperparams\n",
    "    batch_size = 64\n",
    "    pruning_amount = 0.2\n",
    "    LR = 0.001/2\n",
    "    overall_warmup_pct = 0.8 \n",
    "    optimizer_warmup_pct = 0.1 \n",
    "    forget_repair_epochs = 1 \n",
    "    repair_steps = 4 \n",
    "\n",
    "    # Prune\n",
    "    unstructure_prune(net, pruning_amount=pruning_amount, global_pruning=True, random_init=False, only_fc=False)\n",
    "    \n",
    "    # Unlearn\n",
    "    unlearning(net, retain_loader, forget_loader, LR, overall_warmup_pct, optimizer_warmup_pct, forget_repair_epochs, repair_steps)\n",
    "    # \n",
    "    # # Unlearn\n",
    "    # for _ in range(unlearn_steps):\n",
    "    #     forget(net, forget_loader, forget_lr)\n",
    "    #     retrain(net, retain_loader, retain_lr, steps_per_epoch=len(forget_loader)*10)\n",
    "        \n",
    "    # if reset_fc:\n",
    "    #     net.fc.reset_parameters()\n",
    "    # retrain_slow(net, retain_loader, LR, noise_level=0, epochs=1)\n",
    "\n",
    "    # Unlearn\n",
    "    # inject_noise(net.fc, noise_level=0.25)\n",
    "    # advanced_neggrad(net, retain_loader, forget_loader, 0.001, epochs=5)\n",
    "    # intermid_lr = rewind(net, retain_loader, forget_loader, 1e-3, epochs=8)\n",
    "\n",
    "    # unstructure_prune(net, pruning_amount=pruning, global_pruning=True, random_init=False, only_fc=False)\n",
    "    \n",
    "    # Prune\n",
    "    # unstructure_prune(net, pruning_amount=pruning_amount, global_pruning=True, random_init=False, only_fc=False)\n",
    "    \n",
    "    # # Unlearn\n",
    "    # inject_noise(net, noise_level=0.25)\n",
    "    # for _ in range(unlearn_steps):\n",
    "    #     retrain(net, retain_loader, retain_lr, steps_per_epoch=len(forget_loader)*multiplier_retrain)\n",
    "    #     forget(net, forget_loader, forget_lr)\n",
    "    #     print('...........')\n",
    "    #     print(f'Forget acc: {accuracy(net, forget_loader)}')\n",
    "    #     print(f'Test acc: {accuracy(net, test_loader)}')\n",
    "        \n",
    "        \n",
    "    # if reset_fc:\n",
    "    #     net.fc.reset_parameters()\n",
    "    # retrain_slow(net, retain_loader, retain_lr, noise_level=noise_level, epochs=epochs)\n",
    "\n",
    "    # print('...........')\n",
    "    # print(f'Forget acc: {accuracy(net, forget_loader)}')\n",
    "    # print(f'Test acc: {accuracy(net, test_loader)}')\n",
    "\n",
    "    # sys.exit()\n",
    "\n",
    "    net.eval()\n",
    "    run_losses = []\n",
    "\n",
    "    for inputs, targets in forget_loader_not_shuffle:\n",
    "        inputs, targets = inputs.to(DEVICE), targets.to(DEVICE)\n",
    "        batch_losses = calculate_loss(net, inputs, targets)\n",
    "        run_losses.extend(batch_losses)\n",
    "\n",
    "    for idx, loss in enumerate(run_losses):\n",
    "        unlearn_losses[idx].append(loss)\n",
    "\n",
    "    # Calc metrics\n",
    "    retain_accs.append(accuracy(net, retain_loader))\n",
    "    forget_accs.append(accuracy(net, forget_loader))\n",
    "    test_accs.append(accuracy(net, test_loader))\n",
    "\n",
    "    # print(accuracy(net, retain_loader))\n",
    "    # print(f'Forget acc: {forget_accs[-1]}')\n",
    "    # print(f'Test acc: {test_accs[-1]}')\n",
    "\n",
    "    # Clean\n",
    "    gc.collect()\n",
    "    torch.cuda.empty_cache()"
   ]
  },
  {
   "cell_type": "code",
   "execution_count": 46,
   "metadata": {},
   "outputs": [
    {
     "name": "stdout",
     "output_type": "stream",
     "text": [
      "Retain acc: 0.9760699081335424\n",
      "Forget acc: 0.9752577319587629\n",
      "Test acc: 0.7392105263157894\n"
     ]
    }
   ],
   "source": [
    "print(f'Retain acc: {retain_accs[-1]}')\n",
    "print(f'Forget acc: {forget_accs[-1]}')\n",
    "print(f'Test acc: {test_accs[-1]}')"
   ]
  },
  {
   "cell_type": "code",
   "execution_count": 47,
   "metadata": {},
   "outputs": [],
   "source": [
    "# print(f'Retain acc: {accuracy(net, retain_loader)}')"
   ]
  },
  {
   "cell_type": "markdown",
   "metadata": {},
   "source": [
    "# Metrics"
   ]
  },
  {
   "cell_type": "markdown",
   "metadata": {},
   "source": [
    "### Accuracy"
   ]
  },
  {
   "cell_type": "code",
   "execution_count": 48,
   "metadata": {},
   "outputs": [
    {
     "data": {
      "image/png": "[encoded data removed]",
      "text/plain": [
       "<Figure size 640x480 with 1 Axes>"
      ]
     },
     "metadata": {},
     "output_type": "display_data"
    }
   ],
   "source": [
    "plt.hist(forget_accs, color='blue', label='Forget')\n",
    "plt.axvline(x=np.mean(forget_accs), color='blue')\n",
    "plt.hist(test_accs, color='red', label='Test')\n",
    "plt.axvline(x=np.mean(test_accs), color='red')\n",
    "plt.legend()\n",
    "plt.show()"
   ]
  },
  {
   "cell_type": "code",
   "execution_count": 49,
   "metadata": {},
   "outputs": [
    {
     "data": {
      "image/png": "[encoded data removed]",
      "text/plain": [
       "<Figure size 640x480 with 1 Axes>"
      ]
     },
     "metadata": {},
     "output_type": "display_data"
    }
   ],
   "source": [
    "idx = 108\n",
    "plt.vlines(original_losses[idx], ymin=0, ymax=1, color='blue', label='Scratch')\n",
    "plt.vlines(unlearn_losses[idx], ymin=0, ymax=1, color='red', label='Unlearn')\n",
    "plt.xscale('log')\n",
    "plt.legend()\n",
    "plt.show()"
   ]
  },
  {
   "cell_type": "markdown",
   "metadata": {},
   "source": [
    "## Simple MIA"
   ]
  },
  {
   "cell_type": "code",
   "execution_count": 50,
   "metadata": {},
   "outputs": [
    {
     "data": {
      "image/png": "[encoded data removed]",
      "text/plain": [
       "<Figure size 640x480 with 1 Axes>"
      ]
     },
     "metadata": {},
     "output_type": "display_data"
    }
   ],
   "source": [
    "acc_scores = []\n",
    "\n",
    "for idx, original_loss in enumerate(original_losses):\n",
    "    acc_scores.append(simple_mia(original_loss, unlearn_losses[idx], n_splits=10, random_state=0).mean())\n",
    "\n",
    "plt.hist(acc_scores, bins=50, log=True)\n",
    "plt.title(f'Simple MIA, mean={np.mean(acc_scores):.2f}, median={np.median(acc_scores):.2f}');"
   ]
  },
  {
   "cell_type": "markdown",
   "metadata": {},
   "source": [
    "## Paper forget score"
   ]
  },
  {
   "cell_type": "code",
   "execution_count": 51,
   "metadata": {},
   "outputs": [
    {
     "name": "stderr",
     "output_type": "stream",
     "text": [
      "Computing F...: 100%|██████████| 27/27 [00:00<00:00, 162.14it/s]\n"
     ]
    },
    {
     "data": {
      "text/plain": [
       "0.0013834635416666667"
      ]
     },
     "execution_count": 51,
     "metadata": {},
     "output_type": "execute_result"
    }
   ],
   "source": [
    "f = forgetting_quality(\n",
    "    unlearn_losses,\n",
    "    original_losses,\n",
    "    attacks=[tree_attack, best_threshold_attack], #best_threshold_attack logistic_regression_attack\n",
    "    delta=0.01)\n",
    "f"
   ]
  },
  {
   "cell_type": "code",
   "execution_count": 52,
   "metadata": {},
   "outputs": [
    {
     "name": "stdout",
     "output_type": "stream",
     "text": [
      "Final score: 0.0011854107831894098\n"
     ]
    }
   ],
   "source": [
    "RA_ratio = np.clip(np.mean(retain_accs) / RAR, 0, 1)\n",
    "TA_ratio = np.clip(np.mean(test_accs) / TAR, 0, 1)\n",
    "print(f'Final score: {f * RA_ratio * TA_ratio}')"
   ]
  },
  {
   "cell_type": "markdown",
   "metadata": {},
   "source": [
    "### KL"
   ]
  },
  {
   "cell_type": "code",
   "execution_count": 53,
   "metadata": {},
   "outputs": [
    {
     "data": {
      "image/png": "[encoded data removed]",
      "text/plain": [
       "<Figure size 640x480 with 1 Axes>"
      ]
     },
     "metadata": {},
     "output_type": "display_data"
    }
   ],
   "source": [
    "kl_losses = []\n",
    "epsilon = 1e-2\n",
    "\n",
    "for idx, original_loss in enumerate(original_losses):\n",
    "    # losses_from_scratch = np.log(np.array(original_loss)/2 + epsilon)\n",
    "    # losses_unlearn = np.log(np.array(unlearn_losses[idx]) + epsilon)\n",
    "\n",
    "    # losses_from_scratch = np.random.lognormal(mean=losses_from_scratch.mean(), sigma=losses_from_scratch.std(), size=1000)\n",
    "    # losses_unlearn = np.random.lognormal(mean=losses_unlearn.mean(), sigma=losses_unlearn.std(), size=1000)\n",
    "\n",
    "    losses_from_scratch = np.array(original_loss)\n",
    "    # losses_unlearn = np.array(unlearn_losses[idx])\n",
    "    losses_unlearn = random.sample(unlearn_losses[idx], len(losses_from_scratch))\n",
    "\n",
    "    # Ensure all losses are non-negative (they should naturally be if they are losses)\n",
    "    # assert np.all(losses_from_scratch >= 0) and np.all(losses_unlearn >= 0), \"Losses must be non-negative\"\n",
    "\n",
    "    # Normalize the losses to sum to one to represent probability distributions\n",
    "    prob_dist_scratch = losses_from_scratch / np.sum(losses_from_scratch)\n",
    "    prob_dist_unlearn = losses_unlearn / np.sum(losses_unlearn)\n",
    "\n",
    "    prob_dist_scratch += epsilon\n",
    "    prob_dist_unlearn += epsilon\n",
    "\n",
    "    # Normalize again after adding epsilon to ensure they sum to one\n",
    "    prob_dist_scratch /= np.sum(prob_dist_scratch)\n",
    "    prob_dist_unlearn /= np.sum(prob_dist_unlearn)\n",
    "\n",
    "    # Calculate the KL divergence from scratch to unlearn\n",
    "    kl_divergence = kl_div(prob_dist_scratch, prob_dist_unlearn)\n",
    "\n",
    "    # Sum over all elements to get the total divergence\n",
    "    total_kl_divergence = np.sum(kl_divergence)\n",
    "\n",
    "    kl_losses.append(total_kl_divergence)\n",
    "\n",
    "plt.hist(kl_losses, bins=100, log=True)\n",
    "plt.title(f'KL divergence, sum={np.sum(kl_losses):.2f}, median={np.median(kl_losses):.2f}')\n",
    "plt.show()"
   ]
  },
  {
   "cell_type": "code",
   "execution_count": 54,
   "metadata": {},
   "outputs": [
    {
     "data": {
      "image/png": "[encoded data removed]",
      "text/plain": [
       "<Figure size 640x480 with 1 Axes>"
      ]
     },
     "metadata": {},
     "output_type": "display_data"
    }
   ],
   "source": [
    "# Normalize losses, calculate standard deviation, and EMD per sample\n",
    "emd_scores = []\n",
    "\n",
    "for idx, original_loss in enumerate(original_losses):\n",
    "   \n",
    "    # Calculate Earth Mover's Distance\n",
    "    emd_score = wasserstein_distance(original_loss, unlearn_losses[idx])\n",
    "    emd_scores.append(emd_score)\n",
    "\n",
    "plt.hist(emd_scores, bins=50, log=True)\n",
    "plt.title(f'EMD, sum={np.sum(emd_scores):.2f}, median={np.median(emd_scores):.2f}');"
   ]
  },
  {
   "cell_type": "code",
   "execution_count": 55,
   "metadata": {},
   "outputs": [],
   "source": [
    "# j = 0\n",
    "# plt.hist(losses_from_scratch, color='blue', label='Trained from scratch')\n",
    "# plt.axvline(x=np.mean(losses_from_scratch), color='blue')\n",
    "# plt.hist(losses_unlearn, color='red', label='Unlearn')\n",
    "# plt.axvline(x=np.mean(losses_unlearn), color='red')\n",
    "# plt.yscale('log')\n",
    "# plt.legend()\n",
    "# plt.show()"
   ]
  },
  {
   "cell_type": "code",
   "execution_count": null,
   "metadata": {},
   "outputs": [],
   "source": []
  }
 ],
 "metadata": {
  "kernelspec": {
   "display_name": "Python 3",
   "language": "python",
   "name": "python3"
  },
  "language_info": {
   "codemirror_mode": {
    "name": "ipython",
    "version": 3
   },
   "file_extension": ".py",
   "mimetype": "text/x-python",
   "name": "python",
   "nbconvert_exporter": "python",
   "pygments_lexer": "ipython3",
   "version": "3.10.5"
  }
 },
 "nbformat": 4,
 "nbformat_minor": 2
}
