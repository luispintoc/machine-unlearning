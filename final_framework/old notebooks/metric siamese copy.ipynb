{
 "cells": [
  {
   "cell_type": "code",
   "execution_count": 1,
   "metadata": {},
   "outputs": [
    {
     "name": "stdout",
     "output_type": "stream",
     "text": [
      "Running on device: CUDA\n"
     ]
    }
   ],
   "source": [
    "import os\n",
    "import requests\n",
    "import random\n",
    "import math\n",
    "import numpy as np\n",
    "import matplotlib.pyplot as plt\n",
    "from sklearn import linear_model, model_selection\n",
    "from tqdm import tqdm\n",
    "from scipy.special import kl_div\n",
    "import gc\n",
    "from sklearn.metrics.pairwise import cosine_similarity, euclidean_distances\n",
    "import pandas as pd\n",
    "from copy import deepcopy\n",
    "\n",
    "import torch\n",
    "import torch.nn.functional as F\n",
    "from torch import nn\n",
    "from torch.nn.utils import prune\n",
    "from torch import optim\n",
    "from torch.nn.functional import softmax\n",
    "from torch.utils.data import DataLoader, Dataset, TensorDataset, Subset\n",
    "\n",
    "import torchvision\n",
    "from torchvision import transforms\n",
    "from torchvision.utils import make_grid\n",
    "from torchvision.models import resnet18\n",
    "from torchvision.models.feature_extraction import create_feature_extractor\n",
    "\n",
    "DEVICE = \"cuda\" if torch.cuda.is_available() else \"cpu\"\n",
    "print(\"Running on device:\", DEVICE.upper())\n",
    "\n",
    "# manual random seed is used for dataset partitioning\n",
    "# to ensure reproducible results across runs\n",
    "SEED = 42\n",
    "RNG = torch.Generator().manual_seed(SEED)\n",
    "random.seed(SEED)\n",
    "torch.manual_seed(SEED)\n",
    "\n",
    "import sys\n",
    "sys.path.append('../')\n",
    "from utils import *\n",
    "\n",
    "# sys.path.append('../SSD/')\n",
    "# import importlib\n",
    "# importlib.reload(ssd)\n",
    "# import ssd as ssd"
   ]
  },
  {
   "cell_type": "code",
   "execution_count": 2,
   "metadata": {},
   "outputs": [],
   "source": [
    "import ssl\n",
    "\n",
    "# Create an unverified SSL context\n",
    "ssl._create_default_https_context = ssl._create_unverified_context"
   ]
  },
  {
   "cell_type": "code",
   "execution_count": 3,
   "metadata": {},
   "outputs": [],
   "source": [
    "batch_size = 512\n",
    "\n",
    "# download and pre-process CIFAR10\n",
    "normalize = transforms.Compose(\n",
    "    [\n",
    "        transforms.ToTensor(),\n",
    "        transforms.Normalize((0.4914, 0.4822, 0.4465), (0.2023, 0.1994, 0.2010)),\n",
    "    ]\n",
    ")\n",
    "\n",
    "train_set = torchvision.datasets.CIFAR10(\n",
    "    root=\"../example notebooks/data\", train=True, download=False, transform=normalize\n",
    ")\n",
    "train_loader = DataLoader(train_set, batch_size=batch_size, shuffle=True, num_workers=1)\n",
    "\n",
    "# we split held out data into test and validation set\n",
    "held_out = torchvision.datasets.CIFAR10(\n",
    "    root=\"../example notebooks/data\", train=False, download=False, transform=normalize\n",
    ")\n",
    "test_set, val_set = torch.utils.data.random_split(held_out, [0.5, 0.5], generator=RNG)\n",
    "test_loader = DataLoader(test_set, batch_size=batch_size, shuffle=False, num_workers=1)\n",
    "val_loader = DataLoader(val_set, batch_size=batch_size, shuffle=False, num_workers=1)\n",
    "\n",
    "# download the forget and retain index split\n",
    "local_path = \"../example notebooks/forget_idx.npy\"\n",
    "# if not os.path.exists(local_path):\n",
    "#     response = requests.get(\n",
    "#         \"https://storage.googleapis.com/unlearning-challenge/\" + local_path\n",
    "#     )\n",
    "#     open(local_path, \"wb\").write(response.content)\n",
    "forget_idx = np.load(local_path)\n",
    "forget_idx = random.sample(list(forget_idx),600)\n",
    "\n",
    "# construct indices of retain from those of the forget set\n",
    "forget_mask = np.zeros(len(train_set.targets), dtype=bool)\n",
    "forget_mask[forget_idx] = True\n",
    "retain_idx = np.arange(forget_mask.size)[~forget_mask]\n",
    "retain_idx = random.sample(list(retain_idx),29400)\n",
    "\n",
    "# split train set into a forget and a retain set\n",
    "forget_set = torch.utils.data.Subset(train_set, forget_idx)\n",
    "retain_set = torch.utils.data.Subset(train_set, retain_idx)\n",
    "\n",
    "forget_loader = torch.utils.data.DataLoader(\n",
    "    forget_set, batch_size=batch_size, shuffle=True, num_workers=1\n",
    ")\n",
    "retain_loader = torch.utils.data.DataLoader(\n",
    "    retain_set, batch_size=batch_size, shuffle=True, num_workers=1, generator=RNG\n",
    ")"
   ]
  },
  {
   "cell_type": "code",
   "execution_count": 4,
   "metadata": {},
   "outputs": [],
   "source": [
    "def remove_retain_similar_to_forget(feats_retain_df, feats_forget_df, batch_size=64, similarity_metric='cosine', similarity_pct=0.1):\n",
    "    features_retain = feats_retain_df.iloc[:,1:].values\n",
    "    features_forget = feats_forget_df.iloc[:,1:].values\n",
    "\n",
    "    # Compute max similarity\n",
    "    max_similarity = np.empty(features_retain.shape[0])\n",
    "    for i in range(0, features_retain.shape[0], 512):\n",
    "        batch_features_retain = features_retain[i:i+512]\n",
    "        if similarity_metric=='euclidean':\n",
    "            similarity_matrix = euclidean_distances(batch_features_retain, features_forget)\n",
    "            max_similarity[i:i+512] = np.min(similarity_matrix, axis=1)\n",
    "            top_X_pct_idx = np.argsort(max_similarity)[:int(similarity_pct * len(max_similarity))]\n",
    "        elif similarity_metric=='cosine':\n",
    "            similarity_matrix = cosine_similarity(batch_features_retain, features_forget)\n",
    "            max_similarity[i:i+512] = np.max(similarity_matrix, axis=1)\n",
    "            top_X_pct_idx = np.argsort(max_similarity)[-int(similarity_pct * len(max_similarity)):]\n",
    "\n",
    "    # Get X% of data points\n",
    "    similar_df = feats_retain_df.iloc[top_X_pct_idx]\n",
    "    similar_ids_set = set(top_X_pct_idx)\n",
    "    \n",
    "    include_indices = [i for i,data_id in enumerate(feats_retain_df['unique_id']) if data_id not in similar_ids_set]\n",
    "    filtered_dataset = Subset(retain_loader.dataset, include_indices)\n",
    "    \n",
    "    return DataLoader(filtered_dataset, batch_size=batch_size, shuffle=True)"
   ]
  },
  {
   "cell_type": "code",
   "execution_count": 5,
   "metadata": {},
   "outputs": [],
   "source": [
    "def reduce_dataset(\n",
    "    net, \n",
    "    retain_loader, \n",
    "    forget_loader,\n",
    "    similarity_pct\n",
    "):\n",
    "    \n",
    "    '''\n",
    "    Feature extraction\n",
    "    '''\n",
    "    \n",
    "    feat_extractor = create_feature_extractor(net, {'avgpool': 'feat1'})\n",
    "    \n",
    "    '''\n",
    "    Get class weights\n",
    "    '''\n",
    "    \n",
    "    # Retain logits\n",
    "    list_of_targets = []\n",
    "    start_idx = 0\n",
    "    data = np.empty((len(retain_loader.dataset), 513), dtype=object)\n",
    "    idx = 0\n",
    "    \n",
    "    with torch.no_grad():\n",
    "        for sample in retain_loader:\n",
    "            # Get logits\n",
    "            targets = sample[1]\n",
    "            list_of_targets.append(np.array(targets))\n",
    "            \n",
    "            # Feature extraction\n",
    "            inputs = sample[0]\n",
    "            person_id = sample[1]\n",
    "            image_id = sample[1]\n",
    "            outputs = feat_extractor(inputs.to(DEVICE))['feat1']\n",
    "            feats = torch.flatten(outputs, start_dim=1)\n",
    "        \n",
    "            for i in range(len(targets)):\n",
    "                data[idx] = [str(person_id[i])+'-'+str(image_id[i])] + feats[i].cpu().numpy().tolist()\n",
    "                idx +=1\n",
    "            \n",
    "    retain_class_weights = torch.tensor(1/np.bincount(np.concatenate(list_of_targets).ravel())).to(DEVICE, dtype=torch.float32)\n",
    "       \n",
    "    columns = ['unique_id'] + [f'feat_{i}' for i in range(512)]\n",
    "    feats_retain_df = pd.DataFrame(data, columns=columns)\n",
    "    \n",
    "    # Forget logits\n",
    "    list_of_targets = []\n",
    "    start_idx = 0\n",
    "    data = np.empty((len(forget_loader.dataset), 513), dtype=object)\n",
    "    idx = 0\n",
    "    \n",
    "    with torch.no_grad():\n",
    "        for sample in forget_loader:\n",
    "            # Get logits\n",
    "            targets = sample[1]\n",
    "            list_of_targets.append(np.array(targets))\n",
    "            \n",
    "            # Feature extraction\n",
    "            inputs = sample[0]\n",
    "            person_id = sample[1]\n",
    "            image_id = sample[1]\n",
    "            outputs = feat_extractor(inputs.to(DEVICE))['feat1']\n",
    "            feats = torch.flatten(outputs, start_dim=1)\n",
    "        \n",
    "            for i in range(len(targets)):\n",
    "                data[idx] = [str(person_id[i])+'-'+str(image_id[i])] + feats[i].cpu().numpy().tolist()\n",
    "                idx +=1\n",
    "            \n",
    "    forget_class_weights = torch.tensor(1/np.bincount(np.concatenate(list_of_targets).ravel())).to(DEVICE, dtype=torch.float32)\n",
    "       \n",
    "    columns = ['unique_id'] + [f'feat_{i}' for i in range(512)]\n",
    "    feats_forget_df = pd.DataFrame(data, columns=columns)\n",
    "    \n",
    "    '''\n",
    "    Reduce retain dataset\n",
    "    '''\n",
    "    \n",
    "    retain_loader = remove_retain_similar_to_forget(feats_retain_df, feats_forget_df, batch_size=retain_loader.batch_size, similarity_metric='euclidean', similarity_pct=similarity_pct)\n",
    "    \n",
    "    return retain_class_weights, forget_class_weights, retain_loader"
   ]
  },
  {
   "cell_type": "code",
   "execution_count": 6,
   "metadata": {},
   "outputs": [],
   "source": [
    "local_path = \"../example notebooks/weights/weights_resnet18_cifar10.pth\"\n",
    "if not os.path.exists(local_path):\n",
    "    response = requests.get(\n",
    "        \"https://storage.googleapis.com/unlearning-challenge/weights_resnet18_cifar10.pth\"\n",
    "    )\n",
    "    open(local_path, \"wb\").write(response.content)\n",
    "\n",
    "weights_pretrained = torch.load(local_path, map_location=DEVICE) #43Mbs\n",
    "# weights_pretrained = torch.load(\"../checkpoints/0.pt\", map_location=DEVICE)\n",
    "\n",
    "# load model with pre-trained weights\n",
    "net = resnet18(weights=None, num_classes=10)\n",
    "net.load_state_dict(weights_pretrained)\n",
    "net.to(DEVICE)\n",
    "net.eval();"
   ]
  },
  {
   "cell_type": "code",
   "execution_count": 7,
   "metadata": {},
   "outputs": [],
   "source": [
    "# Reduce retain set and calculate class weights\n",
    "# retain_class_weights, forget_class_weights, retain_loader = reduce_dataset(net, retain_loader, forget_loader, similarity_pct=0.20)"
   ]
  },
  {
   "cell_type": "code",
   "execution_count": 8,
   "metadata": {},
   "outputs": [],
   "source": [
    "def calculate_loss(model, inputs, targets):\n",
    "    model.eval()\n",
    "    with torch.no_grad():\n",
    "        outputs = model(inputs)\n",
    "        loss = torch.nn.CrossEntropyLoss(reduction=\"none\")(outputs, targets)\n",
    "    return loss.detach().cpu().numpy()"
   ]
  },
  {
   "cell_type": "code",
   "execution_count": 9,
   "metadata": {},
   "outputs": [],
   "source": [
    "def average_gradient_from_loader(model, optimizer, loader, num_batches):\n",
    "    last_linear_layer = model.fc\n",
    "    avg_grad = None\n",
    "    criterion = nn.CrossEntropyLoss()\n",
    "    \n",
    "    count = 0\n",
    "    for i, (data, target) in enumerate(loader):\n",
    "        if i >= num_batches:\n",
    "            break\n",
    "        data, target = data.to(DEVICE), target.to(DEVICE)\n",
    "        optimizer.zero_grad()\n",
    "        output = model(data)\n",
    "        loss = criterion(output, target)\n",
    "        loss.backward()\n",
    "        if avg_grad is None:\n",
    "            avg_grad = last_linear_layer.weight.grad.clone()\n",
    "        else:\n",
    "            avg_grad += last_linear_layer.weight.grad.clone()\n",
    "\n",
    "        count +=1\n",
    "\n",
    "        return avg_grad / count"
   ]
  },
  {
   "cell_type": "markdown",
   "metadata": {},
   "source": [
    "# Calculate losses from trained from scratch"
   ]
  },
  {
   "cell_type": "code",
   "execution_count": 10,
   "metadata": {},
   "outputs": [],
   "source": [
    "original_losses = [[] for _ in range(len(forget_loader.dataset))]\n",
    "\n",
    "for checkpoint in os.listdir('../unlearn metric/checkpoints/'):\n",
    "\n",
    "    weights_pretrained = torch.load(f\"../unlearn metric/checkpoints/{checkpoint}\", map_location=DEVICE)\n",
    "    try:\n",
    "        net.load_state_dict(weights_pretrained['net'])\n",
    "    except:\n",
    "        net.load_state_dict(weights_pretrained['model_state_dict'])\n",
    "    net.to(DEVICE)\n",
    "    net.eval();\n",
    "\n",
    "    run_losses = []\n",
    "\n",
    "    for inputs, targets in forget_loader:\n",
    "        inputs, targets = inputs.to(DEVICE), targets.to(DEVICE)\n",
    "        batch_losses = calculate_loss(net, inputs, targets)\n",
    "        run_losses.extend(batch_losses)\n",
    "\n",
    "    for idx, loss in enumerate(run_losses):\n",
    "        original_losses[idx].append(loss)"
   ]
  },
  {
   "cell_type": "markdown",
   "metadata": {},
   "source": [
    "# Unlearn"
   ]
  },
  {
   "cell_type": "code",
   "execution_count": 11,
   "metadata": {},
   "outputs": [],
   "source": [
    "# Function to inject noise into the model's weights\n",
    "def inject_noise(model, noise_level=0.01):\n",
    "    with torch.no_grad():\n",
    "        for name, param in model.named_parameters():\n",
    "            if 'weight' in name:\n",
    "                noise = torch.randn_like(param) * param.abs() * noise_level\n",
    "                param.add_(noise)\n",
    "            elif 'bias' in name:\n",
    "                noise = torch.randn_like(param) * param.abs() * noise_level\n",
    "                param.add_(noise)"
   ]
  },
  {
   "cell_type": "code",
   "execution_count": 12,
   "metadata": {},
   "outputs": [],
   "source": [
    "def inject_decay_noise(model, base_noise_level, decay_rate, global_step, min_noise_level=1e-6):\n",
    "    with torch.no_grad():\n",
    "        decayed_noise_level = max(base_noise_level * (decay_rate ** global_step), min_noise_level)\n",
    "        if decayed_noise_level <= min_noise_level:\n",
    "            return  # Skip noise injection if the level is below the threshold\n",
    "        for name, param in model.named_parameters():\n",
    "            if 'weight' in name:\n",
    "                noise = torch.randn_like(param) * decayed_noise_level * param.abs()\n",
    "                param.add_(noise)\n",
    "            elif 'bias' in name:\n",
    "                noise = torch.randn_like(param) * decayed_noise_level * param.abs()\n",
    "                param.add_(noise)"
   ]
  },
  {
   "cell_type": "code",
   "execution_count": 13,
   "metadata": {},
   "outputs": [],
   "source": [
    "def forget(net, forget_loader, optimizer):\n",
    "\n",
    "    epochs = 1\n",
    "\n",
    "    criterion = nn.CrossEntropyLoss(label_smoothing=0.0)\n",
    "    net.train()\n",
    "\n",
    "    for _ in range(epochs):\n",
    "        for inputs, targets in forget_loader:\n",
    "            inputs, targets = inputs.to(DEVICE), targets.to(DEVICE)\n",
    "\n",
    "            # Warm-up for the first 'warmup_batches' batches\n",
    "            # if current_batch <= warmup_batches:\n",
    "            #     adjust_learning_rate(optimizer, current_batch, warmup_batches, initial_lr)\n",
    "\n",
    "            optimizer.zero_grad()\n",
    "            outputs = net(inputs)\n",
    "            loss = -1.0*criterion(outputs, targets)\n",
    "            loss.backward()\n",
    "\n",
    "            nn.utils.clip_grad_value_(net.parameters(), 2)\n",
    "\n",
    "            optimizer.step()\n",
    "        # scheduler.step()"
   ]
  },
  {
   "cell_type": "code",
   "execution_count": 14,
   "metadata": {},
   "outputs": [],
   "source": [
    "def forget_slow(net, forget, initial_lr=0.1, noise_level=0, epochs=1):\n",
    "\n",
    "    current_batch = 0\n",
    "    warmup_batches = len(forget)\n",
    "    global_step = 0\n",
    "\n",
    "    criterion = nn.CrossEntropyLoss(label_smoothing=0.0)\n",
    "    optimizer = optim.SGD(net.parameters(), lr=initial_lr, momentum=0.9, weight_decay=5e-3)\n",
    "    scheduler = torch.optim.lr_scheduler.CosineAnnealingLR(optimizer, T_max=epochs)\n",
    "\n",
    "    net.train()\n",
    "\n",
    "    if noise_level>0:\n",
    "        inject_noise(net, noise_level=noise_level)\n",
    "\n",
    "    for ep in range(epochs):\n",
    "\n",
    "        # if ep<epochs-2:\n",
    "        #     inject_noise(net, noise_level=0.20/(ep+1))\n",
    "\n",
    "        for inputs, targets in forget:\n",
    "            inputs, targets = inputs.to(DEVICE), targets.to(DEVICE)\n",
    "\n",
    "            current_batch += 1\n",
    "\n",
    "            # Warm-up for the first 'warmup_batches' batches\n",
    "            if current_batch <= warmup_batches:\n",
    "                adjust_learning_rate(optimizer, current_batch, warmup_batches, initial_lr)\n",
    "\n",
    "            optimizer.zero_grad()\n",
    "            outputs = net(inputs)\n",
    "            loss = -1.0*criterion(outputs, targets)\n",
    "            loss.backward()\n",
    "\n",
    "            nn.utils.clip_grad_value_(net.parameters(), 2)\n",
    "            \n",
    "            optimizer.step()\n",
    "\n",
    "        # print(accuracy(net, retain_loader))\n",
    "        # print(accuracy(net, forget_loader))\n",
    "\n",
    "        scheduler.step()"
   ]
  },
  {
   "cell_type": "code",
   "execution_count": 15,
   "metadata": {},
   "outputs": [],
   "source": [
    "def retrain_slow(net, retain, initial_lr=0.1, noise_level=0.2, epochs=1, steps_per_epoch=len(retain_loader)):\n",
    "\n",
    "    current_batch = 0\n",
    "    warmup_batches = steps_per_epoch\n",
    "    global_step = 0\n",
    "\n",
    "    criterion = nn.CrossEntropyLoss(label_smoothing=0.0)\n",
    "    optimizer = optim.SGD(net.parameters(), lr=initial_lr, momentum=0.9, weight_decay=5e-3)\n",
    "    scheduler = torch.optim.lr_scheduler.CosineAnnealingLR(optimizer, T_max=epochs+1)\n",
    "\n",
    "    net.train()\n",
    "\n",
    "    if noise_level>0:\n",
    "        inject_noise(net, noise_level=noise_level)\n",
    "\n",
    "    for ep in range(epochs):\n",
    "\n",
    "        # if ep<epochs-2:\n",
    "        #     inject_noise(net, noise_level=0.20/(ep+1))\n",
    "\n",
    "        for inputs, targets in retain:\n",
    "            inputs, targets = inputs.to(DEVICE), targets.to(DEVICE)\n",
    "\n",
    "            current_batch += 1\n",
    "\n",
    "            # Warm-up for the first 'warmup_batches' batches\n",
    "            if current_batch <= warmup_batches:\n",
    "                adjust_learning_rate(optimizer, current_batch, warmup_batches, initial_lr)\n",
    "\n",
    "            optimizer.zero_grad()\n",
    "            outputs = net(inputs)\n",
    "            loss = criterion(outputs, targets)\n",
    "            loss.backward()\n",
    "\n",
    "            nn.utils.clip_grad_value_(net.parameters(), 2)\n",
    "            \n",
    "            optimizer.step()\n",
    "            global_step += 1\n",
    "\n",
    "            # if global_step>=steps_per_epoch:\n",
    "            #     break\n",
    "\n",
    "        scheduler.step()"
   ]
  },
  {
   "cell_type": "code",
   "execution_count": 16,
   "metadata": {},
   "outputs": [],
   "source": [
    "def retrain(net, retain, optimizer, steps_per_epoch=len(retain_loader)):\n",
    "\n",
    "    criterion = nn.CrossEntropyLoss(label_smoothing=0.0)\n",
    "    steps = 0\n",
    "    net.train()\n",
    "\n",
    "    for ep in range(1):\n",
    "\n",
    "        # if ep<epochs-1:\n",
    "        #     inject_noise(net, noise_level=0.2/(ep+1))\n",
    "\n",
    "        for inputs, targets in retain:\n",
    "            inputs, targets = inputs.to(DEVICE), targets.to(DEVICE)\n",
    "\n",
    "            # current_batch += 1\n",
    "\n",
    "            # # Warm-up for the first 'warmup_batches' batches\n",
    "            # if current_batch <= warmup_batches:\n",
    "            #     adjust_learning_rate(optimizer, current_batch, warmup_batches, initial_lr)\n",
    "\n",
    "            optimizer.zero_grad()\n",
    "            outputs = net(inputs)\n",
    "            loss = criterion(outputs, targets)\n",
    "            loss.backward()\n",
    "\n",
    "            nn.utils.clip_grad_value_(net.parameters(), 2)\n",
    "            \n",
    "            optimizer.step()\n",
    "\n",
    "            steps+=1\n",
    "\n",
    "            if steps>=steps_per_epoch:\n",
    "                break\n",
    "        # scheduler.step()"
   ]
  },
  {
   "cell_type": "code",
   "execution_count": 27,
   "metadata": {},
   "outputs": [],
   "source": [
    "class SiameseNetwork(nn.Module):\n",
    "    def __init__(self, feature_size):\n",
    "        super(SiameseNetwork, self).__init__()\n",
    "        self.branch = nn.Sequential(\n",
    "            nn.Linear(feature_size, 32),\n",
    "            nn.ReLU(),\n",
    "            nn.Dropout(0.5),\n",
    "            nn.Linear(32, 16)\n",
    "        )\n",
    "\n",
    "    def forward(self, input1, input2):\n",
    "        output1 = self.branch(input1)\n",
    "        output2 = self.branch(input2)\n",
    "        return output1, output2\n",
    "\n",
    "def contrastive_loss(output1, output2, label, margin=1.0):\n",
    "    euclidean_distance = nn.functional.pairwise_distance(output1, output2)\n",
    "    loss_contrastive = torch.mean((1 - label) * torch.pow(euclidean_distance, 2) +\n",
    "                                  label * torch.pow(torch.clamp(margin - euclidean_distance, min=0.0), 2))\n",
    "    return loss_contrastive"
   ]
  },
  {
   "cell_type": "code",
   "execution_count": 28,
   "metadata": {},
   "outputs": [],
   "source": [
    "def train_siamese_net(siamese_net, net, optimizer, retain_loader, forget_loader, val_loader, epochs=20):\n",
    "\n",
    "    # Training Loop\n",
    "    for epoch in range(epochs):\n",
    "\n",
    "        iter_retain = iter(retain_loader)\n",
    "        iter_forget = iter(forget_loader)\n",
    "        iter_val = iter(val_loader)\n",
    "        running_loss = 0\n",
    "        retain_loss = 0\n",
    "        val_loss = 0\n",
    "\n",
    "        sample_retain = next(iter_retain)\n",
    "        sample_forget = next(iter_forget)\n",
    "        sample_val = next(iter_val)\n",
    "\n",
    "        # Get inputs and labels from dataloader\n",
    "        input_retain, _ = sample_retain\n",
    "        input_forget, _ = sample_forget\n",
    "        input_val, _ = sample_val\n",
    "\n",
    "        input_retain = net(input_retain.to(DEVICE))\n",
    "        input_forget = net(input_forget.to(DEVICE))\n",
    "        input_val = net(input_val.to(DEVICE))\n",
    "\n",
    "        optimizer.zero_grad()\n",
    "\n",
    "        # Forward pass with retain and forget\n",
    "        output_retain, output_forget = siamese_net(input_retain, input_forget)\n",
    "        loss_retain_forget = contrastive_loss(output_retain, output_forget, label=0)  # Label 0 for similar\n",
    "\n",
    "        # Forward pass with val and forget\n",
    "        output_val, _ = siamese_net(input_val, input_forget)\n",
    "        loss_val_forget = contrastive_loss(output_val, output_forget, label=1)  # Label 1 for dissimilar\n",
    "\n",
    "        # Combine losses and backpropagate\n",
    "        total_loss = loss_retain_forget + loss_val_forget\n",
    "        running_loss += total_loss.item()\n",
    "        retain_loss += loss_retain_forget.item()\n",
    "        val_loss += loss_val_forget.item()\n",
    "        total_loss.backward()\n",
    "        optimizer.step()\n",
    "\n",
    "    # Print loss after epoch\n",
    "    print(f'Epoch {epoch} - Total loss: {running_loss:.4f} - Retain loss: {retain_loss:.4f} - Val loss: {val_loss:.4f}')"
   ]
  },
  {
   "cell_type": "code",
   "execution_count": 19,
   "metadata": {},
   "outputs": [],
   "source": [
    "# Unlearn Loop\n",
    "def siamese_unlearn(net, siamese_net, retain_loader, forget_loader, val_loader, epochs=10):\n",
    "\n",
    "    optimizer_net = optim.Adam(net.parameters(), lr=0.001)#, momentum=0.9, weight_decay=5e-3)\n",
    "\n",
    "    for epoch in range(epochs):\n",
    "\n",
    "        iter_retain = iter(retain_loader)\n",
    "        iter_forget = iter(forget_loader)\n",
    "        iter_val = iter(val_loader)\n",
    "        running_loss = 0\n",
    "        retain_loss = 0\n",
    "        val_loss = 0\n",
    "\n",
    "        sample_retain = next(iter_retain)\n",
    "        sample_forget = next(iter_forget)\n",
    "        sample_val = next(iter_val)\n",
    "            \n",
    "\n",
    "        # Get inputs and labels from dataloader\n",
    "        input_retain, _ = sample_retain\n",
    "        input_forget, _ = sample_forget\n",
    "        input_val, _ = sample_val\n",
    "\n",
    "        input_retain = net(input_retain.to(DEVICE))\n",
    "        input_forget = net(input_forget.to(DEVICE))\n",
    "        input_val = net(input_val.to(DEVICE))\n",
    "\n",
    "        optimizer_net.zero_grad()\n",
    "\n",
    "        # Forward pass with retain and forget\n",
    "        output_retain, output_forget = siamese_net(input_retain, input_forget)\n",
    "        loss_retain_forget = contrastive_loss(output_retain, output_forget, label=1)  # Label 0 for similar\n",
    "\n",
    "        # Forward pass with val and forget\n",
    "        output_val, _ = siamese_net(input_val, input_forget)\n",
    "        loss_val_forget = contrastive_loss(output_val, output_forget, label=0)  # Label 1 for dissimilar\n",
    "\n",
    "        # Combine losses and backpropagate\n",
    "        total_loss = loss_retain_forget + loss_val_forget\n",
    "        # total_loss = -total_loss\n",
    "\n",
    "\n",
    "        running_loss += total_loss.item()\n",
    "        retain_loss += loss_retain_forget.item()\n",
    "        val_loss += loss_val_forget.item()\n",
    "        total_loss.backward()\n",
    "        optimizer_net.step()"
   ]
  },
  {
   "cell_type": "markdown",
   "metadata": {},
   "source": [
    "# Calculate losses from unlearn model"
   ]
  },
  {
   "cell_type": "code",
   "execution_count": 34,
   "metadata": {},
   "outputs": [],
   "source": [
    "# Clean\n",
    "gc.collect()\n",
    "torch.cuda.empty_cache()"
   ]
  },
  {
   "cell_type": "code",
   "execution_count": 35,
   "metadata": {},
   "outputs": [],
   "source": [
    "# siamese_net = SiameseNetwork(feature_size=10).to('cuda')  # Define the appropriate feature size\n",
    "# siamese_optimizer = optim.NAdam(siamese_net.parameters(), lr=0.2)\n",
    "# siamese_net.train()\n",
    "\n",
    "# train_siamese_net(siamese_net, net, siamese_optimizer, retain_loader, forget_loader, val_loader, epochs=5)"
   ]
  },
  {
   "cell_type": "code",
   "execution_count": 36,
   "metadata": {},
   "outputs": [
    {
     "name": "stderr",
     "output_type": "stream",
     "text": [
      "  0%|          | 0/14 [00:00<?, ?it/s]"
     ]
    },
    {
     "name": "stdout",
     "output_type": "stream",
     "text": [
      "Epoch 0 - Total loss: 36.9018 - Retain loss: 36.9018 - Val loss: 0.0000\n",
      "Epoch 1 - Total loss: 52.9407 - Retain loss: 52.9400 - Val loss: 0.0007\n",
      "Epoch 2 - Total loss: 21.2471 - Retain loss: 21.2467 - Val loss: 0.0005\n",
      "Epoch 3 - Total loss: 6.9624 - Retain loss: 6.9267 - Val loss: 0.0357\n",
      "Epoch 4 - Total loss: 2.2801 - Retain loss: 2.2007 - Val loss: 0.0794\n",
      "Epoch 5 - Total loss: 0.7366 - Retain loss: 0.4851 - Val loss: 0.2515\n"
     ]
    },
    {
     "name": "stderr",
     "output_type": "stream",
     "text": [
      "  7%|▋         | 1/14 [02:51<37:15, 171.98s/it]"
     ]
    },
    {
     "name": "stdout",
     "output_type": "stream",
     "text": [
      "Epoch 0 - Total loss: 30.2185 - Retain loss: 30.2185 - Val loss: 0.0000\n",
      "Epoch 1 - Total loss: 69.2075 - Retain loss: 69.2075 - Val loss: 0.0000\n",
      "Epoch 2 - Total loss: 28.6000 - Retain loss: 28.6000 - Val loss: 0.0000\n",
      "Epoch 3 - Total loss: 12.8838 - Retain loss: 12.8785 - Val loss: 0.0052\n",
      "Epoch 4 - Total loss: 4.2100 - Retain loss: 4.1643 - Val loss: 0.0457\n",
      "Epoch 5 - Total loss: 0.9387 - Retain loss: 0.7058 - Val loss: 0.2329\n"
     ]
    },
    {
     "name": "stderr",
     "output_type": "stream",
     "text": [
      " 14%|█▍        | 2/14 [05:39<33:51, 169.28s/it]"
     ]
    },
    {
     "name": "stdout",
     "output_type": "stream",
     "text": [
      "Epoch 0 - Total loss: 37.9375 - Retain loss: 37.9375 - Val loss: 0.0000\n",
      "Epoch 1 - Total loss: 63.4258 - Retain loss: 63.4258 - Val loss: 0.0000\n",
      "Epoch 2 - Total loss: 50.9795 - Retain loss: 50.9790 - Val loss: 0.0005\n",
      "Epoch 3 - Total loss: 49.4185 - Retain loss: 49.4173 - Val loss: 0.0012\n",
      "Epoch 4 - Total loss: 45.9183 - Retain loss: 45.9144 - Val loss: 0.0039\n",
      "Epoch 5 - Total loss: 21.4136 - Retain loss: 21.3747 - Val loss: 0.0388\n"
     ]
    },
    {
     "name": "stderr",
     "output_type": "stream",
     "text": [
      " 21%|██▏       | 3/14 [08:31<31:15, 170.51s/it]"
     ]
    },
    {
     "name": "stdout",
     "output_type": "stream",
     "text": [
      "Epoch 0 - Total loss: 33.4510 - Retain loss: 33.4510 - Val loss: 0.0000\n",
      "Epoch 1 - Total loss: 61.4675 - Retain loss: 61.4675 - Val loss: 0.0000\n",
      "Epoch 2 - Total loss: 28.0472 - Retain loss: 28.0449 - Val loss: 0.0023\n",
      "Epoch 3 - Total loss: 9.0169 - Retain loss: 9.0078 - Val loss: 0.0091\n",
      "Epoch 4 - Total loss: 1.8520 - Retain loss: 1.7576 - Val loss: 0.0943\n",
      "Epoch 5 - Total loss: 2.1334 - Retain loss: 1.9915 - Val loss: 0.1420\n"
     ]
    },
    {
     "name": "stderr",
     "output_type": "stream",
     "text": [
      " 29%|██▊       | 4/14 [11:20<28:17, 169.78s/it]"
     ]
    },
    {
     "name": "stdout",
     "output_type": "stream",
     "text": [
      "Epoch 0 - Total loss: 37.2919 - Retain loss: 37.2919 - Val loss: 0.0000\n",
      "Epoch 1 - Total loss: 68.8732 - Retain loss: 68.8732 - Val loss: 0.0000\n",
      "Epoch 2 - Total loss: 28.7385 - Retain loss: 28.7342 - Val loss: 0.0044\n",
      "Epoch 3 - Total loss: 7.1502 - Retain loss: 7.1390 - Val loss: 0.0112\n",
      "Epoch 4 - Total loss: 2.4706 - Retain loss: 2.4272 - Val loss: 0.0434\n",
      "Epoch 5 - Total loss: 0.8303 - Retain loss: 0.6387 - Val loss: 0.1916\n"
     ]
    },
    {
     "name": "stderr",
     "output_type": "stream",
     "text": [
      " 36%|███▌      | 5/14 [14:12<25:35, 170.67s/it]"
     ]
    },
    {
     "name": "stdout",
     "output_type": "stream",
     "text": [
      "Epoch 0 - Total loss: 45.8430 - Retain loss: 45.8430 - Val loss: 0.0000\n",
      "Epoch 1 - Total loss: 98.7611 - Retain loss: 98.7611 - Val loss: 0.0000\n",
      "Epoch 2 - Total loss: 30.2302 - Retain loss: 30.2302 - Val loss: 0.0000\n",
      "Epoch 3 - Total loss: 8.6970 - Retain loss: 8.6904 - Val loss: 0.0066\n",
      "Epoch 4 - Total loss: 2.9701 - Retain loss: 2.9366 - Val loss: 0.0334\n",
      "Epoch 5 - Total loss: 0.9924 - Retain loss: 0.8736 - Val loss: 0.1188\n"
     ]
    },
    {
     "name": "stderr",
     "output_type": "stream",
     "text": [
      " 43%|████▎     | 6/14 [17:03<22:47, 170.94s/it]"
     ]
    },
    {
     "name": "stdout",
     "output_type": "stream",
     "text": [
      "Epoch 0 - Total loss: 37.5660 - Retain loss: 37.5660 - Val loss: 0.0000\n",
      "Epoch 1 - Total loss: 69.6494 - Retain loss: 69.6494 - Val loss: 0.0000\n",
      "Epoch 2 - Total loss: 36.5466 - Retain loss: 36.5465 - Val loss: 0.0001\n",
      "Epoch 3 - Total loss: 14.0072 - Retain loss: 13.9971 - Val loss: 0.0101\n",
      "Epoch 4 - Total loss: 2.2904 - Retain loss: 2.1799 - Val loss: 0.1106\n",
      "Epoch 5 - Total loss: 1.2923 - Retain loss: 1.1413 - Val loss: 0.1510\n"
     ]
    },
    {
     "name": "stderr",
     "output_type": "stream",
     "text": [
      " 50%|█████     | 7/14 [20:06<20:23, 174.83s/it]"
     ]
    },
    {
     "name": "stdout",
     "output_type": "stream",
     "text": [
      "Epoch 0 - Total loss: 34.3587 - Retain loss: 34.3587 - Val loss: 0.0000\n",
      "Epoch 1 - Total loss: 71.9717 - Retain loss: 71.9717 - Val loss: 0.0000\n",
      "Epoch 2 - Total loss: 36.9174 - Retain loss: 36.9174 - Val loss: 0.0000\n",
      "Epoch 3 - Total loss: 47.4757 - Retain loss: 47.4749 - Val loss: 0.0008\n",
      "Epoch 4 - Total loss: 32.8231 - Retain loss: 32.8131 - Val loss: 0.0099\n",
      "Epoch 5 - Total loss: 29.1862 - Retain loss: 29.1553 - Val loss: 0.0309\n"
     ]
    },
    {
     "name": "stderr",
     "output_type": "stream",
     "text": [
      " 57%|█████▋    | 8/14 [23:06<17:39, 176.55s/it]"
     ]
    },
    {
     "name": "stdout",
     "output_type": "stream",
     "text": [
      "Epoch 0 - Total loss: 44.3142 - Retain loss: 44.3142 - Val loss: 0.0000\n",
      "Epoch 1 - Total loss: 83.7375 - Retain loss: 83.7375 - Val loss: 0.0000\n",
      "Epoch 2 - Total loss: 24.9961 - Retain loss: 24.9959 - Val loss: 0.0003\n",
      "Epoch 3 - Total loss: 7.9234 - Retain loss: 7.9169 - Val loss: 0.0065\n",
      "Epoch 4 - Total loss: 1.2947 - Retain loss: 1.2110 - Val loss: 0.0837\n",
      "Epoch 5 - Total loss: 0.8212 - Retain loss: 0.6611 - Val loss: 0.1601\n"
     ]
    },
    {
     "name": "stderr",
     "output_type": "stream",
     "text": [
      " 64%|██████▍   | 9/14 [26:06<14:46, 177.38s/it]"
     ]
    },
    {
     "name": "stdout",
     "output_type": "stream",
     "text": [
      "Epoch 0 - Total loss: 42.6682 - Retain loss: 42.6682 - Val loss: 0.0000\n",
      "Epoch 1 - Total loss: 78.3922 - Retain loss: 78.3922 - Val loss: 0.0000\n",
      "Epoch 2 - Total loss: 32.4268 - Retain loss: 32.4266 - Val loss: 0.0002\n",
      "Epoch 3 - Total loss: 12.7577 - Retain loss: 12.7486 - Val loss: 0.0091\n",
      "Epoch 4 - Total loss: 5.2397 - Retain loss: 5.2094 - Val loss: 0.0303\n",
      "Epoch 5 - Total loss: 1.2835 - Retain loss: 1.1352 - Val loss: 0.1483\n"
     ]
    },
    {
     "name": "stderr",
     "output_type": "stream",
     "text": [
      " 71%|███████▏  | 10/14 [29:07<11:54, 178.66s/it]"
     ]
    },
    {
     "name": "stdout",
     "output_type": "stream",
     "text": [
      "Epoch 0 - Total loss: 36.3678 - Retain loss: 36.3678 - Val loss: 0.0000\n",
      "Epoch 1 - Total loss: 79.4438 - Retain loss: 79.4438 - Val loss: 0.0000\n",
      "Epoch 2 - Total loss: 24.7265 - Retain loss: 24.7254 - Val loss: 0.0011\n",
      "Epoch 3 - Total loss: 11.8847 - Retain loss: 11.8798 - Val loss: 0.0049\n",
      "Epoch 4 - Total loss: 4.3945 - Retain loss: 4.3627 - Val loss: 0.0318\n",
      "Epoch 5 - Total loss: 0.9340 - Retain loss: 0.7368 - Val loss: 0.1972\n"
     ]
    },
    {
     "name": "stderr",
     "output_type": "stream",
     "text": [
      " 79%|███████▊  | 11/14 [31:57<08:47, 175.92s/it]"
     ]
    },
    {
     "name": "stdout",
     "output_type": "stream",
     "text": [
      "Epoch 0 - Total loss: 35.6343 - Retain loss: 35.6343 - Val loss: 0.0000\n",
      "Epoch 1 - Total loss: 71.9485 - Retain loss: 71.9485 - Val loss: 0.0000\n",
      "Epoch 2 - Total loss: 25.7977 - Retain loss: 25.7970 - Val loss: 0.0007\n",
      "Epoch 3 - Total loss: 5.6004 - Retain loss: 5.5918 - Val loss: 0.0086\n",
      "Epoch 4 - Total loss: 1.4040 - Retain loss: 1.2951 - Val loss: 0.1089\n",
      "Epoch 5 - Total loss: 1.0218 - Retain loss: 0.8711 - Val loss: 0.1507\n"
     ]
    },
    {
     "name": "stderr",
     "output_type": "stream",
     "text": [
      " 86%|████████▌ | 12/14 [34:43<05:46, 173.05s/it]"
     ]
    },
    {
     "name": "stdout",
     "output_type": "stream",
     "text": [
      "Epoch 0 - Total loss: 36.7729 - Retain loss: 36.7729 - Val loss: 0.0000\n",
      "Epoch 1 - Total loss: 53.8145 - Retain loss: 53.8145 - Val loss: 0.0000\n",
      "Epoch 2 - Total loss: 11.9605 - Retain loss: 11.9587 - Val loss: 0.0019\n",
      "Epoch 3 - Total loss: 4.5614 - Retain loss: 4.5331 - Val loss: 0.0283\n",
      "Epoch 4 - Total loss: 1.9688 - Retain loss: 1.8573 - Val loss: 0.1115\n",
      "Epoch 5 - Total loss: 1.0057 - Retain loss: 0.8228 - Val loss: 0.1829\n"
     ]
    },
    {
     "name": "stderr",
     "output_type": "stream",
     "text": [
      " 93%|█████████▎| 13/14 [37:31<02:51, 171.32s/it]"
     ]
    },
    {
     "name": "stdout",
     "output_type": "stream",
     "text": [
      "Epoch 0 - Total loss: 39.6052 - Retain loss: 39.6052 - Val loss: 0.0000\n",
      "Epoch 1 - Total loss: 64.7202 - Retain loss: 64.7202 - Val loss: 0.0000\n",
      "Epoch 2 - Total loss: 12.9517 - Retain loss: 12.9490 - Val loss: 0.0027\n",
      "Epoch 3 - Total loss: 4.6468 - Retain loss: 4.6100 - Val loss: 0.0367\n",
      "Epoch 4 - Total loss: 1.2385 - Retain loss: 1.0919 - Val loss: 0.1465\n",
      "Epoch 5 - Total loss: 0.6656 - Retain loss: 0.4038 - Val loss: 0.2619\n"
     ]
    },
    {
     "name": "stderr",
     "output_type": "stream",
     "text": [
      "100%|██████████| 14/14 [40:18<00:00, 172.77s/it]\n"
     ]
    }
   ],
   "source": [
    "X = len(os.listdir('../unlearn metric/checkpoints/'))  # number of times to run the unlearning algorithm\n",
    "unlearn_losses = [[] for _ in range(len(forget_loader.dataset))]  # List of lists to hold losses per sample index\n",
    "forget_accs = []\n",
    "test_accs = []\n",
    "\n",
    "for i in tqdm(range(X)):\n",
    "    \n",
    "    # Load original model\n",
    "    weights_pretrained = torch.load(local_path, map_location=DEVICE)\n",
    "    net = resnet18(weights=None, num_classes=10)\n",
    "    net.load_state_dict(weights_pretrained)\n",
    "    net.to(DEVICE)\n",
    "    net.train()\n",
    "\n",
    "    epochs = 1\n",
    "    retain_lr = 0.01\n",
    "    forget_lr = 0.01\n",
    "    retain_slow_lr = 0.01\n",
    "    pruning = 0.5\n",
    "    noise_level = 0.05\n",
    "    unlearn_steps = 5\n",
    "    reset_fc = False\n",
    "    retain_unlear_multiplier = 5\n",
    "\n",
    "\n",
    "    retain_optimizer = optim.SGD(net.parameters(), lr=retain_lr, momentum=0.9, weight_decay=5e-3)\n",
    "    retain_scheduler = torch.optim.lr_scheduler.CosineAnnealingLR(retain_optimizer, T_max=epochs+1)\n",
    "    forget_optimizer = optim.SGD(net.parameters(), lr=forget_lr, momentum=0.9, weight_decay=5e-3)\n",
    "    forget_scheduler = torch.optim.lr_scheduler.CosineAnnealingLR(forget_optimizer, T_max=epochs)\n",
    "\n",
    "\n",
    "    # Siamese Network\n",
    "    siamese_net = SiameseNetwork(feature_size=10).to('cuda')  # Define the appropriate feature size\n",
    "    siamese_optimizer = optim.NAdam(siamese_net.parameters(), lr=0.2)\n",
    "    siamese_net.train()\n",
    "\n",
    "    train_siamese_net(siamese_net, net, siamese_optimizer, retain_loader, forget_loader, val_loader, epochs=6)\n",
    "    siamese_net.eval()\n",
    "\n",
    "\n",
    "    # Unlearn\n",
    "    for _ in range(unlearn_steps):\n",
    "\n",
    "        # forget(net, forget_loader, forget_optimizer)\n",
    "        siamese_unlearn(net, siamese_net, retain_loader, forget_loader, val_loader, epochs=3)\n",
    "        # print(f'Forget acc: {accuracy(net, forget_loader)}')\n",
    "        # print(f'Test acc: {accuracy(net, test_loader)}')\n",
    "        # print('............')\n",
    "\n",
    "        retrain(net, retain_loader, retain_optimizer, steps_per_epoch=len(forget_loader)*retain_unlear_multiplier)\n",
    "        # print(f'Forget acc: {accuracy(net, forget_loader)}')\n",
    "        # print(f'Test acc: {accuracy(net, test_loader)}')\n",
    "        # print('-----')\n",
    "\n",
    "    if reset_fc:\n",
    "        net.fc.reset_parameters()\n",
    "\n",
    "    # unstructure_prune(net, pruning_amount=pruning, global_pruning=True, random_init=False, only_fc=False)\n",
    "    retrain_slow(net, retain_loader, retain_slow_lr, noise_level=noise_level, epochs=epochs)\n",
    "\n",
    "    \n",
    "    net.eval()\n",
    "    run_losses = []\n",
    "\n",
    "    for inputs, targets in forget_loader:\n",
    "        inputs, targets = inputs.to(DEVICE), targets.to(DEVICE)\n",
    "        batch_losses = calculate_loss(net, inputs, targets)\n",
    "        run_losses.extend(batch_losses)\n",
    "\n",
    "    for idx, loss in enumerate(run_losses):\n",
    "        unlearn_losses[idx].append(loss)\n",
    "\n",
    "    # Calc metrics\n",
    "    forget_accs.append(accuracy(net, forget_loader))\n",
    "    test_accs.append(accuracy(net, test_loader))\n",
    "\n",
    "    # print(accuracy(net, retain_loader))\n",
    "    # print(f'Forget acc: {forget_accs[-1]}')\n",
    "    # print(f'Test acc: {test_accs[-1]}')\n",
    "\n",
    "    # Clean\n",
    "    gc.collect()\n",
    "    torch.cuda.empty_cache()"
   ]
  },
  {
   "cell_type": "code",
   "execution_count": 37,
   "metadata": {},
   "outputs": [
    {
     "name": "stdout",
     "output_type": "stream",
     "text": [
      "0.9925510204081632\n"
     ]
    }
   ],
   "source": [
    "# retrain(net, retain_loader, retain_optimizer, steps_per_epoch=len(retain_loader))\n",
    "print(accuracy(net, retain_loader))\n",
    "# print(accuracy(net, forget_loader))"
   ]
  },
  {
   "cell_type": "markdown",
   "metadata": {},
   "source": [
    "# Metrics"
   ]
  },
  {
   "cell_type": "markdown",
   "metadata": {},
   "source": [
    "### Accuracy"
   ]
  },
  {
   "cell_type": "code",
   "execution_count": 38,
   "metadata": {},
   "outputs": [
    {
     "data": {
      "image/png": "[encoded data removed]",
      "text/plain": [
       "<Figure size 640x480 with 1 Axes>"
      ]
     },
     "metadata": {},
     "output_type": "display_data"
    }
   ],
   "source": [
    "plt.hist(forget_accs, color='blue', label='Forget')\n",
    "plt.axvline(x=np.mean(forget_accs), color='blue')\n",
    "plt.hist(test_accs, color='red', label='Test')\n",
    "plt.axvline(x=np.mean(test_accs), color='red')\n",
    "plt.legend()\n",
    "plt.show()"
   ]
  },
  {
   "cell_type": "markdown",
   "metadata": {},
   "source": [
    "### KL"
   ]
  },
  {
   "cell_type": "code",
   "execution_count": 39,
   "metadata": {},
   "outputs": [],
   "source": [
    "kl_losses = []\n",
    "epsilon = 1e-2\n",
    "\n",
    "for idx, original_loss in enumerate(original_losses):\n",
    "    # losses_from_scratch = np.log(np.array(original_loss)/2 + epsilon)\n",
    "    # losses_unlearn = np.log(np.array(unlearn_losses[idx]) + epsilon)\n",
    "\n",
    "    # losses_from_scratch = np.random.lognormal(mean=losses_from_scratch.mean(), sigma=losses_from_scratch.std(), size=1000)\n",
    "    # losses_unlearn = np.random.lognormal(mean=losses_unlearn.mean(), sigma=losses_unlearn.std(), size=1000)\n",
    "\n",
    "    losses_from_scratch = np.array(original_loss)\n",
    "    # losses_unlearn = np.array(unlearn_losses[idx])\n",
    "    losses_unlearn = random.sample(unlearn_losses[idx], len(losses_from_scratch))\n",
    "\n",
    "    # Ensure all losses are non-negative (they should naturally be if they are losses)\n",
    "    # assert np.all(losses_from_scratch >= 0) and np.all(losses_unlearn >= 0), \"Losses must be non-negative\"\n",
    "\n",
    "    # Normalize the losses to sum to one to represent probability distributions\n",
    "    prob_dist_scratch = losses_from_scratch / np.sum(losses_from_scratch)\n",
    "    prob_dist_unlearn = losses_unlearn / np.sum(losses_unlearn)\n",
    "\n",
    "    # Compute the KL divergence (ensure no zero probability to avoid infinity)\n",
    "    # Add a small constant to avoid division by zero or log of zero\n",
    "\n",
    "    prob_dist_scratch += epsilon\n",
    "    prob_dist_unlearn += epsilon\n",
    "\n",
    "    # Normalize again after adding epsilon to ensure they sum to one\n",
    "    prob_dist_scratch /= np.sum(prob_dist_scratch)\n",
    "    prob_dist_unlearn /= np.sum(prob_dist_unlearn)\n",
    "\n",
    "    # Calculate the KL divergence from scratch to unlearn\n",
    "    kl_divergence = kl_div(prob_dist_scratch, prob_dist_unlearn)\n",
    "\n",
    "    # Sum over all elements to get the total divergence\n",
    "    total_kl_divergence = np.sum(kl_divergence)\n",
    "\n",
    "    kl_losses.append(total_kl_divergence)"
   ]
  },
  {
   "cell_type": "code",
   "execution_count": 40,
   "metadata": {},
   "outputs": [
    {
     "data": {
      "image/png": "[encoded data removed]",
      "text/plain": [
       "<Figure size 640x480 with 1 Axes>"
      ]
     },
     "metadata": {},
     "output_type": "display_data"
    }
   ],
   "source": [
    "plt.hist(original_losses[2], bins=6, color='blue', label='Scratch')\n",
    "plt.hist(unlearn_losses[2], bins=6, color='red', label='Unlearn')\n",
    "# plt.xscale('log')\n",
    "plt.legend()\n",
    "plt.show()"
   ]
  },
  {
   "cell_type": "code",
   "execution_count": 41,
   "metadata": {},
   "outputs": [
    {
     "data": {
      "image/png": "[encoded data removed]",
      "text/plain": [
       "<Figure size 640x480 with 1 Axes>"
      ]
     },
     "metadata": {},
     "output_type": "display_data"
    }
   ],
   "source": [
    "plt.hist(kl_losses, bins=100, log=True)\n",
    "plt.title(f'KL divergence, sum={np.sum(kl_losses):.2f}, median={np.median(kl_losses):.2f}')\n",
    "plt.show()"
   ]
  },
  {
   "cell_type": "code",
   "execution_count": 42,
   "metadata": {},
   "outputs": [
    {
     "data": {
      "image/png": "[encoded data removed]",
      "text/plain": [
       "<Figure size 640x480 with 1 Axes>"
      ]
     },
     "metadata": {},
     "output_type": "display_data"
    }
   ],
   "source": [
    "# Normalize losses, calculate standard deviation, and EMD per sample\n",
    "emd_scores = []\n",
    "\n",
    "for idx, original_loss in enumerate(original_losses):\n",
    "    # normalized_losses = [ul / original_loss for ul in unlearn_losses[idx]]\n",
    "    # std_dev = np.std(normalized_losses)\n",
    "    \n",
    "    # # Create a normal distribution for the original loss with the unlearned std deviation\n",
    "    # original_distribution = np.random.lognormal(loc=original_loss, scale=std_dev, size=100)\n",
    "   \n",
    "    # # Use the normalized losses as the distribution of the unlearned model\n",
    "    # unlearn_distribution = normalized_losses\n",
    "   \n",
    "    # Calculate Earth Mover's Distance\n",
    "    emd_score = wasserstein_distance(original_loss, unlearn_losses[idx])\n",
    "    emd_scores.append(emd_score)\n",
    "\n",
    "plt.hist(emd_scores, bins=50, log=True)\n",
    "plt.title(f'EMD, sum={np.sum(emd_scores):.2f}, median={np.median(emd_scores):.2f}');"
   ]
  },
  {
   "cell_type": "code",
   "execution_count": 43,
   "metadata": {},
   "outputs": [],
   "source": [
    "# j = 0\n",
    "# plt.hist(losses_from_scratch, color='blue', label='Trained from scratch')\n",
    "# plt.axvline(x=np.mean(losses_from_scratch), color='blue')\n",
    "# plt.hist(losses_unlearn, color='red', label='Unlearn')\n",
    "# plt.axvline(x=np.mean(losses_unlearn), color='red')\n",
    "# plt.yscale('log')\n",
    "# plt.legend()\n",
    "# plt.show()"
   ]
  },
  {
   "cell_type": "code",
   "execution_count": null,
   "metadata": {},
   "outputs": [],
   "source": []
  }
 ],
 "metadata": {
  "kernelspec": {
   "display_name": "Python 3",
   "language": "python",
   "name": "python3"
  },
  "language_info": {
   "codemirror_mode": {
    "name": "ipython",
    "version": 3
   },
   "file_extension": ".py",
   "mimetype": "text/x-python",
   "name": "python",
   "nbconvert_exporter": "python",
   "pygments_lexer": "ipython3",
   "version": "3.10.5"
  }
 },
 "nbformat": 4,
 "nbformat_minor": 2
}
