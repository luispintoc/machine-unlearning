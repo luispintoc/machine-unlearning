{
 "cells": [
  {
   "cell_type": "code",
   "execution_count": 1,
   "metadata": {},
   "outputs": [
    {
     "name": "stdout",
     "output_type": "stream",
     "text": [
      "Running on device: CUDA\n"
     ]
    },
    {
     "data": {
      "text/plain": [
       "<torch._C.Generator at 0x1aa3521e0d0>"
      ]
     },
     "execution_count": 1,
     "metadata": {},
     "output_type": "execute_result"
    }
   ],
   "source": [
    "import os\n",
    "import requests\n",
    "import random\n",
    "import math\n",
    "import numpy as np\n",
    "import matplotlib.pyplot as plt\n",
    "from sklearn import linear_model, model_selection\n",
    "from sklearn.svm import SVC\n",
    "\n",
    "import torch\n",
    "import torch.nn.functional as F\n",
    "from torch import nn\n",
    "from torch.nn.utils import prune\n",
    "from torch import optim\n",
    "from torch.utils.data import DataLoader\n",
    "\n",
    "import torchvision\n",
    "from torchvision import transforms\n",
    "from torchvision.utils import make_grid\n",
    "from torchvision.models import resnet18\n",
    "\n",
    "DEVICE = \"cuda\" if torch.cuda.is_available() else \"cpu\"\n",
    "print(\"Running on device:\", DEVICE.upper())\n",
    "\n",
    "# manual random seed is used for dataset partitioning\n",
    "# to ensure reproducible results across runs\n",
    "SEED = 42\n",
    "RNG = torch.Generator().manual_seed(SEED)\n",
    "random.seed(SEED)\n",
    "torch.manual_seed(SEED)"
   ]
  },
  {
   "cell_type": "code",
   "execution_count": 2,
   "metadata": {},
   "outputs": [],
   "source": [
    "import ssl\n",
    "\n",
    "# Create an unverified SSL context\n",
    "ssl._create_default_https_context = ssl._create_unverified_context"
   ]
  },
  {
   "cell_type": "code",
   "execution_count": 3,
   "metadata": {},
   "outputs": [],
   "source": [
    "# download and pre-process CIFAR10\n",
    "normalize = transforms.Compose(\n",
    "    [\n",
    "        transforms.ToTensor(),\n",
    "        transforms.Normalize((0.4914, 0.4822, 0.4465), (0.2023, 0.1994, 0.2010)),\n",
    "    ]\n",
    ")\n",
    "\n",
    "train_set = torchvision.datasets.CIFAR10(\n",
    "    root=\"../example notebooks/data\", train=True, download=False, transform=normalize\n",
    ")\n",
    "train_loader = DataLoader(train_set, batch_size=128, shuffle=True, num_workers=1)\n",
    "\n",
    "# we split held out data into test and validation set\n",
    "held_out = torchvision.datasets.CIFAR10(\n",
    "    root=\"../example notebooks/data\", train=False, download=False, transform=normalize\n",
    ")\n",
    "test_set, val_set = torch.utils.data.random_split(held_out, [0.5, 0.5], generator=RNG)\n",
    "test_loader = DataLoader(test_set, batch_size=128, shuffle=False, num_workers=1)\n",
    "val_loader = DataLoader(val_set, batch_size=128, shuffle=False, num_workers=1)\n",
    "\n",
    "# download the forget and retain index split\n",
    "local_path = \"../example notebooks/forget_idx.npy\"\n",
    "# if not os.path.exists(local_path):\n",
    "#     response = requests.get(\n",
    "#         \"https://storage.googleapis.com/unlearning-challenge/\" + local_path\n",
    "#     )\n",
    "#     open(local_path, \"wb\").write(response.content)\n",
    "forget_idx = np.load(local_path)\n",
    "\n",
    "# construct indices of retain from those of the forget set\n",
    "forget_mask = np.zeros(len(train_set.targets), dtype=bool)\n",
    "forget_mask[forget_idx] = True\n",
    "retain_idx = np.arange(forget_mask.size)[~forget_mask]\n",
    "\n",
    "# split train set into a forget and a retain set\n",
    "forget_set = torch.utils.data.Subset(train_set, forget_idx)\n",
    "retain_set = torch.utils.data.Subset(train_set, retain_idx)\n",
    "\n",
    "forget_loader = torch.utils.data.DataLoader(\n",
    "    forget_set, batch_size=128, shuffle=False, num_workers=1\n",
    ")\n",
    "# retain_loader = torch.utils.data.DataLoader(\n",
    "#     retain_set, batch_size=128, shuffle=True, num_workers=1, generator=RNG\n",
    "# )"
   ]
  },
  {
   "cell_type": "code",
   "execution_count": 4,
   "metadata": {},
   "outputs": [],
   "source": [
    "retain_loader = torch.utils.data.DataLoader(\n",
    "    retain_set, batch_size=128, shuffle=False, num_workers=1\n",
    ")"
   ]
  },
  {
   "cell_type": "code",
   "execution_count": 5,
   "metadata": {},
   "outputs": [],
   "source": [
    "local_path = \"../example notebooks/weights/weights_resnet18_cifar10.pth\"\n",
    "if not os.path.exists(local_path):\n",
    "    response = requests.get(\n",
    "        \"https://storage.googleapis.com/unlearning-challenge/weights_resnet18_cifar10.pth\"\n",
    "    )\n",
    "    open(local_path, \"wb\").write(response.content)\n",
    "\n",
    "weights_pretrained = torch.load(local_path, map_location=DEVICE) #43Mbs\n",
    "\n",
    "# load model with pre-trained weights\n",
    "model = resnet18(weights=None, num_classes=10)\n",
    "model.load_state_dict(weights_pretrained)\n",
    "model.to(DEVICE)\n",
    "model.eval();"
   ]
  },
  {
   "cell_type": "code",
   "execution_count": 6,
   "metadata": {},
   "outputs": [],
   "source": [
    "def accuracy(net, loader):\n",
    "    \"\"\"Return accuracy on a dataset given by the data loader.\"\"\"\n",
    "    correct = 0\n",
    "    total = 0\n",
    "    for inputs, targets in loader:\n",
    "        inputs, targets = inputs.to(DEVICE), targets.to(DEVICE)\n",
    "        outputs = net(inputs)\n",
    "        _, predicted = outputs.max(1)\n",
    "        total += targets.size(0)\n",
    "        correct += predicted.eq(targets).sum().item()\n",
    "    return correct / total"
   ]
  },
  {
   "cell_type": "code",
   "execution_count": 7,
   "metadata": {},
   "outputs": [],
   "source": [
    "def global_unstructure_prune(model, pruning_amount=0.2):\n",
    "\n",
    "    parameters_to_prune = []\n",
    "    for name, module in model.named_modules():\n",
    "        if isinstance(module, torch.nn.Conv2d) or isinstance(module, torch.nn.Linear):\n",
    "            parameters_to_prune.append((module, 'weight'))\n",
    "\n",
    "    # Global pruning\n",
    "    prune.global_unstructured(\n",
    "        parameters_to_prune,\n",
    "        pruning_method=prune.L1Unstructured,\n",
    "        amount=pruning_amount\n",
    "    )\n",
    "\n",
    "    # Make the pruning permanent\n",
    "    for module, param_name in parameters_to_prune:\n",
    "        prune.remove(module, param_name)"
   ]
  },
  {
   "cell_type": "code",
   "execution_count": 8,
   "metadata": {},
   "outputs": [],
   "source": [
    "def plot_teacher_student_outputs(teacher_logits, student_logits, y):\n",
    "    teacher_probs = torch.nn.functional.softmax(teacher_logits, dim=0).cpu().numpy()\n",
    "    # teacher_probs2 = torch.nn.functional.softmax(teacher_logits.to('cpu')/10 + 0.1*torch.rand(teacher_logits.shape).to('cpu'), dim=0).cpu().numpy()\n",
    "    student_probs = torch.nn.functional.softmax(student_logits, dim=0).cpu().numpy()\n",
    "    plt.plot(teacher_probs, 'ko', label='teacher')\n",
    "    # plt.plot(teacher_probs2, 'bo', label='teacher')\n",
    "    plt.plot(student_probs, 'ro', label='student')\n",
    "    plt.axvline(x=y, label='True target', color='b')\n",
    "    plt.legend()\n",
    "    plt.yscale('log')\n",
    "    plt.show()"
   ]
  },
  {
   "cell_type": "markdown",
   "metadata": {},
   "source": [
    "## Teacher"
   ]
  },
  {
   "cell_type": "code",
   "execution_count": 9,
   "metadata": {},
   "outputs": [],
   "source": [
    "teacher_retain_tensor = torch.zeros(len(retain_loader.dataset), 10)\n",
    "y_retain_tensor = torch.zeros(len(retain_loader.dataset), 1)\n",
    "\n",
    "start_idx = 0\n",
    "with torch.no_grad():\n",
    "    for (inputs, labels) in retain_loader:\n",
    "        end_idx = start_idx + inputs.shape[0]\n",
    "        outputs = model(inputs.to(DEVICE))\n",
    "        teacher_retain_tensor[start_idx:end_idx] = outputs.cpu()\n",
    "        y_retain_tensor[start_idx:end_idx] = labels.reshape(-1,1)\n",
    "        start_idx = end_idx\n",
    "\n",
    "# Create a dataloader\n",
    "retain_logit_loader = DataLoader(teacher_retain_tensor, batch_size=128, shuffle=False)"
   ]
  },
  {
   "cell_type": "code",
   "execution_count": 10,
   "metadata": {},
   "outputs": [],
   "source": [
    "teacher_forget_tensor = torch.zeros(len(forget_loader.dataset), 10)\n",
    "y_forget_tensor = torch.zeros(len(forget_loader.dataset), 1)\n",
    "\n",
    "start_idx = 0\n",
    "with torch.no_grad():\n",
    "    for (inputs, labels) in forget_loader:\n",
    "        end_idx = start_idx + inputs.shape[0]\n",
    "        outputs = model(inputs.to(DEVICE))\n",
    "        teacher_forget_tensor[start_idx:end_idx] = outputs.cpu()\n",
    "        y_forget_tensor[start_idx:end_idx] = labels.reshape(-1,1)\n",
    "        start_idx = end_idx\n",
    "\n",
    "# Create a dataloader\n",
    "forget_logit_loader = DataLoader(teacher_forget_tensor, batch_size=128, shuffle=False)"
   ]
  },
  {
   "cell_type": "markdown",
   "metadata": {},
   "source": [
    "## Student"
   ]
  },
  {
   "cell_type": "code",
   "execution_count": 11,
   "metadata": {},
   "outputs": [],
   "source": [
    "# Apply pruning\n",
    "pct = 0.95\n",
    "global_unstructure_prune(model, pct)"
   ]
  },
  {
   "cell_type": "code",
   "execution_count": 12,
   "metadata": {},
   "outputs": [],
   "source": [
    "student_logits = torch.zeros(len(retain_loader.dataset), 10)\n",
    "\n",
    "start_idx = 0\n",
    "with torch.no_grad():\n",
    "    for (inputs, labels) in retain_loader:\n",
    "        end_idx = start_idx + inputs.shape[0]\n",
    "        outputs = model(inputs.to(DEVICE))\n",
    "        student_logits[start_idx:end_idx] = outputs.cpu()\n",
    "        start_idx = end_idx"
   ]
  },
  {
   "cell_type": "code",
   "execution_count": 13,
   "metadata": {},
   "outputs": [
    {
     "name": "stderr",
     "output_type": "stream",
     "text": [
      "c:\\Users\\luis.pinto1\\AppData\\Local\\Programs\\Python\\Python310\\lib\\site-packages\\matplotlib\\cbook\\__init__.py:1369: FutureWarning: The input object of type 'Tensor' is an array-like implementing one of the corresponding protocols (`__array__`, `__array_interface__` or `__array_struct__`); but not a sequence (or 0-D). In the future, this object will be coerced as if it was first converted using `np.array(obj)`. To retain the old behaviour, you have to either modify the type 'Tensor', or assign to an empty array created with `np.empty(correct_shape, dtype=object)`.\n",
      "  return np.asarray(x, float)\n"
     ]
    },
    {
     "data": {
      "image/png": "[encoded data removed]",
      "text/plain": [
       "<Figure size 640x480 with 1 Axes>"
      ]
     },
     "metadata": {},
     "output_type": "display_data"
    }
   ],
   "source": [
    "idx = 107\n",
    "plot_teacher_student_outputs(teacher_retain_tensor[idx], student_logits[idx], y_retain_tensor[idx])"
   ]
  },
  {
   "cell_type": "markdown",
   "metadata": {},
   "source": [
    "## Knowledge distillation"
   ]
  },
  {
   "cell_type": "code",
   "execution_count": 14,
   "metadata": {},
   "outputs": [],
   "source": [
    "def calculate_kl_loss(student_logits, teacher_logits, T=2.0, forget_flag=False):\n",
    "    \n",
    "    teacher_logits = teacher_logits/T\n",
    "\n",
    "    if forget_flag:\n",
    "        forget_T = 5.0\n",
    "        teacher_logits = teacher_logits/forget_T\n",
    "        teacher_logits = teacher_logits + 0.05*torch.rand(teacher_logits.shape)\n",
    "\n",
    "    # Calculate soft labels from teacher\n",
    "    teacher_probs = F.softmax(teacher_logits, dim=1)\n",
    "\n",
    "    # Compute distillation loss\n",
    "    student_log_probs = F.log_softmax(student_logits.to('cpu')/T, dim=1)\n",
    "    distillation_loss = F.kl_div(student_log_probs, teacher_probs, reduction='batchmean') * (T * T)\n",
    "\n",
    "    return distillation_loss"
   ]
  },
  {
   "cell_type": "code",
   "execution_count": 15,
   "metadata": {},
   "outputs": [],
   "source": [
    "# Function to update learning rate\n",
    "def adjust_learning_rate(optimizer, current_batch, total_batches, initial_lr):\n",
    "    \"\"\"Sets the learning rate for warmup over total_batches\"\"\"\n",
    "    lr = initial_lr * (current_batch / total_batches)\n",
    "    for param_group in optimizer.param_groups:\n",
    "        param_group['lr'] = lr"
   ]
  },
  {
   "cell_type": "code",
   "execution_count": 42,
   "metadata": {},
   "outputs": [],
   "source": [
    "model = resnet18(weights=None, num_classes=10)\n",
    "model.load_state_dict(weights_pretrained)\n",
    "model.to(DEVICE)\n",
    "\n",
    "# Apply pruning\n",
    "pct = 0.95\n",
    "global_unstructure_prune(model, pct)\n",
    "\n",
    "# Freeze the first N-X layers\n",
    "# num_layers_to_finetune = 9\n",
    "# ct = 0\n",
    "# for name, param in model.named_parameters():\n",
    "#     ct += 1\n",
    "#     if ct < num_layers_to_finetune:\n",
    "#         param.requires_grad = False\n",
    "#     else:\n",
    "#         param.requires_grad = True"
   ]
  },
  {
   "cell_type": "code",
   "execution_count": 43,
   "metadata": {},
   "outputs": [],
   "source": [
    "model.train()\n",
    "\n",
    "epochs = 1\n",
    "\n",
    "# LR warmup - Retain\n",
    "total_samples = len(retain_loader.dataset)\n",
    "batch_size = retain_loader.batch_size\n",
    "batches_per_epoch  = math.ceil(total_samples / batch_size)\n",
    "initial_lr = 0.001\n",
    "warmup_batches = math.ceil(0.8*batches_per_epoch)\n",
    "\n",
    "criterion = nn.CrossEntropyLoss()\n",
    "optimizer = optim.SGD(model.parameters(), lr=initial_lr, momentum=0.9, weight_decay=5e-4)\n",
    "scheduler = torch.optim.lr_scheduler.CosineAnnealingLR(optimizer, T_max=epochs)\n",
    "\n",
    "\n",
    "current_batch = 0\n",
    "\n",
    "for ep in range(epochs):\n",
    "\n",
    "        iter_retain = iter(retain_loader)\n",
    "        iter_retain_logit = iter(retain_logit_loader)\n",
    "        iter_forget = iter(forget_loader)\n",
    "        iter_forget_logit = iter(forget_logit_loader)\n",
    "\n",
    "        # Initialize flag for depleted iterator\n",
    "        one_depleted = False\n",
    "\n",
    "        for _ in range(batches_per_epoch):\n",
    "        # while not one_depleted:\n",
    "\n",
    "            weights = torch.tensor([90, 10], dtype=torch.float32)\n",
    "\n",
    "            # Randomly choose a loader based on weights\n",
    "            chosen_loader_idx = torch.multinomial(weights, 1).item()\n",
    "            \n",
    "            if current_batch < math.ceil(0.1*batches_per_epoch):\n",
    "                input_batch = next(iter_retain)\n",
    "                logits_batch = next(iter_retain_logit)\n",
    "                forget_flag = 0\n",
    "                current_batch += 1\n",
    "                multiplier = 1\n",
    "            else:\n",
    "                if chosen_loader_idx == 0:  # corresponds to retain_loader\n",
    "                    try:\n",
    "                        input_batch = next(iter_retain)\n",
    "                        logits_batch = next(iter_retain_logit)\n",
    "                        forget_flag = 0\n",
    "                        current_batch += 1\n",
    "                        multiplier = 1\n",
    "                    except StopIteration:\n",
    "                        one_depleted = True\n",
    "                        continue  # Skip to the next iteration\n",
    "                        \n",
    "                else:  # corresponds to forget_loader\n",
    "                    try:\n",
    "                        input_batch = next(iter_forget)\n",
    "                        logits_batch = next(iter_forget_logit)\n",
    "                        forget_flag = 1\n",
    "                        current_batch += 1\n",
    "                        multiplier = -1\n",
    "                    except StopIteration:\n",
    "                        one_depleted = True\n",
    "                        continue  # Skip to the next iteration\n",
    "\n",
    "            inputs, targets = input_batch\n",
    "            inputs, targets = inputs.to(DEVICE), targets.to(DEVICE)\n",
    "            logits_batch = logits_batch\n",
    "\n",
    "            if current_batch <= warmup_batches:\n",
    "                adjust_learning_rate(optimizer, current_batch, warmup_batches, initial_lr)\n",
    "\n",
    "            optimizer.zero_grad()\n",
    "            student_logits = model(inputs)\n",
    "            classification_loss = criterion(student_logits, targets)\n",
    "            divergence_loss = calculate_kl_loss(student_logits, logits_batch, T=5, forget_flag=forget_flag)\n",
    "            alpha = 0.1\n",
    "            loss = (alpha*divergence_loss + (1-alpha)*classification_loss)*multiplier\n",
    "            loss.backward()\n",
    "            optimizer.step()\n",
    "        scheduler.step()\n",
    "\n",
    "model.eval();"
   ]
  },
  {
   "cell_type": "code",
   "execution_count": 44,
   "metadata": {},
   "outputs": [],
   "source": [
    "student_retain_logits = torch.zeros(len(retain_loader.dataset), 10)\n",
    "\n",
    "start_idx = 0\n",
    "with torch.no_grad():\n",
    "    for (inputs, labels) in retain_loader:\n",
    "        end_idx = start_idx + inputs.shape[0]\n",
    "        outputs = model(inputs.to(DEVICE))\n",
    "        student_retain_logits[start_idx:end_idx] = outputs.cpu()\n",
    "        start_idx = end_idx\n",
    "\n",
    "student_forget_logits = torch.zeros(len(forget_loader.dataset), 10)\n",
    "\n",
    "start_idx = 0\n",
    "with torch.no_grad():\n",
    "    for (inputs, labels) in forget_loader:\n",
    "        end_idx = start_idx + inputs.shape[0]\n",
    "        outputs = model(inputs.to(DEVICE))\n",
    "        student_forget_logits[start_idx:end_idx] = outputs.cpu()\n",
    "        start_idx = end_idx"
   ]
  },
  {
   "cell_type": "code",
   "execution_count": 45,
   "metadata": {},
   "outputs": [
    {
     "name": "stderr",
     "output_type": "stream",
     "text": [
      "c:\\Users\\luis.pinto1\\AppData\\Local\\Programs\\Python\\Python310\\lib\\site-packages\\matplotlib\\cbook\\__init__.py:1369: FutureWarning: The input object of type 'Tensor' is an array-like implementing one of the corresponding protocols (`__array__`, `__array_interface__` or `__array_struct__`); but not a sequence (or 0-D). In the future, this object will be coerced as if it was first converted using `np.array(obj)`. To retain the old behaviour, you have to either modify the type 'Tensor', or assign to an empty array created with `np.empty(correct_shape, dtype=object)`.\n",
      "  return np.asarray(x, float)\n"
     ]
    },
    {
     "data": {
      "image/png": "[encoded data removed]",
      "text/plain": [
       "<Figure size 640x480 with 1 Axes>"
      ]
     },
     "metadata": {},
     "output_type": "display_data"
    }
   ],
   "source": [
    "idx = 107\n",
    "plot_teacher_student_outputs(teacher_retain_tensor[idx]/1, student_retain_logits[idx], y_retain_tensor[idx])"
   ]
  },
  {
   "cell_type": "code",
   "execution_count": 46,
   "metadata": {},
   "outputs": [
    {
     "data": {
      "image/png": "[encoded data removed]",
      "text/plain": [
       "<Figure size 640x480 with 1 Axes>"
      ]
     },
     "metadata": {},
     "output_type": "display_data"
    }
   ],
   "source": [
    "idx = 20\n",
    "plot_teacher_student_outputs(teacher_forget_tensor[idx]/5+0.05*torch.rand(teacher_forget_tensor[idx].shape), student_forget_logits[idx], y_forget_tensor[idx])"
   ]
  },
  {
   "cell_type": "markdown",
   "metadata": {},
   "source": [
    "## Evaluation"
   ]
  },
  {
   "cell_type": "code",
   "execution_count": 47,
   "metadata": {},
   "outputs": [
    {
     "name": "stdout",
     "output_type": "stream",
     "text": [
      "Retain set accuracy: 99.5%\n",
      "Forget set accuracy: 98.5%\n",
      "Val set accuracy: 88.4%\n",
      "Test set accuracy: 88.2%\n"
     ]
    }
   ],
   "source": [
    "print(f\"Retain set accuracy: {100.0 * accuracy(model, retain_loader):0.1f}%\")\n",
    "print(f\"Forget set accuracy: {100.0 * accuracy(model, forget_loader):0.1f}%\")\n",
    "print(f\"Val set accuracy: {100.0 * accuracy(model, val_loader):0.1f}%\")\n",
    "print(f\"Test set accuracy: {100.0 * accuracy(model, test_loader):0.1f}%\")"
   ]
  },
  {
   "cell_type": "markdown",
   "metadata": {},
   "source": [
    "## MIA"
   ]
  },
  {
   "cell_type": "code",
   "execution_count": 48,
   "metadata": {},
   "outputs": [],
   "source": [
    "def compute_losses(net, loader):\n",
    "    \"\"\"Auxiliary function to compute per-sample losses\"\"\"\n",
    "\n",
    "    criterion = nn.CrossEntropyLoss(reduction=\"none\")\n",
    "    all_losses = []\n",
    "\n",
    "    for inputs, targets in loader:\n",
    "        inputs, targets = inputs.to(DEVICE), targets.to(DEVICE)\n",
    "\n",
    "        logits = net(inputs)\n",
    "        losses = criterion(logits, targets).numpy(force=True)\n",
    "        for l in losses:\n",
    "            all_losses.append(l)\n",
    "\n",
    "    return np.array(all_losses)"
   ]
  },
  {
   "cell_type": "code",
   "execution_count": 49,
   "metadata": {},
   "outputs": [],
   "source": [
    "def simple_mia(sample_loss, members, n_splits=10, random_state=0):\n",
    "    \"\"\"Computes cross-validation score of a membership inference attack.\n",
    "\n",
    "    Args:\n",
    "      sample_loss : array_like of shape (n,).\n",
    "        objective function evaluated on n samples.\n",
    "      members : array_like of shape (n,),\n",
    "        whether a sample was used for training.\n",
    "      n_splits: int\n",
    "        number of splits to use in the cross-validation.\n",
    "    Returns:\n",
    "      scores : array_like of size (n_splits,)\n",
    "    \"\"\"\n",
    "\n",
    "    unique_members = np.unique(members)\n",
    "    if not np.all(unique_members == np.array([0, 1])):\n",
    "        raise ValueError(\"members should only have 0 and 1s\")\n",
    "\n",
    "    attack_model = linear_model.LogisticRegression()\n",
    "    cv = model_selection.StratifiedShuffleSplit(\n",
    "        n_splits=n_splits, random_state=random_state\n",
    "    )\n",
    "    return model_selection.cross_val_score(\n",
    "        attack_model, sample_loss, members, cv=cv, scoring=\"accuracy\"\n",
    "    )"
   ]
  },
  {
   "cell_type": "code",
   "execution_count": 50,
   "metadata": {},
   "outputs": [],
   "source": [
    "ft_retain_losses = compute_losses(model, retain_loader)\n",
    "ft_forget_losses = compute_losses(model, forget_loader)\n",
    "ft_test_losses = compute_losses(model, test_loader)\n",
    "\n",
    "# make sure we have a balanced dataset for the MIA\n",
    "assert len(ft_test_losses) == len(ft_forget_losses)\n",
    "\n",
    "ft_samples_mia = np.concatenate((ft_test_losses, ft_forget_losses)).reshape((-1, 1))\n",
    "labels_mia = [0] * len(ft_test_losses) + [1] * len(ft_forget_losses)"
   ]
  },
  {
   "cell_type": "code",
   "execution_count": 51,
   "metadata": {},
   "outputs": [
    {
     "name": "stdout",
     "output_type": "stream",
     "text": [
      "The MIA has an accuracy of 0.567 on forgotten vs unseen images\n"
     ]
    }
   ],
   "source": [
    "ft_mia_scores = simple_mia(ft_samples_mia, labels_mia)\n",
    "\n",
    "print(\n",
    "    f\"The MIA has an accuracy of {ft_mia_scores.mean():.3f} on forgotten vs unseen images\"\n",
    ")"
   ]
  },
  {
   "cell_type": "code",
   "execution_count": 52,
   "metadata": {},
   "outputs": [
    {
     "name": "stderr",
     "output_type": "stream",
     "text": [
      "Exception ignored in: <function _MultiProcessingDataLoaderIter.__del__ at 0x000001AA3602E560>\n",
      "Traceback (most recent call last):\n",
      "  File \"c:\\Users\\luis.pinto1\\AppData\\Local\\Programs\\Python\\Python310\\lib\\site-packages\\torch\\utils\\data\\dataloader.py\", line 1478, in __del__\n",
      "    self._shutdown_workers()\n",
      "  File \"c:\\Users\\luis.pinto1\\AppData\\Local\\Programs\\Python\\Python310\\lib\\site-packages\\torch\\utils\\data\\dataloader.py\", line 1436, in _shutdown_workers\n",
      "    if self._persistent_workers or self._workers_status[worker_id]:\n",
      "AttributeError: '_MultiProcessingDataLoaderIter' object has no attribute '_workers_status'\n"
     ]
    },
    {
     "data": {
      "image/png": "[encoded data removed]",
      "text/plain": [
       "<Figure size 640x480 with 1 Axes>"
      ]
     },
     "metadata": {},
     "output_type": "display_data"
    }
   ],
   "source": [
    "fig = plt.Figure(figsize=(16, 6))\n",
    "\n",
    "plt.title(\n",
    "    f\"Unlearned by fine-tuning.\\nAttack accuracy: {ft_mia_scores.mean():0.2f}\"\n",
    ")\n",
    "plt.hist(ft_test_losses, density=True, alpha=0.5, bins=50, label=\"Test set\")\n",
    "plt.hist(ft_forget_losses, density=True, alpha=0.5, bins=50, label=\"Forget set\")\n",
    "\n",
    "plt.xlabel(\"Loss\")\n",
    "plt.yscale(\"log\")\n",
    "plt.xlim((0, np.max(ft_test_losses)))\n",
    "plt.legend()\n",
    "\n",
    "plt.show()"
   ]
  },
  {
   "cell_type": "markdown",
   "metadata": {},
   "source": [
    "## MIA #2"
   ]
  },
  {
   "cell_type": "code",
   "execution_count": 53,
   "metadata": {},
   "outputs": [],
   "source": [
    "def entropy(p, dim = -1, keepdim = False):\n",
    "    return -torch.where(p > 0, p * p.log(), p.new([0.0])).sum(dim=dim, keepdim=keepdim)\n",
    "\n",
    "def collect_prob(data_loader, model):   \n",
    "    data_loader = torch.utils.data.DataLoader(data_loader.dataset, batch_size=1, shuffle=False, num_workers = 32, prefetch_factor = 10)\n",
    "    prob = []\n",
    "    with torch.no_grad():\n",
    "        for batch in data_loader:\n",
    "            batch = [tensor.to(next(model.parameters()).device) for tensor in batch]\n",
    "            data, target = batch\n",
    "            output = model(data)\n",
    "            prob.append(F.softmax(output, dim=-1).data)\n",
    "    return torch.cat(prob)\n",
    "\n",
    "def get_membership_attack_data(retain_loader, forget_loader, test_loader, model):    \n",
    "    retain_prob = collect_prob(retain_loader, model)\n",
    "    forget_prob = collect_prob(forget_loader, model)\n",
    "    test_prob = collect_prob(test_loader, model)\n",
    "    \n",
    "    X_r = torch.cat([entropy(retain_prob), entropy(test_prob)]).cpu().numpy().reshape(-1, 1)\n",
    "    Y_r = np.concatenate([np.ones(len(retain_prob)), np.zeros(len(test_prob))])\n",
    "    \n",
    "    X_f = entropy(forget_prob).cpu().numpy().reshape(-1, 1)\n",
    "    Y_f = np.concatenate([np.ones(len(forget_prob))])\n",
    "    return X_f, Y_f, X_r, Y_r\n",
    "\n",
    "def get_membership_attack_prob(retain_loader, forget_loader, test_loader, model):\n",
    "    X_f, Y_f, X_r, Y_r = get_membership_attack_data(retain_loader, forget_loader, test_loader, model)\n",
    "    clf = SVC(C=3,gamma='auto',kernel='rbf')\n",
    "    #clf = LogisticRegression(class_weight='balanced',solver='lbfgs',multi_class='multinomial')\n",
    "    clf.fit(X_r, Y_r)\n",
    "    results = clf.predict(X_f)\n",
    "    return results.mean()"
   ]
  },
  {
   "cell_type": "code",
   "execution_count": 54,
   "metadata": {},
   "outputs": [
    {
     "name": "stderr",
     "output_type": "stream",
     "text": [
      "c:\\Users\\luis.pinto1\\AppData\\Local\\Programs\\Python\\Python310\\lib\\site-packages\\torch\\utils\\data\\dataloader.py:560: UserWarning: This DataLoader will create 32 worker processes in total. Our suggested max number of worker in current system is 16 (`cpuset` is not taken into account), which is smaller than what this DataLoader is going to create. Please be aware that excessive worker creation might get DataLoader running slow or even freeze, lower the worker number to avoid potential slowness/freeze if necessary.\n",
      "  warnings.warn(_create_warning_msg(\n"
     ]
    },
    {
     "ename": "KeyboardInterrupt",
     "evalue": "",
     "output_type": "error",
     "traceback": [
      "\u001b[1;31m---------------------------------------------------------------------------\u001b[0m",
      "\u001b[1;31mKeyboardInterrupt\u001b[0m                         Traceback (most recent call last)",
      "\u001b[1;32mc:\\Users\\luis.pinto1\\Documents\\GitLab\\machine-unlearning\\bad-teaching-unlearning\\bad teacher.ipynb Cell 34\u001b[0m line \u001b[0;36m1\n\u001b[1;32m----> <a href='vscode-notebook-cell:/c%3A/Users/luis.pinto1/Documents/GitLab/machine-unlearning/bad-teaching-unlearning/bad%20teacher.ipynb#X45sZmlsZQ%3D%3D?line=0'>1</a>\u001b[0m get_membership_attack_prob(retain_loader, forget_loader, test_loader, model)\n",
      "\u001b[1;32mc:\\Users\\luis.pinto1\\Documents\\GitLab\\machine-unlearning\\bad-teaching-unlearning\\bad teacher.ipynb Cell 34\u001b[0m line \u001b[0;36m2\n\u001b[0;32m     <a href='vscode-notebook-cell:/c%3A/Users/luis.pinto1/Documents/GitLab/machine-unlearning/bad-teaching-unlearning/bad%20teacher.ipynb#X45sZmlsZQ%3D%3D?line=26'>27</a>\u001b[0m \u001b[39mdef\u001b[39;00m \u001b[39mget_membership_attack_prob\u001b[39m(retain_loader, forget_loader, test_loader, model):\n\u001b[1;32m---> <a href='vscode-notebook-cell:/c%3A/Users/luis.pinto1/Documents/GitLab/machine-unlearning/bad-teaching-unlearning/bad%20teacher.ipynb#X45sZmlsZQ%3D%3D?line=27'>28</a>\u001b[0m     X_f, Y_f, X_r, Y_r \u001b[39m=\u001b[39m get_membership_attack_data(retain_loader, forget_loader, test_loader, model)\n\u001b[0;32m     <a href='vscode-notebook-cell:/c%3A/Users/luis.pinto1/Documents/GitLab/machine-unlearning/bad-teaching-unlearning/bad%20teacher.ipynb#X45sZmlsZQ%3D%3D?line=28'>29</a>\u001b[0m     clf \u001b[39m=\u001b[39m SVC(C\u001b[39m=\u001b[39m\u001b[39m3\u001b[39m,gamma\u001b[39m=\u001b[39m\u001b[39m'\u001b[39m\u001b[39mauto\u001b[39m\u001b[39m'\u001b[39m,kernel\u001b[39m=\u001b[39m\u001b[39m'\u001b[39m\u001b[39mrbf\u001b[39m\u001b[39m'\u001b[39m)\n\u001b[0;32m     <a href='vscode-notebook-cell:/c%3A/Users/luis.pinto1/Documents/GitLab/machine-unlearning/bad-teaching-unlearning/bad%20teacher.ipynb#X45sZmlsZQ%3D%3D?line=29'>30</a>\u001b[0m     \u001b[39m#clf = LogisticRegression(class_weight='balanced',solver='lbfgs',multi_class='multinomial')\u001b[39;00m\n",
      "\u001b[1;32mc:\\Users\\luis.pinto1\\Documents\\GitLab\\machine-unlearning\\bad-teaching-unlearning\\bad teacher.ipynb Cell 34\u001b[0m line \u001b[0;36m1\n\u001b[0;32m     <a href='vscode-notebook-cell:/c%3A/Users/luis.pinto1/Documents/GitLab/machine-unlearning/bad-teaching-unlearning/bad%20teacher.ipynb#X45sZmlsZQ%3D%3D?line=14'>15</a>\u001b[0m \u001b[39mdef\u001b[39;00m \u001b[39mget_membership_attack_data\u001b[39m(retain_loader, forget_loader, test_loader, model):    \n\u001b[1;32m---> <a href='vscode-notebook-cell:/c%3A/Users/luis.pinto1/Documents/GitLab/machine-unlearning/bad-teaching-unlearning/bad%20teacher.ipynb#X45sZmlsZQ%3D%3D?line=15'>16</a>\u001b[0m     retain_prob \u001b[39m=\u001b[39m collect_prob(retain_loader, model)\n\u001b[0;32m     <a href='vscode-notebook-cell:/c%3A/Users/luis.pinto1/Documents/GitLab/machine-unlearning/bad-teaching-unlearning/bad%20teacher.ipynb#X45sZmlsZQ%3D%3D?line=16'>17</a>\u001b[0m     forget_prob \u001b[39m=\u001b[39m collect_prob(forget_loader, model)\n\u001b[0;32m     <a href='vscode-notebook-cell:/c%3A/Users/luis.pinto1/Documents/GitLab/machine-unlearning/bad-teaching-unlearning/bad%20teacher.ipynb#X45sZmlsZQ%3D%3D?line=17'>18</a>\u001b[0m     test_prob \u001b[39m=\u001b[39m collect_prob(test_loader, model)\n",
      "\u001b[1;32mc:\\Users\\luis.pinto1\\Documents\\GitLab\\machine-unlearning\\bad-teaching-unlearning\\bad teacher.ipynb Cell 34\u001b[0m line \u001b[0;36m8\n\u001b[0;32m      <a href='vscode-notebook-cell:/c%3A/Users/luis.pinto1/Documents/GitLab/machine-unlearning/bad-teaching-unlearning/bad%20teacher.ipynb#X45sZmlsZQ%3D%3D?line=5'>6</a>\u001b[0m prob \u001b[39m=\u001b[39m []\n\u001b[0;32m      <a href='vscode-notebook-cell:/c%3A/Users/luis.pinto1/Documents/GitLab/machine-unlearning/bad-teaching-unlearning/bad%20teacher.ipynb#X45sZmlsZQ%3D%3D?line=6'>7</a>\u001b[0m \u001b[39mwith\u001b[39;00m torch\u001b[39m.\u001b[39mno_grad():\n\u001b[1;32m----> <a href='vscode-notebook-cell:/c%3A/Users/luis.pinto1/Documents/GitLab/machine-unlearning/bad-teaching-unlearning/bad%20teacher.ipynb#X45sZmlsZQ%3D%3D?line=7'>8</a>\u001b[0m     \u001b[39mfor\u001b[39;00m batch \u001b[39min\u001b[39;00m data_loader:\n\u001b[0;32m      <a href='vscode-notebook-cell:/c%3A/Users/luis.pinto1/Documents/GitLab/machine-unlearning/bad-teaching-unlearning/bad%20teacher.ipynb#X45sZmlsZQ%3D%3D?line=8'>9</a>\u001b[0m         batch \u001b[39m=\u001b[39m [tensor\u001b[39m.\u001b[39mto(\u001b[39mnext\u001b[39m(model\u001b[39m.\u001b[39mparameters())\u001b[39m.\u001b[39mdevice) \u001b[39mfor\u001b[39;00m tensor \u001b[39min\u001b[39;00m batch]\n\u001b[0;32m     <a href='vscode-notebook-cell:/c%3A/Users/luis.pinto1/Documents/GitLab/machine-unlearning/bad-teaching-unlearning/bad%20teacher.ipynb#X45sZmlsZQ%3D%3D?line=9'>10</a>\u001b[0m         data, target \u001b[39m=\u001b[39m batch\n",
      "File \u001b[1;32mc:\\Users\\luis.pinto1\\AppData\\Local\\Programs\\Python\\Python310\\lib\\site-packages\\torch\\utils\\data\\dataloader.py:441\u001b[0m, in \u001b[0;36mDataLoader.__iter__\u001b[1;34m(self)\u001b[0m\n\u001b[0;32m    439\u001b[0m     \u001b[39mreturn\u001b[39;00m \u001b[39mself\u001b[39m\u001b[39m.\u001b[39m_iterator\n\u001b[0;32m    440\u001b[0m \u001b[39melse\u001b[39;00m:\n\u001b[1;32m--> 441\u001b[0m     \u001b[39mreturn\u001b[39;00m \u001b[39mself\u001b[39;49m\u001b[39m.\u001b[39;49m_get_iterator()\n",
      "File \u001b[1;32mc:\\Users\\luis.pinto1\\AppData\\Local\\Programs\\Python\\Python310\\lib\\site-packages\\torch\\utils\\data\\dataloader.py:388\u001b[0m, in \u001b[0;36mDataLoader._get_iterator\u001b[1;34m(self)\u001b[0m\n\u001b[0;32m    386\u001b[0m \u001b[39melse\u001b[39;00m:\n\u001b[0;32m    387\u001b[0m     \u001b[39mself\u001b[39m\u001b[39m.\u001b[39mcheck_worker_number_rationality()\n\u001b[1;32m--> 388\u001b[0m     \u001b[39mreturn\u001b[39;00m _MultiProcessingDataLoaderIter(\u001b[39mself\u001b[39;49m)\n",
      "File \u001b[1;32mc:\\Users\\luis.pinto1\\AppData\\Local\\Programs\\Python\\Python310\\lib\\site-packages\\torch\\utils\\data\\dataloader.py:1042\u001b[0m, in \u001b[0;36m_MultiProcessingDataLoaderIter.__init__\u001b[1;34m(self, loader)\u001b[0m\n\u001b[0;32m   1035\u001b[0m w\u001b[39m.\u001b[39mdaemon \u001b[39m=\u001b[39m \u001b[39mTrue\u001b[39;00m\n\u001b[0;32m   1036\u001b[0m \u001b[39m# NB: Process.start() actually take some time as it needs to\u001b[39;00m\n\u001b[0;32m   1037\u001b[0m \u001b[39m#     start a process and pass the arguments over via a pipe.\u001b[39;00m\n\u001b[0;32m   1038\u001b[0m \u001b[39m#     Therefore, we only add a worker to self._workers list after\u001b[39;00m\n\u001b[0;32m   1039\u001b[0m \u001b[39m#     it started, so that we do not call .join() if program dies\u001b[39;00m\n\u001b[0;32m   1040\u001b[0m \u001b[39m#     before it starts, and __del__ tries to join but will get:\u001b[39;00m\n\u001b[0;32m   1041\u001b[0m \u001b[39m#     AssertionError: can only join a started process.\u001b[39;00m\n\u001b[1;32m-> 1042\u001b[0m w\u001b[39m.\u001b[39;49mstart()\n\u001b[0;32m   1043\u001b[0m \u001b[39mself\u001b[39m\u001b[39m.\u001b[39m_index_queues\u001b[39m.\u001b[39mappend(index_queue)\n\u001b[0;32m   1044\u001b[0m \u001b[39mself\u001b[39m\u001b[39m.\u001b[39m_workers\u001b[39m.\u001b[39mappend(w)\n",
      "File \u001b[1;32mc:\\Users\\luis.pinto1\\AppData\\Local\\Programs\\Python\\Python310\\lib\\multiprocessing\\process.py:121\u001b[0m, in \u001b[0;36mBaseProcess.start\u001b[1;34m(self)\u001b[0m\n\u001b[0;32m    118\u001b[0m \u001b[39massert\u001b[39;00m \u001b[39mnot\u001b[39;00m _current_process\u001b[39m.\u001b[39m_config\u001b[39m.\u001b[39mget(\u001b[39m'\u001b[39m\u001b[39mdaemon\u001b[39m\u001b[39m'\u001b[39m), \\\n\u001b[0;32m    119\u001b[0m        \u001b[39m'\u001b[39m\u001b[39mdaemonic processes are not allowed to have children\u001b[39m\u001b[39m'\u001b[39m\n\u001b[0;32m    120\u001b[0m _cleanup()\n\u001b[1;32m--> 121\u001b[0m \u001b[39mself\u001b[39m\u001b[39m.\u001b[39m_popen \u001b[39m=\u001b[39m \u001b[39mself\u001b[39;49m\u001b[39m.\u001b[39;49m_Popen(\u001b[39mself\u001b[39;49m)\n\u001b[0;32m    122\u001b[0m \u001b[39mself\u001b[39m\u001b[39m.\u001b[39m_sentinel \u001b[39m=\u001b[39m \u001b[39mself\u001b[39m\u001b[39m.\u001b[39m_popen\u001b[39m.\u001b[39msentinel\n\u001b[0;32m    123\u001b[0m \u001b[39m# Avoid a refcycle if the target function holds an indirect\u001b[39;00m\n\u001b[0;32m    124\u001b[0m \u001b[39m# reference to the process object (see bpo-30775)\u001b[39;00m\n",
      "File \u001b[1;32mc:\\Users\\luis.pinto1\\AppData\\Local\\Programs\\Python\\Python310\\lib\\multiprocessing\\context.py:224\u001b[0m, in \u001b[0;36mProcess._Popen\u001b[1;34m(process_obj)\u001b[0m\n\u001b[0;32m    222\u001b[0m \u001b[39m@staticmethod\u001b[39m\n\u001b[0;32m    223\u001b[0m \u001b[39mdef\u001b[39;00m \u001b[39m_Popen\u001b[39m(process_obj):\n\u001b[1;32m--> 224\u001b[0m     \u001b[39mreturn\u001b[39;00m _default_context\u001b[39m.\u001b[39;49mget_context()\u001b[39m.\u001b[39;49mProcess\u001b[39m.\u001b[39;49m_Popen(process_obj)\n",
      "File \u001b[1;32mc:\\Users\\luis.pinto1\\AppData\\Local\\Programs\\Python\\Python310\\lib\\multiprocessing\\context.py:327\u001b[0m, in \u001b[0;36mSpawnProcess._Popen\u001b[1;34m(process_obj)\u001b[0m\n\u001b[0;32m    324\u001b[0m \u001b[39m@staticmethod\u001b[39m\n\u001b[0;32m    325\u001b[0m \u001b[39mdef\u001b[39;00m \u001b[39m_Popen\u001b[39m(process_obj):\n\u001b[0;32m    326\u001b[0m     \u001b[39mfrom\u001b[39;00m \u001b[39m.\u001b[39;00m\u001b[39mpopen_spawn_win32\u001b[39;00m \u001b[39mimport\u001b[39;00m Popen\n\u001b[1;32m--> 327\u001b[0m     \u001b[39mreturn\u001b[39;00m Popen(process_obj)\n",
      "File \u001b[1;32mc:\\Users\\luis.pinto1\\AppData\\Local\\Programs\\Python\\Python310\\lib\\multiprocessing\\popen_spawn_win32.py:93\u001b[0m, in \u001b[0;36mPopen.__init__\u001b[1;34m(self, process_obj)\u001b[0m\n\u001b[0;32m     91\u001b[0m \u001b[39mtry\u001b[39;00m:\n\u001b[0;32m     92\u001b[0m     reduction\u001b[39m.\u001b[39mdump(prep_data, to_child)\n\u001b[1;32m---> 93\u001b[0m     reduction\u001b[39m.\u001b[39;49mdump(process_obj, to_child)\n\u001b[0;32m     94\u001b[0m \u001b[39mfinally\u001b[39;00m:\n\u001b[0;32m     95\u001b[0m     set_spawning_popen(\u001b[39mNone\u001b[39;00m)\n",
      "File \u001b[1;32mc:\\Users\\luis.pinto1\\AppData\\Local\\Programs\\Python\\Python310\\lib\\multiprocessing\\reduction.py:60\u001b[0m, in \u001b[0;36mdump\u001b[1;34m(obj, file, protocol)\u001b[0m\n\u001b[0;32m     58\u001b[0m \u001b[39mdef\u001b[39;00m \u001b[39mdump\u001b[39m(obj, file, protocol\u001b[39m=\u001b[39m\u001b[39mNone\u001b[39;00m):\n\u001b[0;32m     59\u001b[0m     \u001b[39m'''Replacement for pickle.dump() using ForkingPickler.'''\u001b[39;00m\n\u001b[1;32m---> 60\u001b[0m     ForkingPickler(file, protocol)\u001b[39m.\u001b[39;49mdump(obj)\n",
      "\u001b[1;31mKeyboardInterrupt\u001b[0m: "
     ]
    }
   ],
   "source": [
    "get_membership_attack_prob(retain_loader, forget_loader, test_loader, model)"
   ]
  }
 ],
 "metadata": {
  "kernelspec": {
   "display_name": "Python 3",
   "language": "python",
   "name": "python3"
  },
  "language_info": {
   "codemirror_mode": {
    "name": "ipython",
    "version": 3
   },
   "file_extension": ".py",
   "mimetype": "text/x-python",
   "name": "python",
   "nbconvert_exporter": "python",
   "pygments_lexer": "ipython3",
   "version": "3.10.5"
  },
  "orig_nbformat": 4
 },
 "nbformat": 4,
 "nbformat_minor": 2
}
