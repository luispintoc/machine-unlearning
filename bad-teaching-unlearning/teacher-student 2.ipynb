{
 "cells": [
  {
   "cell_type": "code",
   "execution_count": 1,
   "metadata": {},
   "outputs": [
    {
     "name": "stdout",
     "output_type": "stream",
     "text": [
      "Running on device: CUDA\n"
     ]
    }
   ],
   "source": [
    "import os\n",
    "import requests\n",
    "import random\n",
    "import math\n",
    "import numpy as np\n",
    "import matplotlib.pyplot as plt\n",
    "from sklearn import linear_model, model_selection\n",
    "\n",
    "\n",
    "import torch\n",
    "import torch.nn.functional as F\n",
    "from torch import nn\n",
    "from torch.nn.utils import prune\n",
    "from torch import optim\n",
    "from torch.utils.data import DataLoader, TensorDataset\n",
    "\n",
    "import torchvision\n",
    "from torchvision import transforms\n",
    "from torchvision.utils import make_grid\n",
    "from torchvision.models import resnet18\n",
    "\n",
    "DEVICE = \"cuda\" if torch.cuda.is_available() else \"cpu\"\n",
    "print(\"Running on device:\", DEVICE.upper())\n",
    "\n",
    "# manual random seed is used for dataset partitioning\n",
    "# to ensure reproducible results across runs\n",
    "SEED = 42\n",
    "RNG = torch.Generator().manual_seed(SEED)\n",
    "random.seed(SEED)\n",
    "torch.manual_seed(SEED)\n",
    "\n",
    "import sys\n",
    "sys.path.append('../')\n",
    "from utils import *"
   ]
  },
  {
   "cell_type": "code",
   "execution_count": 2,
   "metadata": {},
   "outputs": [],
   "source": [
    "import ssl\n",
    "\n",
    "# Create an unverified SSL context\n",
    "ssl._create_default_https_context = ssl._create_unverified_context"
   ]
  },
  {
   "cell_type": "code",
   "execution_count": 3,
   "metadata": {},
   "outputs": [],
   "source": [
    "# download and pre-process CIFAR10\n",
    "normalize = transforms.Compose(\n",
    "    [\n",
    "        transforms.ToTensor(),\n",
    "        transforms.Normalize((0.4914, 0.4822, 0.4465), (0.2023, 0.1994, 0.2010)),\n",
    "    ]\n",
    ")\n",
    "\n",
    "train_set = torchvision.datasets.CIFAR10(\n",
    "    root=\"../example notebooks/data\", train=True, download=False, transform=normalize\n",
    ")\n",
    "train_loader = DataLoader(train_set, batch_size=128, shuffle=True, num_workers=1)\n",
    "\n",
    "# we split held out data into test and validation set\n",
    "held_out = torchvision.datasets.CIFAR10(\n",
    "    root=\"../example notebooks/data\", train=False, download=False, transform=normalize\n",
    ")\n",
    "test_set, val_set = torch.utils.data.random_split(held_out, [0.5, 0.5], generator=RNG)\n",
    "test_loader = DataLoader(test_set, batch_size=128, shuffle=False, num_workers=1)\n",
    "val_loader = DataLoader(val_set, batch_size=128, shuffle=False, num_workers=1)\n",
    "\n",
    "# download the forget and retain index split\n",
    "local_path = \"../example notebooks/forget_idx.npy\"\n",
    "# if not os.path.exists(local_path):\n",
    "#     response = requests.get(\n",
    "#         \"https://storage.googleapis.com/unlearning-challenge/\" + local_path\n",
    "#     )\n",
    "#     open(local_path, \"wb\").write(response.content)\n",
    "forget_idx = np.load(local_path)\n",
    "\n",
    "# construct indices of retain from those of the forget set\n",
    "forget_mask = np.zeros(len(train_set.targets), dtype=bool)\n",
    "forget_mask[forget_idx] = True\n",
    "retain_idx = np.arange(forget_mask.size)[~forget_mask]\n",
    "\n",
    "# split train set into a forget and a retain set\n",
    "forget_set = torch.utils.data.Subset(train_set, forget_idx)\n",
    "retain_set = torch.utils.data.Subset(train_set, retain_idx)\n",
    "\n",
    "forget_loader = torch.utils.data.DataLoader(\n",
    "    forget_set, batch_size=128, shuffle=False, num_workers=1\n",
    ")\n",
    "# retain_loader = torch.utils.data.DataLoader(\n",
    "#     retain_set, batch_size=128, shuffle=True, num_workers=1, generator=RNG\n",
    "# )"
   ]
  },
  {
   "cell_type": "code",
   "execution_count": 4,
   "metadata": {},
   "outputs": [],
   "source": [
    "retain_loader = torch.utils.data.DataLoader(\n",
    "    retain_set, batch_size=128, shuffle=False, num_workers=1\n",
    ")"
   ]
  },
  {
   "cell_type": "code",
   "execution_count": 5,
   "metadata": {},
   "outputs": [],
   "source": [
    "local_path = \"../example notebooks/weights/weights_resnet18_cifar10.pth\"\n",
    "if not os.path.exists(local_path):\n",
    "    response = requests.get(\n",
    "        \"https://storage.googleapis.com/unlearning-challenge/weights_resnet18_cifar10.pth\"\n",
    "    )\n",
    "    open(local_path, \"wb\").write(response.content)\n",
    "\n",
    "weights_pretrained = torch.load(local_path, map_location=DEVICE) #43Mbs\n",
    "\n",
    "# load model with pre-trained weights\n",
    "model = resnet18(weights=None, num_classes=10)\n",
    "model.load_state_dict(weights_pretrained)\n",
    "model.to(DEVICE)\n",
    "model.eval();"
   ]
  },
  {
   "cell_type": "code",
   "execution_count": 6,
   "metadata": {},
   "outputs": [],
   "source": [
    "def plot_teacher_student_outputs(teacher_logits, student_logits):\n",
    "    teacher_probs = torch.nn.functional.softmax(teacher_logits, dim=0).cpu().numpy()\n",
    "    student_probs = torch.nn.functional.softmax(student_logits, dim=0).cpu().numpy()\n",
    "    plt.plot(teacher_probs, 'ko', label='teacher')\n",
    "    plt.plot(student_probs, 'ro', label='student')\n",
    "    plt.legend()\n",
    "    plt.yscale('log')\n",
    "    plt.show()"
   ]
  },
  {
   "cell_type": "markdown",
   "metadata": {},
   "source": [
    "## Teacher"
   ]
  },
  {
   "cell_type": "code",
   "execution_count": 7,
   "metadata": {},
   "outputs": [],
   "source": [
    "'''\n",
    "Shuffle retain data\n",
    "'''\n",
    "\n",
    "data_list = []\n",
    "label_list = []\n",
    "\n",
    "for data, label in retain_loader:\n",
    "    data_list.append(data)\n",
    "    label_list.append(label)\n",
    "    \n",
    "all_data = torch.cat(data_list, 0)\n",
    "all_labels = torch.cat(label_list, 0)\n",
    "    \n",
    "combined = list(zip(all_data, all_labels))\n",
    "random.shuffle(combined)\n",
    "shuffled_data, shuffled_labels = zip(*combined)\n",
    "\n",
    "shuffled_data = torch.stack(shuffled_data)\n",
    "shuffled_labels = torch.stack(shuffled_labels)\n",
    "\n",
    "shuffled_dataset = TensorDataset(shuffled_data, shuffled_labels)\n",
    "retain_loader = DataLoader(shuffled_dataset, batch_size=128, shuffle=False)"
   ]
  },
  {
   "cell_type": "code",
   "execution_count": 8,
   "metadata": {},
   "outputs": [],
   "source": [
    "teacher_logits_tensor = torch.zeros(len(retain_loader.dataset), 10)\n",
    "\n",
    "start_idx = 0\n",
    "with torch.no_grad():\n",
    "    for (inputs, labels) in retain_loader:\n",
    "        end_idx = start_idx + inputs.shape[0]\n",
    "        outputs = model(inputs.to(DEVICE))\n",
    "        teacher_logits_tensor[start_idx:end_idx] = outputs.cpu()\n",
    "        start_idx = end_idx\n",
    "\n",
    "# Create a dataloader\n",
    "retain_logit_loader = DataLoader(teacher_logits_tensor, batch_size=128, shuffle=False)"
   ]
  },
  {
   "cell_type": "code",
   "execution_count": 9,
   "metadata": {},
   "outputs": [],
   "source": [
    "'''\n",
    "Shuffle forget data\n",
    "'''\n",
    "\n",
    "data_list = []\n",
    "label_list = []\n",
    "\n",
    "for data, label in forget_loader:\n",
    "    data_list.append(data)\n",
    "    label_list.append(label)\n",
    "    \n",
    "all_data = torch.cat(data_list, 0)\n",
    "all_labels = torch.cat(label_list, 0)\n",
    "    \n",
    "combined = list(zip(all_data, all_labels))\n",
    "random.shuffle(combined)\n",
    "shuffled_data, shuffled_labels = zip(*combined)\n",
    "\n",
    "shuffled_data = torch.stack(shuffled_data)\n",
    "shuffled_labels = torch.stack(shuffled_labels)\n",
    "\n",
    "shuffled_dataset = TensorDataset(shuffled_data, shuffled_labels)\n",
    "forget_loader = DataLoader(shuffled_dataset, batch_size=128, shuffle=False)"
   ]
  },
  {
   "cell_type": "code",
   "execution_count": 10,
   "metadata": {},
   "outputs": [],
   "source": [
    "teacher_logits_tensor = torch.zeros(len(forget_loader.dataset), 10)\n",
    "\n",
    "start_idx = 0\n",
    "with torch.no_grad():\n",
    "    for (inputs, labels) in forget_loader:\n",
    "        end_idx = start_idx + inputs.shape[0]\n",
    "        outputs = model(inputs.to(DEVICE))\n",
    "        teacher_logits_tensor[start_idx:end_idx] = outputs.cpu()\n",
    "        start_idx = end_idx\n",
    "\n",
    "# Create a dataloader\n",
    "forget_logit_loader = DataLoader(teacher_logits_tensor, batch_size=128, shuffle=False)"
   ]
  },
  {
   "cell_type": "code",
   "execution_count": 11,
   "metadata": {},
   "outputs": [],
   "source": [
    "ft_test_losses = compute_losses(model, test_loader)"
   ]
  },
  {
   "cell_type": "markdown",
   "metadata": {},
   "source": [
    "## Student"
   ]
  },
  {
   "cell_type": "code",
   "execution_count": 12,
   "metadata": {},
   "outputs": [],
   "source": [
    "# Apply pruning\n",
    "pct = 0.50\n",
    "unstructure_prune(model, pct, global_pruning=True, random_init=False, only_fc=True)\n",
    "# prune_test(model, pct, only_fc=True)"
   ]
  },
  {
   "cell_type": "code",
   "execution_count": 13,
   "metadata": {},
   "outputs": [],
   "source": [
    "# for param in model.parameters():\n",
    "#     param.requires_grad = False\n",
    "\n",
    "# for param in model.fc.parameters():\n",
    "#     param.requires_grad = True"
   ]
  },
  {
   "cell_type": "code",
   "execution_count": 1,
   "metadata": {},
   "outputs": [],
   "source": [
    "import math"
   ]
  },
  {
   "cell_type": "code",
   "execution_count": 4,
   "metadata": {},
   "outputs": [
    {
     "data": {
      "text/plain": [
       "1283.461569256528"
      ]
     },
     "execution_count": 4,
     "metadata": {},
     "output_type": "execute_result"
    }
   ],
   "source": [
    "math.log(1e-6 / 0.4) / math.log(0.99)"
   ]
  },
  {
   "cell_type": "code",
   "execution_count": 14,
   "metadata": {},
   "outputs": [],
   "source": [
    "student_logits = torch.zeros(len(retain_loader.dataset), 10)\n",
    "\n",
    "start_idx = 0\n",
    "with torch.no_grad():\n",
    "    for (inputs, labels) in retain_loader:\n",
    "        end_idx = start_idx + inputs.shape[0]\n",
    "        outputs = model(inputs.to(DEVICE))\n",
    "        student_logits[start_idx:end_idx] = outputs.cpu()\n",
    "        start_idx = end_idx"
   ]
  },
  {
   "cell_type": "code",
   "execution_count": 15,
   "metadata": {},
   "outputs": [
    {
     "data": {
      "image/png": "[encoded data removed]",
      "text/plain": [
       "<Figure size 640x480 with 1 Axes>"
      ]
     },
     "metadata": {},
     "output_type": "display_data"
    }
   ],
   "source": [
    "plot_teacher_student_outputs(teacher_logits_tensor[3], student_logits[3])"
   ]
  },
  {
   "cell_type": "code",
   "execution_count": 16,
   "metadata": {},
   "outputs": [
    {
     "name": "stdout",
     "output_type": "stream",
     "text": [
      "Retain set accuracy: 99.5%\n",
      "Forget set accuracy: 99.3%\n",
      "Val set accuracy: 88.9%\n",
      "Test set accuracy: 88.4%\n",
      "The MIA has an accuracy of 0.576 on forgotten vs unseen images\n",
      "Earth movers distance = 0.418\n"
     ]
    }
   ],
   "source": [
    "ft_forget_losses, test_losses, ft_mia_scores = get_all_metrics(ft_test_losses, model, retain_loader, forget_loader, val_loader, test_loader)"
   ]
  },
  {
   "cell_type": "code",
   "execution_count": 17,
   "metadata": {},
   "outputs": [
    {
     "data": {
      "image/png": "[encoded data removed]",
      "text/plain": [
       "<Figure size 640x480 with 1 Axes>"
      ]
     },
     "metadata": {},
     "output_type": "display_data"
    }
   ],
   "source": [
    "fig = plt.Figure(figsize=(16, 6))\n",
    "\n",
    "plt.title(\n",
    "    f\"Unlearned by fine-tuning.\\nAttack accuracy: {ft_mia_scores.mean():0.2f}\"\n",
    ")\n",
    "plt.hist(ft_test_losses, density=True, alpha=0.5, bins=50, label=\"Test set\")\n",
    "plt.hist(ft_forget_losses, density=True, alpha=0.5, bins=50, label=\"Forget set\")\n",
    "\n",
    "plt.xlabel(\"Loss\")\n",
    "plt.yscale(\"log\")\n",
    "plt.xlim((0, np.max(ft_test_losses)))\n",
    "plt.legend()\n",
    "\n",
    "plt.show()"
   ]
  },
  {
   "cell_type": "markdown",
   "metadata": {},
   "source": [
    "# Forget"
   ]
  },
  {
   "cell_type": "code",
   "execution_count": 18,
   "metadata": {},
   "outputs": [],
   "source": [
    "# initial_lr = 0.01/2\n",
    "# epochs = 1\n",
    "\n",
    "# current_batch = 0\n",
    "# total_samples = len(forget_loader.dataset)\n",
    "# batch_size = forget_loader.batch_size\n",
    "# batches_per_epoch  = math.ceil(total_samples / batch_size)\n",
    "# total_batches = epochs * batches_per_epoch\n",
    "# initial_lr = 0.01\n",
    "# warmup_batches = math.ceil(0.4*batches_per_epoch)\n",
    "\n",
    "# criterion = nn.CrossEntropyLoss(label_smoothing=0.2)\n",
    "# optimizer = optim.SGD(model.parameters(), lr=initial_lr, momentum=0.9, weight_decay=5e-4)\n",
    "# scheduler = torch.optim.lr_scheduler.CosineAnnealingLR(optimizer, T_max=epochs)\n",
    "# model.train()\n",
    "\n",
    "# for _ in range(epochs):\n",
    "#     for inputs, targets in forget_loader:\n",
    "#         inputs, targets = inputs.to(DEVICE), targets.to(DEVICE)\n",
    "\n",
    "#         current_batch += 1\n",
    "\n",
    "#         # Warm-up for the first 'warmup_batches' batches\n",
    "#         # if current_batch <= warmup_batches:\n",
    "#         #     adjust_learning_rate(optimizer, current_batch, warmup_batches, initial_lr)\n",
    "\n",
    "#         optimizer.zero_grad()\n",
    "#         outputs = model(inputs)\n",
    "#         loss = -1.0*criterion(outputs, targets)\n",
    "#         loss.backward()\n",
    "#         optimizer.step()\n",
    "#     scheduler.step()\n",
    "\n",
    "# ft_forget_losses, test_losses, ft_mia_scores = get_all_metrics(ft_test_losses, model, retain_loader, forget_loader, val_loader, test_loader)\n",
    "\n",
    "# fig = plt.Figure(figsize=(16, 6))\n",
    "\n",
    "# plt.title(\n",
    "#     f\"Unlearned by fine-tuning.\\nAttack accuracy: {ft_mia_scores.mean():0.2f}\"\n",
    "# )\n",
    "# plt.hist(ft_test_losses, density=True, alpha=0.5, bins=50, label=\"Test set\")\n",
    "# plt.hist(ft_forget_losses, density=True, alpha=0.5, bins=50, label=\"Forget set\")\n",
    "\n",
    "# plt.xlabel(\"Loss\")\n",
    "# plt.yscale(\"log\")\n",
    "# plt.xlim((0, np.max(ft_test_losses)))\n",
    "# plt.legend()\n",
    "\n",
    "# plt.show()"
   ]
  },
  {
   "cell_type": "markdown",
   "metadata": {},
   "source": [
    "## Knowledge distillation"
   ]
  },
  {
   "cell_type": "code",
   "execution_count": 21,
   "metadata": {},
   "outputs": [],
   "source": [
    "alpha = 0.9\n",
    "n_classes = 10\n",
    "T = 10.0\n",
    "\n",
    "initial_lr = 0.01/2\n",
    "epochs = 3\n",
    "\n",
    "criterion = nn.CrossEntropyLoss()\n",
    "optimizer = optim.SGD(model.parameters(), lr=initial_lr, momentum=0.9, weight_decay=5e-4)\n",
    "\n",
    "model.train()\n",
    "\n",
    "\n",
    "for ep in range(epochs):\n",
    "\n",
    "    for (inputs, targets), teacher_logits in zip(retain_loader, retain_logit_loader):\n",
    "        inputs, targets = inputs.to(DEVICE), targets.to(DEVICE)\n",
    "        teacher_logits = teacher_logits.to(DEVICE)\n",
    "\n",
    "        optimizer.zero_grad()\n",
    "        \n",
    "        # Forward pass student\n",
    "        student_logits = model(inputs)\n",
    "\n",
    "        # Calculate soft labels from teacher\n",
    "        teacher_probs = F.softmax(teacher_logits/T, dim=1)\n",
    "\n",
    "        # Compute distillation loss\n",
    "        student_log_probs = F.log_softmax(student_logits, dim=1) #/T\n",
    "        distillation_loss = F.kl_div(student_log_probs, teacher_probs, reduction='batchmean') * (T * T)\n",
    "\n",
    "        # Perform label smoothing\n",
    "        # labels_one_hot = F.one_hot(labels, n_classes).float()\n",
    "        # labels_smooth = (1-alpha) * labels_one_hot + (alpha/n_classes)\n",
    "\n",
    "        # Compute the classification loss\n",
    "        classification_loss = criterion(student_logits, targets)\n",
    "\n",
    "        loss = alpha*distillation_loss + (1-alpha)*classification_loss\n",
    "        loss.backward()\n",
    "        optimizer.step()"
   ]
  },
  {
   "cell_type": "code",
   "execution_count": 22,
   "metadata": {},
   "outputs": [],
   "source": [
    "# student_logits = torch.zeros(len(retain_loader.dataset), 10)\n",
    "\n",
    "# start_idx = 0\n",
    "# with torch.no_grad():\n",
    "#     for (inputs, labels) in retain_loader:\n",
    "#         end_idx = start_idx + inputs.shape[0]\n",
    "#         outputs = model(inputs.to(DEVICE))\n",
    "#         student_logits[start_idx:end_idx] = outputs.cpu()\n",
    "#         start_idx = end_idx\n",
    "\n",
    "# plot_teacher_student_outputs(teacher_logits_tensor[3], student_logits[3])"
   ]
  },
  {
   "cell_type": "markdown",
   "metadata": {},
   "source": [
    "## Evaluation"
   ]
  },
  {
   "cell_type": "code",
   "execution_count": 23,
   "metadata": {},
   "outputs": [
    {
     "name": "stdout",
     "output_type": "stream",
     "text": [
      "Retain set accuracy: 99.5%\n",
      "Forget set accuracy: 99.0%\n",
      "Val set accuracy: 88.4%\n",
      "Test set accuracy: 87.8%\n",
      "The MIA has an accuracy of 0.573 on forgotten vs unseen images\n",
      "Earth movers distance = 0.410\n"
     ]
    }
   ],
   "source": [
    "ft_forget_losses, test_losses, ft_mia_scores = get_all_metrics(ft_test_losses, model, retain_loader, forget_loader, val_loader, test_loader)"
   ]
  },
  {
   "cell_type": "code",
   "execution_count": 24,
   "metadata": {},
   "outputs": [
    {
     "data": {
      "image/png": "[encoded data removed]",
      "text/plain": [
       "<Figure size 640x480 with 1 Axes>"
      ]
     },
     "metadata": {},
     "output_type": "display_data"
    }
   ],
   "source": [
    "fig = plt.Figure(figsize=(16, 6))\n",
    "\n",
    "plt.title(\n",
    "    f\"Unlearned by fine-tuning.\\nAttack accuracy: {ft_mia_scores.mean():0.2f}\"\n",
    ")\n",
    "plt.hist(ft_test_losses, density=True, alpha=0.5, bins=50, label=\"Test set\")\n",
    "plt.hist(ft_forget_losses, density=True, alpha=0.5, bins=50, label=\"Forget set\")\n",
    "\n",
    "plt.xlabel(\"Loss\")\n",
    "plt.yscale(\"log\")\n",
    "plt.xlim((0, np.max(ft_test_losses)))\n",
    "plt.legend()\n",
    "\n",
    "plt.show()"
   ]
  },
  {
   "cell_type": "markdown",
   "metadata": {},
   "source": [
    "# More retrain"
   ]
  },
  {
   "cell_type": "code",
   "execution_count": null,
   "metadata": {},
   "outputs": [],
   "source": [
    "alpha = 0.9\n",
    "n_classes = 10\n",
    "T = 2.0\n",
    "\n",
    "initial_lr = 0.01/2\n",
    "epochs = 3\n",
    "\n",
    "criterion = nn.CrossEntropyLoss()\n",
    "optimizer = optim.SGD(model.parameters(), lr=initial_lr, momentum=0.9, weight_decay=5e-4)\n",
    "\n",
    "model.train()\n",
    "\n",
    "\n",
    "for ep in range(epochs):\n",
    "\n",
    "    for (inputs, targets), teacher_logits in zip(retain_loader, retain_logit_loader):\n",
    "        inputs, targets = inputs.to(DEVICE), targets.to(DEVICE)\n",
    "        teacher_logits = teacher_logits.to(DEVICE)\n",
    "\n",
    "        optimizer.zero_grad()\n",
    "        \n",
    "        # Forward pass student\n",
    "        student_logits = model(inputs)\n",
    "\n",
    "        # Calculate soft labels from teacher\n",
    "        teacher_probs = F.softmax(teacher_logits/T, dim=1)\n",
    "\n",
    "        # Compute distillation loss\n",
    "        student_log_probs = F.log_softmax(student_logits/T, dim=1)\n",
    "        distillation_loss = F.kl_div(student_log_probs, teacher_probs, reduction='batchmean') * (T * T)\n",
    "\n",
    "        # Perform label smoothing\n",
    "        # labels_one_hot = F.one_hot(labels, n_classes).float()\n",
    "        # labels_smooth = (1-alpha) * labels_one_hot + (alpha/n_classes)\n",
    "\n",
    "        # Compute the classification loss\n",
    "        classification_loss = criterion(student_logits, targets)\n",
    "\n",
    "        loss = alpha*distillation_loss + (1-alpha)*classification_loss\n",
    "        loss.backward()\n",
    "        optimizer.step()"
   ]
  },
  {
   "cell_type": "code",
   "execution_count": null,
   "metadata": {},
   "outputs": [],
   "source": [
    "ft_forget_losses, test_losses, ft_mia_scores = get_all_metrics(ft_test_losses, model, retain_loader, forget_loader, val_loader, test_loader)"
   ]
  },
  {
   "cell_type": "code",
   "execution_count": null,
   "metadata": {},
   "outputs": [],
   "source": [
    "fig = plt.Figure(figsize=(16, 6))\n",
    "\n",
    "plt.title(\n",
    "    f\"Unlearned by fine-tuning.\\nAttack accuracy: {ft_mia_scores.mean():0.2f}\"\n",
    ")\n",
    "plt.hist(ft_test_losses, density=True, alpha=0.5, bins=50, label=\"Test set\")\n",
    "plt.hist(ft_forget_losses, density=True, alpha=0.5, bins=50, label=\"Forget set\")\n",
    "\n",
    "plt.xlabel(\"Loss\")\n",
    "plt.yscale(\"log\")\n",
    "plt.xlim((0, np.max(ft_test_losses)))\n",
    "plt.legend()\n",
    "\n",
    "plt.show()"
   ]
  }
 ],
 "metadata": {
  "kernelspec": {
   "display_name": "Python 3",
   "language": "python",
   "name": "python3"
  },
  "language_info": {
   "codemirror_mode": {
    "name": "ipython",
    "version": 3
   },
   "file_extension": ".py",
   "mimetype": "text/x-python",
   "name": "python",
   "nbconvert_exporter": "python",
   "pygments_lexer": "ipython3",
   "version": "3.10.5"
  },
  "orig_nbformat": 4
 },
 "nbformat": 4,
 "nbformat_minor": 2
}
