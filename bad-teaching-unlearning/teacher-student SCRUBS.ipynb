{
 "cells": [
  {
   "cell_type": "code",
   "execution_count": 146,
   "metadata": {},
   "outputs": [
    {
     "name": "stdout",
     "output_type": "stream",
     "text": [
      "Running on device: CUDA\n"
     ]
    },
    {
     "data": {
      "text/plain": [
       "<torch._C.Generator at 0x16f35100670>"
      ]
     },
     "execution_count": 146,
     "metadata": {},
     "output_type": "execute_result"
    }
   ],
   "source": [
    "import os\n",
    "import requests\n",
    "import random\n",
    "import math\n",
    "import numpy as np\n",
    "import matplotlib.pyplot as plt\n",
    "from sklearn import linear_model, model_selection\n",
    "\n",
    "import torch\n",
    "import torch.nn.functional as F\n",
    "from torch import nn\n",
    "from torch.nn.utils import prune\n",
    "from torch import optim\n",
    "from torch.utils.data import DataLoader, TensorDataset\n",
    "\n",
    "import torchvision\n",
    "from torchvision import transforms\n",
    "from torchvision.utils import make_grid\n",
    "from torchvision.models import resnet18\n",
    "\n",
    "DEVICE = \"cuda\" if torch.cuda.is_available() else \"cpu\"\n",
    "print(\"Running on device:\", DEVICE.upper())\n",
    "\n",
    "# manual random seed is used for dataset partitioning\n",
    "# to ensure reproducible results across runs\n",
    "SEED = 42\n",
    "RNG = torch.Generator().manual_seed(SEED)\n",
    "random.seed(SEED)\n",
    "torch.manual_seed(SEED)"
   ]
  },
  {
   "cell_type": "code",
   "execution_count": 147,
   "metadata": {},
   "outputs": [],
   "source": [
    "import ssl\n",
    "\n",
    "# Create an unverified SSL context\n",
    "ssl._create_default_https_context = ssl._create_unverified_context"
   ]
  },
  {
   "cell_type": "code",
   "execution_count": 148,
   "metadata": {},
   "outputs": [],
   "source": [
    "# download and pre-process CIFAR10\n",
    "normalize = transforms.Compose(\n",
    "    [\n",
    "        transforms.ToTensor(),\n",
    "        transforms.Normalize((0.4914, 0.4822, 0.4465), (0.2023, 0.1994, 0.2010)),\n",
    "    ]\n",
    ")\n",
    "\n",
    "train_set = torchvision.datasets.CIFAR10(\n",
    "    root=\"../example notebooks/data\", train=True, download=False, transform=normalize\n",
    ")\n",
    "train_loader = DataLoader(train_set, batch_size=128, shuffle=True, num_workers=1)\n",
    "\n",
    "# we split held out data into test and validation set\n",
    "held_out = torchvision.datasets.CIFAR10(\n",
    "    root=\"../example notebooks/data\", train=False, download=False, transform=normalize\n",
    ")\n",
    "test_set, val_set = torch.utils.data.random_split(held_out, [0.5, 0.5], generator=RNG)\n",
    "test_loader = DataLoader(test_set, batch_size=128, shuffle=False, num_workers=1)\n",
    "val_loader = DataLoader(val_set, batch_size=128, shuffle=False, num_workers=1)\n",
    "\n",
    "# download the forget and retain index split\n",
    "local_path = \"../example notebooks/forget_idx.npy\"\n",
    "# if not os.path.exists(local_path):\n",
    "#     response = requests.get(\n",
    "#         \"https://storage.googleapis.com/unlearning-challenge/\" + local_path\n",
    "#     )\n",
    "#     open(local_path, \"wb\").write(response.content)\n",
    "forget_idx = np.load(local_path)\n",
    "\n",
    "# construct indices of retain from those of the forget set\n",
    "forget_mask = np.zeros(len(train_set.targets), dtype=bool)\n",
    "forget_mask[forget_idx] = True\n",
    "retain_idx = np.arange(forget_mask.size)[~forget_mask]\n",
    "\n",
    "# split train set into a forget and a retain set\n",
    "forget_set = torch.utils.data.Subset(train_set, forget_idx)\n",
    "retain_set = torch.utils.data.Subset(train_set, retain_idx)\n",
    "\n",
    "forget_loader = torch.utils.data.DataLoader(\n",
    "    forget_set, batch_size=128, shuffle=False, num_workers=1\n",
    ")\n",
    "# retain_loader = torch.utils.data.DataLoader(\n",
    "#     retain_set, batch_size=128, shuffle=True, num_workers=1, generator=RNG\n",
    "# )"
   ]
  },
  {
   "cell_type": "code",
   "execution_count": 149,
   "metadata": {},
   "outputs": [],
   "source": [
    "retain_loader = torch.utils.data.DataLoader(\n",
    "    retain_set, batch_size=128, shuffle=False, num_workers=1\n",
    ")"
   ]
  },
  {
   "cell_type": "code",
   "execution_count": 150,
   "metadata": {},
   "outputs": [],
   "source": [
    "local_path = \"../example notebooks/weights/weights_resnet18_cifar10.pth\"\n",
    "if not os.path.exists(local_path):\n",
    "    response = requests.get(\n",
    "        \"https://storage.googleapis.com/unlearning-challenge/weights_resnet18_cifar10.pth\"\n",
    "    )\n",
    "    open(local_path, \"wb\").write(response.content)\n",
    "\n",
    "weights_pretrained = torch.load(local_path, map_location=DEVICE) #43Mbs\n",
    "\n",
    "# load model with pre-trained weights\n",
    "model = resnet18(weights=None, num_classes=10)\n",
    "model.load_state_dict(weights_pretrained)\n",
    "model.to(DEVICE)\n",
    "model.eval();"
   ]
  },
  {
   "cell_type": "code",
   "execution_count": 151,
   "metadata": {},
   "outputs": [],
   "source": [
    "def accuracy(net, loader):\n",
    "    \"\"\"Return accuracy on a dataset given by the data loader.\"\"\"\n",
    "    correct = 0\n",
    "    total = 0\n",
    "    for inputs, targets in loader:\n",
    "        inputs, targets = inputs.to(DEVICE), targets.to(DEVICE)\n",
    "        outputs = net(inputs)\n",
    "        _, predicted = outputs.max(1)\n",
    "        total += targets.size(0)\n",
    "        correct += predicted.eq(targets).sum().item()\n",
    "    return correct / total"
   ]
  },
  {
   "cell_type": "code",
   "execution_count": 152,
   "metadata": {},
   "outputs": [],
   "source": [
    "def unstructure_prune(model, pruning_amount=0.2, global_pruning=False, random_init=False):\n",
    "\n",
    "    parameters_to_prune = []\n",
    "    if global_pruning:\n",
    "        for name, module in model.named_modules():\n",
    "            if isinstance(module, torch.nn.Conv2d) or isinstance(module, torch.nn.Linear):\n",
    "                parameters_to_prune.append((module, 'weight'))\n",
    "\n",
    "        #Global pruning\n",
    "        prune.global_unstructured(\n",
    "            parameters_to_prune,\n",
    "            pruning_method=prune.L1Unstructured,\n",
    "            amount=pruning_amount\n",
    "        )\n",
    "\n",
    "    else:\n",
    "         for name, module in model.named_modules():\n",
    "            if isinstance(module, torch.nn.Conv2d) or isinstance(module, torch.nn.Linear):\n",
    "                prune.l1_unstructured(module, name='weight', amount=pruning_amount)\n",
    "                parameters_to_prune.append((module, 'weight'))\n",
    "                \n",
    "\n",
    "    # Randomly re-initialize pruned weights while preserving the mask\n",
    "    for module, param_name in parameters_to_prune:\n",
    "        if random_init:\n",
    "            mask = getattr(module, f\"{param_name}_mask\")  # Get the binary mask used for pruning\n",
    "            init_weights = getattr(module, param_name)  # Get the current weights\n",
    "            # Randomly initialize new weights\n",
    "            new_weights = torch.randn_like(init_weights)\n",
    "            # Apply the pruning mask to keep the pruned weights zero\n",
    "            new_weights = new_weights * mask\n",
    "            # Assign the new weights\n",
    "            setattr(module, param_name, torch.nn.Parameter(new_weights))\n",
    "        # Make the pruning permanent by removing the mask\n",
    "        prune.remove(module, param_name)"
   ]
  },
  {
   "cell_type": "code",
   "execution_count": 153,
   "metadata": {},
   "outputs": [],
   "source": [
    "def plot_teacher_student_outputs(teacher_logits, student_logits):\n",
    "    teacher_probs = torch.nn.functional.softmax(teacher_logits, dim=0).cpu().numpy()\n",
    "    student_probs = torch.nn.functional.softmax(student_logits, dim=0).cpu().numpy()\n",
    "    plt.plot(teacher_probs, 'ko', label='teacher')\n",
    "    plt.plot(student_probs, 'ro', label='student')\n",
    "    plt.legend()\n",
    "    plt.yscale('log')\n",
    "    plt.show()"
   ]
  },
  {
   "cell_type": "code",
   "execution_count": 154,
   "metadata": {},
   "outputs": [],
   "source": [
    "def compute_losses(net, loader):\n",
    "    \"\"\"Auxiliary function to compute per-sample losses\"\"\"\n",
    "\n",
    "    criterion = nn.CrossEntropyLoss(reduction=\"none\")\n",
    "    all_losses = []\n",
    "\n",
    "    for inputs, targets in loader:\n",
    "        inputs, targets = inputs.to(DEVICE), targets.to(DEVICE)\n",
    "\n",
    "        logits = net(inputs)\n",
    "        losses = criterion(logits, targets).numpy(force=True)\n",
    "        for l in losses:\n",
    "            all_losses.append(l)\n",
    "\n",
    "    return np.array(all_losses)"
   ]
  },
  {
   "cell_type": "code",
   "execution_count": 155,
   "metadata": {},
   "outputs": [],
   "source": [
    "def simple_mia(sample_loss, members, n_splits=10, random_state=0):\n",
    "    \"\"\"Computes cross-validation score of a membership inference attack.\n",
    "\n",
    "    Args:\n",
    "      sample_loss : array_like of shape (n,).\n",
    "        objective function evaluated on n samples.\n",
    "      members : array_like of shape (n,),\n",
    "        whether a sample was used for training.\n",
    "      n_splits: int\n",
    "        number of splits to use in the cross-validation.\n",
    "    Returns:\n",
    "      scores : array_like of size (n_splits,)\n",
    "    \"\"\"\n",
    "\n",
    "    unique_members = np.unique(members)\n",
    "    if not np.all(unique_members == np.array([0, 1])):\n",
    "        raise ValueError(\"members should only have 0 and 1s\")\n",
    "\n",
    "    attack_model = linear_model.LogisticRegression()\n",
    "    cv = model_selection.StratifiedShuffleSplit(\n",
    "        n_splits=n_splits, random_state=random_state\n",
    "    )\n",
    "    return model_selection.cross_val_score(\n",
    "        attack_model, sample_loss, members, cv=cv, scoring=\"accuracy\"\n",
    "    )"
   ]
  },
  {
   "cell_type": "code",
   "execution_count": 156,
   "metadata": {},
   "outputs": [],
   "source": [
    "def calc_mia_acc(forget_loss, test_loss):\n",
    "    # make sure we have a balanced dataset for the MIA\n",
    "    assert len(test_loss) == len(forget_loss)\n",
    "\n",
    "    ft_samples_mia = np.concatenate((test_loss, forget_loss)).reshape((-1, 1))\n",
    "    labels_mia = [0] * len(test_loss) + [1] * len(forget_loss)\n",
    "\n",
    "    ft_mia_scores = simple_mia(ft_samples_mia, labels_mia)\n",
    "\n",
    "    return ft_mia_scores.mean()"
   ]
  },
  {
   "cell_type": "code",
   "execution_count": 157,
   "metadata": {},
   "outputs": [],
   "source": [
    "def get_all_metrics(model, student_model, retain_loader, forget_loader, val_loader, test_loader):\n",
    "\n",
    "    model.eval()\n",
    "    \n",
    "    print(f\"Retain set accuracy: {100.0 * accuracy(student_model, retain_loader):0.1f}%\")\n",
    "    print(f\"Forget set accuracy: {100.0 * accuracy(student_model, forget_loader):0.1f}%\")\n",
    "    print(f\"Val set accuracy: {100.0 * accuracy(student_model, val_loader):0.1f}%\")\n",
    "    print(f\"Test set accuracy: {100.0 * accuracy(student_model, test_loader):0.1f}%\")\n",
    "\n",
    "    ft_forget_losses = compute_losses(student_model, forget_loader)\n",
    "    ft_test_losses = compute_losses(model, test_loader)\n",
    "\n",
    "    ft_mia_scores = calc_mia_acc(ft_forget_losses, ft_test_losses)\n",
    "\n",
    "    print(\n",
    "        f\"The MIA has an accuracy of {ft_mia_scores.mean():.3f} on forgotten vs unseen images\"\n",
    "    )\n",
    "\n",
    "    return ft_forget_losses, ft_test_losses, ft_mia_scores"
   ]
  },
  {
   "cell_type": "code",
   "execution_count": 158,
   "metadata": {},
   "outputs": [
    {
     "name": "stdout",
     "output_type": "stream",
     "text": [
      "Retain set accuracy: 99.5%\n",
      "Forget set accuracy: 99.3%\n",
      "Val set accuracy: 88.9%\n",
      "Test set accuracy: 88.3%\n"
     ]
    }
   ],
   "source": [
    "print(f\"Retain set accuracy: {100.0 * accuracy(model, retain_loader):0.1f}%\")\n",
    "print(f\"Forget set accuracy: {100.0 * accuracy(model, forget_loader):0.1f}%\")\n",
    "print(f\"Val set accuracy: {100.0 * accuracy(model, val_loader):0.1f}%\")\n",
    "print(f\"Test set accuracy: {100.0 * accuracy(model, test_loader):0.1f}%\")"
   ]
  },
  {
   "cell_type": "code",
   "execution_count": 159,
   "metadata": {},
   "outputs": [
    {
     "data": {
      "image/png": "[encoded data removed]",
      "text/plain": [
       "<Figure size 640x480 with 1 Axes>"
      ]
     },
     "metadata": {},
     "output_type": "display_data"
    }
   ],
   "source": [
    "ft_test_losses = compute_losses(model, test_loader)\n",
    "ft_val_losses = compute_losses(model, val_loader)\n",
    "plt.hist(ft_test_losses, density=True, alpha=0.5, bins=50, label=\"Test set\")\n",
    "plt.xlabel(\"Loss\")\n",
    "plt.yscale(\"log\")\n",
    "plt.xlim((0, np.max(ft_test_losses)))\n",
    "plt.legend()\n",
    "\n",
    "plt.show()"
   ]
  },
  {
   "cell_type": "markdown",
   "metadata": {},
   "source": [
    "## Teacher"
   ]
  },
  {
   "cell_type": "code",
   "execution_count": 160,
   "metadata": {},
   "outputs": [],
   "source": [
    "'''\n",
    "Shuffle retain data\n",
    "'''\n",
    "\n",
    "data_list = []\n",
    "label_list = []\n",
    "\n",
    "for data, label in retain_loader:\n",
    "    data_list.append(data)\n",
    "    label_list.append(label)\n",
    "    \n",
    "all_data = torch.cat(data_list, 0)\n",
    "all_labels = torch.cat(label_list, 0)\n",
    "    \n",
    "combined = list(zip(all_data, all_labels))\n",
    "random.shuffle(combined)\n",
    "shuffled_data, shuffled_labels = zip(*combined)\n",
    "\n",
    "shuffled_data = torch.stack(shuffled_data)\n",
    "shuffled_labels = torch.stack(shuffled_labels)\n",
    "\n",
    "shuffled_dataset = TensorDataset(shuffled_data, shuffled_labels)\n",
    "retain_loader = DataLoader(shuffled_dataset, batch_size=128, shuffle=False)"
   ]
  },
  {
   "cell_type": "code",
   "execution_count": 161,
   "metadata": {},
   "outputs": [],
   "source": [
    "teacher_logits_tensor = torch.zeros(len(retain_loader.dataset), 10)\n",
    "\n",
    "start_idx = 0\n",
    "with torch.no_grad():\n",
    "    for (inputs, labels) in retain_loader:\n",
    "        end_idx = start_idx + inputs.shape[0]\n",
    "        outputs = model(inputs.to(DEVICE))\n",
    "        teacher_logits_tensor[start_idx:end_idx] = outputs.cpu()\n",
    "        start_idx = end_idx\n",
    "\n",
    "# Create a dataloader\n",
    "retain_logit_loader = DataLoader(teacher_logits_tensor, batch_size=128, shuffle=False)\n",
    "\n",
    "\n",
    "teacher_logits_tensor = torch.zeros(len(forget_loader.dataset), 10)\n",
    "\n",
    "start_idx = 0\n",
    "with torch.no_grad():\n",
    "    for (inputs, labels) in forget_loader:\n",
    "        end_idx = start_idx + inputs.shape[0]\n",
    "        outputs = model(inputs.to(DEVICE))\n",
    "        teacher_logits_tensor[start_idx:end_idx] = outputs.cpu()\n",
    "        start_idx = end_idx\n",
    "\n",
    "# Create a dataloader\n",
    "forget_logit_loader = DataLoader(teacher_logits_tensor, batch_size=128, shuffle=False)"
   ]
  },
  {
   "cell_type": "markdown",
   "metadata": {},
   "source": [
    "## Student"
   ]
  },
  {
   "cell_type": "code",
   "execution_count": 162,
   "metadata": {},
   "outputs": [],
   "source": [
    "student_model = resnet18(weights=None, num_classes=10)\n",
    "student_model.load_state_dict(weights_pretrained)\n",
    "student_model.to(DEVICE)\n",
    "\n",
    "# Apply pruning\n",
    "# pct = 0.5\n",
    "# unstructure_prune(student_model, pct, global_pruning=False, random_init=True)\n",
    "\n",
    "# pct = 0.50\n",
    "# unstructure_prune(student_model, pct, global_pruning=False, random_init=True)"
   ]
  },
  {
   "cell_type": "code",
   "execution_count": 163,
   "metadata": {},
   "outputs": [],
   "source": [
    "# student_logits = torch.zeros(len(retain_loader.dataset), 10)\n",
    "\n",
    "# start_idx = 0\n",
    "# with torch.no_grad():\n",
    "#     for (inputs, labels) in retain_loader:\n",
    "#         end_idx = start_idx + inputs.shape[0]\n",
    "#         outputs = student_model(inputs.to(DEVICE))\n",
    "#         student_logits[start_idx:end_idx] = outputs.cpu()\n",
    "#         start_idx = end_idx"
   ]
  },
  {
   "cell_type": "code",
   "execution_count": 164,
   "metadata": {},
   "outputs": [],
   "source": [
    "# plot_teacher_student_outputs(teacher_logits_tensor[3], student_logits[3])"
   ]
  },
  {
   "cell_type": "markdown",
   "metadata": {},
   "source": [
    "## Knowledge distillation"
   ]
  },
  {
   "cell_type": "code",
   "execution_count": 165,
   "metadata": {},
   "outputs": [],
   "source": [
    "def calculate_kl_loss(student_logits, teacher_logits, T=2.0, forget_T=2.0, forget_flag=False):\n",
    "    \n",
    "    teacher_logits = teacher_logits/T\n",
    "\n",
    "    if forget_flag:\n",
    "        teacher_logits = teacher_logits/forget_T\n",
    "        teacher_logits = teacher_logits + 0.05*torch.rand(teacher_logits.shape).to(DEVICE)\n",
    "\n",
    "    # Calculate soft labels from teacher\n",
    "    teacher_probs = F.softmax(teacher_logits, dim=1)\n",
    "\n",
    "    # Compute distillation loss\n",
    "    student_log_probs = F.log_softmax(student_logits/T, dim=1)\n",
    "    distillation_loss = F.kl_div(student_log_probs, teacher_probs, reduction='batchmean') * (T * T)\n",
    "\n",
    "    return distillation_loss"
   ]
  },
  {
   "cell_type": "code",
   "execution_count": 166,
   "metadata": {},
   "outputs": [],
   "source": [
    "# Function to update learning rate\n",
    "def adjust_learning_rate(optimizer, current_batch, total_batches, initial_lr):\n",
    "    \"\"\"Sets the learning rate for warmup over total_batches\"\"\"\n",
    "    lr = initial_lr * (current_batch / total_batches)\n",
    "    for param_group in optimizer.param_groups:\n",
    "        param_group['lr'] = lr"
   ]
  },
  {
   "cell_type": "code",
   "execution_count": 167,
   "metadata": {},
   "outputs": [],
   "source": [
    "alpha = 0.9\n",
    "n_classes = 10\n",
    "T = 2"
   ]
  },
  {
   "cell_type": "code",
   "execution_count": 176,
   "metadata": {},
   "outputs": [],
   "source": [
    "initial_lr = 1e-4\n",
    "total_samples = len(retain_loader.dataset)\n",
    "batch_size = retain_loader.batch_size\n",
    "batches_per_epoch  = math.ceil(total_samples / batch_size)\n",
    "warmup_batches = math.ceil(0.2*batches_per_epoch)\n",
    "warmup_current_batch = 0\n",
    "\n",
    "epochs = 10\n",
    "pct_of_retain_for_ft = 0.1 # Be aware of the % below\n",
    "calc_val_acc_every = 0.02 # Pct of the retrain set\n",
    "forget_KL_CE_ratio = 0.5\n",
    "beta = 1 # Multiplier to CE for gradient ascent\n",
    "\n",
    "criterion = nn.CrossEntropyLoss()\n",
    "optimizer = optim.SGD(student_model.parameters(), lr=initial_lr, momentum=0.9, weight_decay=5e-4)\n",
    "# scheduler = torch.optim.lr_scheduler.CosineAnnealingLR(optimizer, T_max=epochs, eta_min=5e-5)\n",
    "scheduler = torch.optim.lr_scheduler.ReduceLROnPlateau(optimizer, mode='max', factor=0.5, patience=0, min_lr=0, verbose=True)"
   ]
  },
  {
   "cell_type": "code",
   "execution_count": 177,
   "metadata": {},
   "outputs": [
    {
     "name": "stdout",
     "output_type": "stream",
     "text": [
      "0\n",
      "***\n",
      "depleted\n",
      "Val set accuracy: 85.54%\n",
      "1\n",
      "***\n",
      "depleted\n",
      "Val set accuracy: 85.50%\n",
      "Epoch 00002: reducing learning rate of group 0 to 5.0000e-05.\n",
      "2\n",
      "***\n",
      "depleted\n",
      "Val set accuracy: 85.48%\n",
      "Epoch 00003: reducing learning rate of group 0 to 2.5000e-05.\n",
      "3\n",
      "***\n",
      "depleted\n",
      "Val set accuracy: 85.50%\n",
      "Epoch 00004: reducing learning rate of group 0 to 1.2500e-05.\n",
      "4\n",
      "***\n",
      "depleted\n",
      "Val set accuracy: 85.52%\n",
      "Epoch 00005: reducing learning rate of group 0 to 6.2500e-06.\n",
      "5\n",
      "***\n",
      "depleted\n",
      "Val set accuracy: 85.50%\n",
      "Epoch 00006: reducing learning rate of group 0 to 3.1250e-06.\n",
      "6\n",
      "***\n",
      "depleted\n",
      "Val set accuracy: 85.50%\n",
      "Epoch 00007: reducing learning rate of group 0 to 1.5625e-06.\n",
      "7\n",
      "***\n",
      "depleted\n",
      "Val set accuracy: 85.50%\n",
      "Epoch 00008: reducing learning rate of group 0 to 7.8125e-07.\n",
      "8\n",
      "***\n",
      "depleted\n",
      "Val set accuracy: 85.52%\n",
      "Epoch 00009: reducing learning rate of group 0 to 3.9063e-07.\n",
      "9\n",
      "***\n",
      "depleted\n",
      "Val set accuracy: 85.50%\n",
      "Epoch 00010: reducing learning rate of group 0 to 1.9531e-07.\n"
     ]
    }
   ],
   "source": [
    "student_model.train()\n",
    "\n",
    "for ep in range(epochs):\n",
    "    print(ep)\n",
    "    print('***')\n",
    "\n",
    "    # Initialize flag for depleted iterator\n",
    "    depleted = False\n",
    "\n",
    "    # Initialize iterators at the beginning of each epoch\n",
    "    current_batch = 0\n",
    "    best_val_acc = 100\n",
    "    iter_retain = iter(retain_loader)\n",
    "    iter_teacher_retain = iter(retain_logit_loader)\n",
    "\n",
    "\n",
    "    ''' Retain fine-tuning '''\n",
    "\n",
    "    while not depleted:\n",
    "\n",
    "        try:\n",
    "            batch = next(iter_retain)\n",
    "            teacher_logits = next(iter_teacher_retain)\n",
    "            \n",
    "        except StopIteration:\n",
    "            depleted = True\n",
    "            print('depleted')\n",
    "            break  # Skip to the next iteration\n",
    "\n",
    "        # Only use a % of the retain set\n",
    "        if torch.multinomial(torch.tensor([pct_of_retain_for_ft,1-pct_of_retain_for_ft], dtype=torch.float32), 1).item() > 0.5:\n",
    "            continue\n",
    "\n",
    "        inputs, targets = batch                \n",
    "        inputs, targets = inputs.to(DEVICE), targets.to(DEVICE)\n",
    "\n",
    "        current_batch += 1\n",
    "        warmup_current_batch += 1\n",
    "        # Warm-up for the first 'warmup_batches' batches\n",
    "        if warmup_current_batch <= warmup_batches:\n",
    "            adjust_learning_rate(optimizer, warmup_current_batch, warmup_batches, initial_lr)\n",
    "\n",
    "        optimizer.zero_grad()\n",
    "        \n",
    "        # Forward pass student\n",
    "        student_logits = student_model(inputs)\n",
    "\n",
    "        # Calculate soft labels from teacher\n",
    "        teacher_probs = F.softmax(teacher_logits/T, dim=1)\n",
    "\n",
    "        # Compute distillation loss\n",
    "        student_log_probs = F.log_softmax(student_logits/T, dim=1).to('cpu')\n",
    "        distillation_loss = F.kl_div(student_log_probs, teacher_probs, reduction='batchmean') * (T * T)\n",
    "\n",
    "        # Compute the classification loss\n",
    "        criterion = nn.CrossEntropyLoss()\n",
    "        classification_loss = criterion(student_logits, targets)\n",
    "        loss = alpha*distillation_loss + (1-alpha)*classification_loss\n",
    "        loss.backward()\n",
    "        optimizer.step()\n",
    "\n",
    "        # if current_batch%(math.ceil(calc_val_acc_every*batches_per_epoch)-1)==0:\n",
    "\n",
    "        #     with torch.no_grad():\n",
    "        #         student_model.eval()\n",
    "\n",
    "        #         val_acc = accuracy(student_model, val_loader)\n",
    "        #         print(f\"Val set accuracy: {100.0 * val_acc:0.2f}%\")\n",
    "\n",
    "        #         ft_forget_losses = compute_losses(student_model, forget_loader)\n",
    "        #         ft_mia_scores = calc_mia_acc(ft_forget_losses, ft_val_losses)\n",
    "        #         print(f\"MIA accuracy: {100.0 * ft_mia_scores:0.2f}%\")\n",
    "\n",
    "        #         total_acc = val_acc*np.abs(ft_mia_scores - 0.5)\n",
    "        #         print(f\"Total accuracy: {100.0 * total_acc:0.2f}%\")\n",
    "\n",
    "        #         if total_acc > best_val_acc:\n",
    "        #             # Restore model to previous checkpoint\n",
    "        #             print('Restoring')\n",
    "        #             checkpoint = torch.load(f'./checkpoints/temp_checkpoint.pth')\n",
    "        #             student_model.load_state_dict(checkpoint['model'])\n",
    "        #             optimizer.load_state_dict(checkpoint['optimizer'])\n",
    "        #             # pct = 0.15\n",
    "        #             # unstructure_prune(student_model, pct, global_pruning=False, random_init=False)\n",
    "        #             break\n",
    "        #         else:\n",
    "        #             best_val_acc = total_acc\n",
    "        #             # Save checkpoint\n",
    "        #             print('Saving')\n",
    "        #             torch.save({\n",
    "        #                 'optimizer': optimizer.state_dict(),\n",
    "        #                 'model': student_model.state_dict(),\n",
    "        #             }, f'./checkpoints/temp_checkpoint.pth')\n",
    "        #     student_model.train()\n",
    "\n",
    "\n",
    "    ''' Forget fine-tuning '''\n",
    "\n",
    "    if ep!= epochs-1:\n",
    "\n",
    "        student_model.train()\n",
    "        forget_batches = len(forget_loader.dataset)\n",
    "        forget_counter = 1\n",
    "\n",
    "        for sample in forget_loader:\n",
    "\n",
    "            inputs, targets = sample\n",
    "            inputs, targets = inputs.to(DEVICE), targets.to(DEVICE)\n",
    "\n",
    "            warmup_current_batch += 1\n",
    "            forget_counter+=1\n",
    "\n",
    "            # Warm-up for the first 'warmup_batches' batches\n",
    "            if warmup_current_batch <= warmup_batches:\n",
    "                adjust_learning_rate(optimizer, warmup_current_batch, warmup_batches, initial_lr)\n",
    "\n",
    "            optimizer.zero_grad()\n",
    "\n",
    "            # Forward pass student\n",
    "            student_logits = student_model(inputs)\n",
    "\n",
    "            # Calculate losses\n",
    "            # distillation_loss = calculate_kl_loss(student_logits, teacher_logits, T=T, forget_T=2.0, forget_flag=False)\n",
    "            criterion = nn.CrossEntropyLoss()\n",
    "            classification_loss = criterion(student_logits, targets)\n",
    "\n",
    "            # if torch.multinomial(torch.tensor([forget_KL_CE_ratio,1-forget_KL_CE_ratio], dtype=torch.float32), 1).item() < 0.5:\n",
    "            # loss = -beta*distillation_loss\n",
    "            # else:\n",
    "            loss = -beta*classification_loss\n",
    "\n",
    "            loss.backward()\n",
    "            optimizer.step()\n",
    "\n",
    "    #         if forget_counter%math.ceil(0.3*forget_batches/batch_size)==0:\n",
    "    #             with torch.no_grad():\n",
    "    #                 student_model.eval()\n",
    "    #                 val_acc = accuracy(student_model, val_loader)\n",
    "    #                 if val_acc > 0.15:\n",
    "    #                     torch.save({\n",
    "    #                         'optimizer': optimizer.state_dict(),\n",
    "    #                         'model': student_model.state_dict(),\n",
    "    #                     }, f'./checkpoints/temp_checkpoint.pth')\n",
    "    #                     print(val_acc)\n",
    "                        \n",
    "    #                 else:\n",
    "    #                     checkpoint = torch.load(f'./checkpoints/temp_checkpoint.pth')\n",
    "    #                     student_model.load_state_dict(checkpoint['model'])\n",
    "    #                     optimizer.load_state_dict(checkpoint['optimizer'])\n",
    "    #                     print('restoring')\n",
    "    #                     print(accuracy(student_model, val_loader))\n",
    "    #                     break\n",
    "\n",
    "    # if ep!= epochs-1:\n",
    "\n",
    "    #     for (inputs, targets), teacher_logits in zip(forget_loader, forget_logit_loader):\n",
    "    #         inputs, targets = inputs.to(DEVICE), targets.to(DEVICE)\n",
    "\n",
    "    #         optimizer.zero_grad()\n",
    "            \n",
    "    #         # Forward pass student\n",
    "    #         student_logits = student_model(inputs)\n",
    "\n",
    "    #         # Calculate soft labels from teacher\n",
    "    #         teacher_probs = F.softmax(teacher_logits/T/2.0  + 0.05*torch.rand(teacher_logits.shape), dim=1)\n",
    "\n",
    "    #         # Compute distillation loss\n",
    "    #         student_log_probs = F.log_softmax(student_logits/T, dim=1).to('cpu')\n",
    "    #         distillation_loss = F.kl_div(student_log_probs, teacher_probs, reduction='batchmean') * (T * T)\n",
    "\n",
    "    #         # Compute the classification loss\n",
    "    #         criterion = nn.CrossEntropyLoss(label_smoothing=0.1)\n",
    "    #         classification_loss = criterion(student_logits, targets)\n",
    "\n",
    "    #         if torch.multinomial(torch.tensor([1-forget_KL_CE_ratio,forget_KL_CE_ratio], dtype=torch.float32), 1).item() < 0.5:\n",
    "    #             loss = distillation_loss # - 0.9 * classification_loss\n",
    "    #         else:\n",
    "    #             loss = -beta*classification_loss\n",
    "    #         loss.backward()\n",
    "    #         optimizer.step()\n",
    "\n",
    "    val_acc = accuracy(student_model, val_loader)\n",
    "        # if val_acc < 0.15:\n",
    "        #     checkpoint = torch.load(f'./checkpoints/temp_checkpoint.pth')\n",
    "        #     student_model.load_state_dict(checkpoint['model'])\n",
    "        #     optimizer.load_state_dict(checkpoint['optimizer'])\n",
    "        #     print('restoring')\n",
    "    print(f\"Val set accuracy: {100.0 * val_acc:0.2f}%\")\n",
    "\n",
    "        # ft_forget_losses = compute_losses(student_model, forget_loader)\n",
    "        # ft_mia_scores = calc_mia_acc(ft_forget_losses, ft_val_losses)\n",
    "        # print(f\"MIA accuracy: {100.0 * ft_mia_scores:0.2f}%\")\n",
    "\n",
    "        # total_acc = val_acc*np.abs(ft_mia_scores - 0.5)\n",
    "        # print(f\"Total accuracy: {100.0 * total_acc:0.2f}%\")\n",
    "        # print('--'*5)\n",
    "\n",
    "    scheduler.step(val_acc)"
   ]
  },
  {
   "cell_type": "markdown",
   "metadata": {},
   "source": []
  },
  {
   "cell_type": "code",
   "execution_count": 183,
   "metadata": {},
   "outputs": [
    {
     "name": "stdout",
     "output_type": "stream",
     "text": [
      "a\n"
     ]
    }
   ],
   "source": [
    "if (epochs<15) & (ep>5):\n",
    "    print('a')"
   ]
  },
  {
   "cell_type": "code",
   "execution_count": 182,
   "metadata": {},
   "outputs": [
    {
     "data": {
      "text/plain": [
       "9"
      ]
     },
     "execution_count": 182,
     "metadata": {},
     "output_type": "execute_result"
    }
   ],
   "source": [
    "ep"
   ]
  },
  {
   "cell_type": "code",
   "execution_count": 170,
   "metadata": {},
   "outputs": [
    {
     "name": "stdout",
     "output_type": "stream",
     "text": [
      "Retain set accuracy: 97.6%\n",
      "Forget set accuracy: 94.0%\n",
      "Val set accuracy: 85.8%\n",
      "Test set accuracy: 86.2%\n",
      "The MIA has an accuracy of 0.537 on forgotten vs unseen images\n"
     ]
    }
   ],
   "source": [
    "ft_forget_losses, ft_test_losses, ft_mia_scores = get_all_metrics(model, student_model, retain_loader, forget_loader, val_loader, test_loader)"
   ]
  },
  {
   "cell_type": "code",
   "execution_count": 171,
   "metadata": {},
   "outputs": [
    {
     "data": {
      "image/png": "[encoded data removed]",
      "text/plain": [
       "<Figure size 640x480 with 1 Axes>"
      ]
     },
     "metadata": {},
     "output_type": "display_data"
    }
   ],
   "source": [
    "fig = plt.Figure(figsize=(16, 6))\n",
    "\n",
    "plt.title(\n",
    "    f\"Unlearned by fine-tuning.\\nAttack accuracy: {ft_mia_scores.mean():0.2f}\"\n",
    ")\n",
    "plt.hist(ft_val_losses, density=True, alpha=0.5, bins=50, label=\"Test set\")\n",
    "plt.hist(ft_forget_losses, density=True, alpha=0.5, bins=50, label=\"Forget set\")\n",
    "\n",
    "plt.xlabel(\"Loss\")\n",
    "plt.yscale(\"log\")\n",
    "plt.xlim((0, np.max(ft_val_losses)))\n",
    "plt.legend()\n",
    "\n",
    "plt.show()"
   ]
  },
  {
   "cell_type": "code",
   "execution_count": 172,
   "metadata": {},
   "outputs": [],
   "source": [
    "student_logits = torch.zeros(len(retain_loader.dataset), 10)\n",
    "\n",
    "start_idx = 0\n",
    "with torch.no_grad():\n",
    "    for (inputs, labels) in retain_loader:\n",
    "        end_idx = start_idx + inputs.shape[0]\n",
    "        outputs = student_model(inputs.to(DEVICE))\n",
    "        student_logits[start_idx:end_idx] = outputs.cpu()\n",
    "        start_idx = end_idx"
   ]
  },
  {
   "cell_type": "code",
   "execution_count": 173,
   "metadata": {},
   "outputs": [
    {
     "data": {
      "image/png": "[encoded data removed]",
      "text/plain": [
       "<Figure size 640x480 with 1 Axes>"
      ]
     },
     "metadata": {},
     "output_type": "display_data"
    }
   ],
   "source": [
    "plot_teacher_student_outputs(teacher_logits_tensor[10], student_logits[10])"
   ]
  }
 ],
 "metadata": {
  "kernelspec": {
   "display_name": "Python 3",
   "language": "python",
   "name": "python3"
  },
  "language_info": {
   "codemirror_mode": {
    "name": "ipython",
    "version": 3
   },
   "file_extension": ".py",
   "mimetype": "text/x-python",
   "name": "python",
   "nbconvert_exporter": "python",
   "pygments_lexer": "ipython3",
   "version": "3.10.5"
  },
  "orig_nbformat": 4
 },
 "nbformat": 4,
 "nbformat_minor": 2
}
